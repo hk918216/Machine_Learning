{
 "cells": [
  {
   "cell_type": "code",
   "execution_count": 1,
   "id": "491c5828",
   "metadata": {},
   "outputs": [],
   "source": [
    "import numpy as np"
   ]
  },
  {
   "cell_type": "markdown",
   "id": "e4cf4ada",
   "metadata": {},
   "source": [
    "### 도미와 빙어 길이 무게 데이터 생성 및 합치기"
   ]
  },
  {
   "cell_type": "code",
   "execution_count": 2,
   "id": "34549e70",
   "metadata": {},
   "outputs": [
    {
     "name": "stdout",
     "output_type": "stream",
     "text": [
      "[25.4, 26.3, 26.5, 29.0, 29.0, 29.7, 29.7, 30.0, 30.0, 30.7, 31.0, 31.0, 31.5, 32.0, 32.0, 32.0, 33.0, 33.0, 33.5, 33.5, 34.0, 34.0, 34.5, 35.0, 35.0, 35.0, 35.0, 36.0, 36.0, 37.0, 38.5, 38.5, 39.5, 41.0, 41.0, 9.8, 10.5, 10.6, 11.0, 11.2, 11.3, 11.8, 11.8, 12.0, 12.2, 12.4, 13.0, 14.3, 15.0]\n",
      "[242.0, 290.0, 340.0, 363.0, 430.0, 450.0, 500.0, 390.0, 450.0, 500.0, 475.0, 500.0, 500.0, 340.0, 600.0, 600.0, 700.0, 700.0, 610.0, 650.0, 575.0, 685.0, 620.0, 680.0, 700.0, 725.0, 720.0, 714.0, 850.0, 1000.0, 920.0, 955.0, 925.0, 975.0, 950.0, 6.7, 7.5, 7.0, 9.7, 9.8, 8.7, 10.0, 9.9, 9.8, 12.2, 13.4, 12.2, 19.7, 19.9]\n"
     ]
    }
   ],
   "source": [
    "# - 도미 길이\n",
    "bream_length = [25.4, 26.3, 26.5, 29.0, 29.0, 29.7, 29.7, 30.0, \n",
    "                30.0, 30.7, 31.0, 31.0, 31.5, 32.0, 32.0, 32.0, \n",
    "                33.0, 33.0, 33.5, 33.5, 34.0, 34.0, 34.5, 35.0, \n",
    "                35.0, 35.0, 35.0, 36.0, 36.0, 37.0, 38.5, 38.5, \n",
    "                39.5, 41.0, 41.0]\n",
    "\n",
    "# - 도미 무게\n",
    "bream_weight = [242.0, 290.0, 340.0, 363.0, 430.0, 450.0, 500.0, \n",
    "                390.0, 450.0, 500.0, 475.0, 500.0, 500.0, 340.0, \n",
    "                600.0, 600.0, 700.0, 700.0, 610.0, 650.0, 575.0, \n",
    "                685.0, 620.0, 680.0, 700.0, 725.0, 720.0, 714.0, \n",
    "                850.0, 1000.0, 920.0, 955.0, 925.0, 975.0, 950.0]\n",
    "\n",
    "# - 빙어 길이\n",
    "smelt_length = [9.8, 10.5, 10.6, 11.0, 11.2, 11.3, 11.8, 11.8, 12.0, 12.2, 12.4, 13.0, 14.3, 15.0]\n",
    "\n",
    "# - 빙어 무게\n",
    "smelt_weight = [6.7, 7.5, 7.0, 9.7, 9.8, 8.7, 10.0, 9.9, 9.8, 12.2, 13.4, 12.2, 19.7, 19.9]\n",
    "\n",
    "# 도미와 빙어의 길이 데이터 합치기\n",
    "length = bream_length + smelt_length\n",
    "# 도미와 빙어의 무게 데이터 합치기\n",
    "weight = bream_weight + smelt_weight\n",
    "\n",
    "print(length)\n",
    "print(weight)"
   ]
  },
  {
   "cell_type": "markdown",
   "id": "539e6d5d",
   "metadata": {},
   "source": [
    "### 도미와 빙어 길이 합친 데이터와 무게 합친 데이터에서 각각 하나씩 뽑아 새로운 2차원 리스트 생성\n"
   ]
  },
  {
   "cell_type": "code",
   "execution_count": 3,
   "id": "f1b3bbc4",
   "metadata": {},
   "outputs": [
    {
     "data": {
      "text/plain": [
       "[[25.4, 242.0],\n",
       " [26.3, 290.0],\n",
       " [26.5, 340.0],\n",
       " [29.0, 363.0],\n",
       " [29.0, 430.0],\n",
       " [29.7, 450.0],\n",
       " [29.7, 500.0],\n",
       " [30.0, 390.0],\n",
       " [30.0, 450.0],\n",
       " [30.7, 500.0],\n",
       " [31.0, 475.0],\n",
       " [31.0, 500.0],\n",
       " [31.5, 500.0],\n",
       " [32.0, 340.0],\n",
       " [32.0, 600.0],\n",
       " [32.0, 600.0],\n",
       " [33.0, 700.0],\n",
       " [33.0, 700.0],\n",
       " [33.5, 610.0],\n",
       " [33.5, 650.0],\n",
       " [34.0, 575.0],\n",
       " [34.0, 685.0],\n",
       " [34.5, 620.0],\n",
       " [35.0, 680.0],\n",
       " [35.0, 700.0],\n",
       " [35.0, 725.0],\n",
       " [35.0, 720.0],\n",
       " [36.0, 714.0],\n",
       " [36.0, 850.0],\n",
       " [37.0, 1000.0],\n",
       " [38.5, 920.0],\n",
       " [38.5, 955.0],\n",
       " [39.5, 925.0],\n",
       " [41.0, 975.0],\n",
       " [41.0, 950.0],\n",
       " [9.8, 6.7],\n",
       " [10.5, 7.5],\n",
       " [10.6, 7.0],\n",
       " [11.0, 9.7],\n",
       " [11.2, 9.8],\n",
       " [11.3, 8.7],\n",
       " [11.8, 10.0],\n",
       " [11.8, 9.9],\n",
       " [12.0, 9.8],\n",
       " [12.2, 12.2],\n",
       " [12.4, 13.4],\n",
       " [13.0, 12.2],\n",
       " [14.3, 19.7],\n",
       " [15.0, 19.9]]"
      ]
     },
     "execution_count": 3,
     "metadata": {},
     "output_type": "execute_result"
    }
   ],
   "source": [
    "# 방법1\n",
    "fish_data = [[leng, wei] for leng, wei in zip(length, weight)]\n",
    "fish_data"
   ]
  },
  {
   "cell_type": "code",
   "execution_count": 4,
   "id": "d1c38544",
   "metadata": {},
   "outputs": [],
   "source": [
    "# 방법2\n",
    "fish_data = np.column_stack((length, weight))"
   ]
  },
  {
   "cell_type": "markdown",
   "id": "398df90b",
   "metadata": {},
   "source": [
    "### 정답 변수 생성하기\n",
    "#### 도미(1), 빙어(0). \n",
    "#### 도미가 35개라서 1을 35개 생성 나머지 14개 0으로"
   ]
  },
  {
   "cell_type": "code",
   "execution_count": 5,
   "id": "a9e27fd1",
   "metadata": {},
   "outputs": [],
   "source": [
    "### Numpy를 이용해서 1과 0의 임의 값 만들기\n",
    "# - 튜플 형태로 만들어야 함\n",
    "fish_target = np.concatenate((np.ones(35), np.zeros(14)))"
   ]
  },
  {
   "cell_type": "markdown",
   "id": "e43ccb19",
   "metadata": {},
   "source": [
    "### 훈련데이터세트와 테스트데이터세트 만들기\n",
    "##### - 훈련데이터세트 : 독립변수의 훈련데이터와 target 데이터 생성\n",
    "##### - 테스트데이터세트 : 독립변수의 테스트데이터와 target 데이터 생성\n",
    "\n",
    "##### - train_input, train_target : 훈련에 사용\n",
    "##### - test_input, test_target : 평가 및 예측에 사용"
   ]
  },
  {
   "cell_type": "markdown",
   "id": "881e928b",
   "metadata": {},
   "source": [
    "------"
   ]
  },
  {
   "cell_type": "markdown",
   "id": "6b6212af",
   "metadata": {},
   "source": [
    "### fish_data와 fish_target 각각 2차원 1차원 데이터로"
   ]
  },
  {
   "cell_type": "code",
   "execution_count": 6,
   "id": "e5bd2d59",
   "metadata": {},
   "outputs": [
    {
     "name": "stdout",
     "output_type": "stream",
     "text": [
      "(49, 2)\n",
      "(49,)\n"
     ]
    }
   ],
   "source": [
    "input_arr = np.array(fish_data)\n",
    "target_arr =np.array(fish_target)\n",
    "\n",
    "# 차원확인\n",
    "print(input_arr.shape)\n",
    "print(target_arr.shape)"
   ]
  },
  {
   "cell_type": "markdown",
   "id": "6a20d0f0",
   "metadata": {},
   "source": [
    "### 배열(리스트) 데이터 섞기\n",
    "### 섞어서 임의의 35개의 훈련데이터와 14개의 테스트데이터 만들기\n",
    "#### 섞은 뒤 인덱스 번호 뽑기"
   ]
  },
  {
   "cell_type": "code",
   "execution_count": 7,
   "id": "b86c0473",
   "metadata": {},
   "outputs": [
    {
     "name": "stdout",
     "output_type": "stream",
     "text": [
      "(섞기 전)index =  [ 0  1  2  3  4  5  6  7  8  9 10 11 12 13 14 15 16 17 18 19 20 21 22 23\n",
      " 24 25 26 27 28 29 30 31 32 33 34 35 36 37 38 39 40 41 42 43 44 45 46 47\n",
      " 48]\n",
      "---------------------------\n",
      "(섞은 후)index =  [13 45 47 44 17 27 26 25 31 19 12  4 34  8  3  6 40 41 46 15  9 16 24 33\n",
      " 30  0 43 32  5 29 11 36  1 21  2 37 35 23 39 10 22 18 48 20  7 42 14 28\n",
      " 38]\n"
     ]
    }
   ],
   "source": [
    "# 방법1 : shuffle() 사용\n",
    "np.random.seed(42)\n",
    "# 0~48까지의 순차적인 번호 생성하기\n",
    "index = np.arange(49)\n",
    "print('(섞기 전)index = ', index)\n",
    "print('---------------------------')\n",
    "\n",
    "# 0~48까지의 순차적인 번호를 섞기\n",
    "# 아직 데이터는 그대로\n",
    "np.random.shuffle(index)\n",
    "print('(섞은 후)index = ', index)\n"
   ]
  },
  {
   "cell_type": "markdown",
   "id": "b72bf1b1",
   "metadata": {},
   "source": [
    "- 훈련데이터 생성"
   ]
  },
  {
   "cell_type": "code",
   "execution_count": 8,
   "id": "63518ba2",
   "metadata": {},
   "outputs": [],
   "source": [
    "train_input = input_arr[index[:35]]\n",
    "train_target = target_arr[index[:35]]"
   ]
  },
  {
   "cell_type": "markdown",
   "id": "f2a17273",
   "metadata": {},
   "source": [
    "- 테스트데이터 생성"
   ]
  },
  {
   "cell_type": "code",
   "execution_count": 9,
   "id": "6bc6309f",
   "metadata": {},
   "outputs": [],
   "source": [
    "test_input = input_arr[index[35:]]\n",
    "test_target = target_arr[index[35:]]"
   ]
  },
  {
   "cell_type": "code",
   "execution_count": 10,
   "id": "d67a0083",
   "metadata": {},
   "outputs": [],
   "source": [
    "# 방법2\n",
    "from sklearn.model_selection import train_test_split\n",
    "\n",
    "train_input, test_input, train_target, test_target = train_test_split(fish_data, fish_target, test_size = 0.25, random_state=42)"
   ]
  },
  {
   "cell_type": "code",
   "execution_count": 11,
   "id": "e0dd14b7",
   "metadata": {},
   "outputs": [],
   "source": [
    "### 샘플링 편향을 최소화 하기 위한 방법으로\n",
    "# - stratify 속성 사용\n",
    "# - 속성에는 기준값을 넣는다(보통 종속데이터)\n",
    "# - 종속데이터의 분류 값을 기준으로 test_size의 비율로 섞어줌\n",
    "train_input, test_input, train_target, test_target = train_test_split(fish_data, fish_target, stratify = fish_target,\n",
    "                                                                      test_size = 0.25, random_state=42)"
   ]
  },
  {
   "cell_type": "code",
   "execution_count": 12,
   "id": "1d98e2a9",
   "metadata": {},
   "outputs": [
    {
     "data": {
      "text/plain": [
       "array([[  29.7,  500. ],\n",
       "       [  12.2,   12.2],\n",
       "       [  33. ,  700. ],\n",
       "       [  11.3,    8.7],\n",
       "       [  39.5,  925. ],\n",
       "       [  29. ,  430. ],\n",
       "       [  36. ,  714. ],\n",
       "       [  36. ,  850. ],\n",
       "       [  31. ,  475. ],\n",
       "       [  35. ,  720. ],\n",
       "       [  37. , 1000. ],\n",
       "       [  11.2,    9.8],\n",
       "       [  34.5,  620. ],\n",
       "       [  12. ,    9.8],\n",
       "       [  29. ,  363. ],\n",
       "       [  33. ,  700. ],\n",
       "       [  30.7,  500. ],\n",
       "       [  38.5,  955. ],\n",
       "       [  33.5,  650. ],\n",
       "       [  14.3,   19.7],\n",
       "       [  31.5,  500. ],\n",
       "       [  25.4,  242. ],\n",
       "       [   9.8,    6.7],\n",
       "       [  32. ,  600. ],\n",
       "       [  10.5,    7.5],\n",
       "       [  33.5,  610. ],\n",
       "       [  10.6,    7. ],\n",
       "       [  35. ,  700. ],\n",
       "       [  32. ,  600. ],\n",
       "       [  35. ,  725. ],\n",
       "       [  13. ,   12.2],\n",
       "       [  30. ,  450. ],\n",
       "       [  32. ,  340. ],\n",
       "       [  15. ,   19.9],\n",
       "       [  30. ,  390. ],\n",
       "       [  41. ,  975. ]])"
      ]
     },
     "execution_count": 12,
     "metadata": {},
     "output_type": "execute_result"
    }
   ],
   "source": [
    "train_input"
   ]
  },
  {
   "cell_type": "markdown",
   "id": "c052447d",
   "metadata": {},
   "source": [
    "### 객체생성, 훈련, 정확도 확인, 예측"
   ]
  },
  {
   "cell_type": "code",
   "execution_count": 13,
   "id": "5bc8f402",
   "metadata": {},
   "outputs": [],
   "source": [
    "from sklearn.neighbors import KNeighborsClassifier"
   ]
  },
  {
   "cell_type": "code",
   "execution_count": 14,
   "id": "bf0529af",
   "metadata": {},
   "outputs": [],
   "source": [
    "kn = KNeighborsClassifier()"
   ]
  },
  {
   "cell_type": "code",
   "execution_count": 15,
   "id": "331f4d49",
   "metadata": {},
   "outputs": [
    {
     "data": {
      "text/html": [
       "<style>#sk-container-id-1 {color: black;background-color: white;}#sk-container-id-1 pre{padding: 0;}#sk-container-id-1 div.sk-toggleable {background-color: white;}#sk-container-id-1 label.sk-toggleable__label {cursor: pointer;display: block;width: 100%;margin-bottom: 0;padding: 0.3em;box-sizing: border-box;text-align: center;}#sk-container-id-1 label.sk-toggleable__label-arrow:before {content: \"▸\";float: left;margin-right: 0.25em;color: #696969;}#sk-container-id-1 label.sk-toggleable__label-arrow:hover:before {color: black;}#sk-container-id-1 div.sk-estimator:hover label.sk-toggleable__label-arrow:before {color: black;}#sk-container-id-1 div.sk-toggleable__content {max-height: 0;max-width: 0;overflow: hidden;text-align: left;background-color: #f0f8ff;}#sk-container-id-1 div.sk-toggleable__content pre {margin: 0.2em;color: black;border-radius: 0.25em;background-color: #f0f8ff;}#sk-container-id-1 input.sk-toggleable__control:checked~div.sk-toggleable__content {max-height: 200px;max-width: 100%;overflow: auto;}#sk-container-id-1 input.sk-toggleable__control:checked~label.sk-toggleable__label-arrow:before {content: \"▾\";}#sk-container-id-1 div.sk-estimator input.sk-toggleable__control:checked~label.sk-toggleable__label {background-color: #d4ebff;}#sk-container-id-1 div.sk-label input.sk-toggleable__control:checked~label.sk-toggleable__label {background-color: #d4ebff;}#sk-container-id-1 input.sk-hidden--visually {border: 0;clip: rect(1px 1px 1px 1px);clip: rect(1px, 1px, 1px, 1px);height: 1px;margin: -1px;overflow: hidden;padding: 0;position: absolute;width: 1px;}#sk-container-id-1 div.sk-estimator {font-family: monospace;background-color: #f0f8ff;border: 1px dotted black;border-radius: 0.25em;box-sizing: border-box;margin-bottom: 0.5em;}#sk-container-id-1 div.sk-estimator:hover {background-color: #d4ebff;}#sk-container-id-1 div.sk-parallel-item::after {content: \"\";width: 100%;border-bottom: 1px solid gray;flex-grow: 1;}#sk-container-id-1 div.sk-label:hover label.sk-toggleable__label {background-color: #d4ebff;}#sk-container-id-1 div.sk-serial::before {content: \"\";position: absolute;border-left: 1px solid gray;box-sizing: border-box;top: 0;bottom: 0;left: 50%;z-index: 0;}#sk-container-id-1 div.sk-serial {display: flex;flex-direction: column;align-items: center;background-color: white;padding-right: 0.2em;padding-left: 0.2em;position: relative;}#sk-container-id-1 div.sk-item {position: relative;z-index: 1;}#sk-container-id-1 div.sk-parallel {display: flex;align-items: stretch;justify-content: center;background-color: white;position: relative;}#sk-container-id-1 div.sk-item::before, #sk-container-id-1 div.sk-parallel-item::before {content: \"\";position: absolute;border-left: 1px solid gray;box-sizing: border-box;top: 0;bottom: 0;left: 50%;z-index: -1;}#sk-container-id-1 div.sk-parallel-item {display: flex;flex-direction: column;z-index: 1;position: relative;background-color: white;}#sk-container-id-1 div.sk-parallel-item:first-child::after {align-self: flex-end;width: 50%;}#sk-container-id-1 div.sk-parallel-item:last-child::after {align-self: flex-start;width: 50%;}#sk-container-id-1 div.sk-parallel-item:only-child::after {width: 0;}#sk-container-id-1 div.sk-dashed-wrapped {border: 1px dashed gray;margin: 0 0.4em 0.5em 0.4em;box-sizing: border-box;padding-bottom: 0.4em;background-color: white;}#sk-container-id-1 div.sk-label label {font-family: monospace;font-weight: bold;display: inline-block;line-height: 1.2em;}#sk-container-id-1 div.sk-label-container {text-align: center;}#sk-container-id-1 div.sk-container {/* jupyter's `normalize.less` sets `[hidden] { display: none; }` but bootstrap.min.css set `[hidden] { display: none !important; }` so we also need the `!important` here to be able to override the default hidden behavior on the sphinx rendered scikit-learn.org. See: https://github.com/scikit-learn/scikit-learn/issues/21755 */display: inline-block !important;position: relative;}#sk-container-id-1 div.sk-text-repr-fallback {display: none;}</style><div id=\"sk-container-id-1\" class=\"sk-top-container\"><div class=\"sk-text-repr-fallback\"><pre>KNeighborsClassifier()</pre><b>In a Jupyter environment, please rerun this cell to show the HTML representation or trust the notebook. <br />On GitHub, the HTML representation is unable to render, please try loading this page with nbviewer.org.</b></div><div class=\"sk-container\" hidden><div class=\"sk-item\"><div class=\"sk-estimator sk-toggleable\"><input class=\"sk-toggleable__control sk-hidden--visually\" id=\"sk-estimator-id-1\" type=\"checkbox\" checked><label for=\"sk-estimator-id-1\" class=\"sk-toggleable__label sk-toggleable__label-arrow\">KNeighborsClassifier</label><div class=\"sk-toggleable__content\"><pre>KNeighborsClassifier()</pre></div></div></div></div></div>"
      ],
      "text/plain": [
       "KNeighborsClassifier()"
      ]
     },
     "execution_count": 15,
     "metadata": {},
     "output_type": "execute_result"
    }
   ],
   "source": [
    "kn.fit(train_input, train_target)"
   ]
  },
  {
   "cell_type": "code",
   "execution_count": 16,
   "id": "fd64c248",
   "metadata": {},
   "outputs": [
    {
     "name": "stderr",
     "output_type": "stream",
     "text": [
      "C:\\Users\\admin\\AppData\\Local\\Programs\\Python\\Python310\\lib\\site-packages\\sklearn\\neighbors\\_classification.py:237: FutureWarning: Unlike other reduction functions (e.g. `skew`, `kurtosis`), the default behavior of `mode` typically preserves the axis it acts along. In SciPy 1.11.0, this behavior will change: the default value of `keepdims` will become False, the `axis` over which the statistic is taken will be eliminated, and the value None will no longer be accepted. Set `keepdims` to True or False to avoid this warning.\n",
      "  mode, _ = stats.mode(_y[neigh_ind, k], axis=1)\n"
     ]
    },
    {
     "data": {
      "text/plain": [
       "1.0"
      ]
     },
     "execution_count": 16,
     "metadata": {},
     "output_type": "execute_result"
    }
   ],
   "source": [
    "kn.score(test_input, test_target)"
   ]
  },
  {
   "cell_type": "code",
   "execution_count": 17,
   "id": "97a67e3e",
   "metadata": {},
   "outputs": [
    {
     "name": "stderr",
     "output_type": "stream",
     "text": [
      "C:\\Users\\admin\\AppData\\Local\\Programs\\Python\\Python310\\lib\\site-packages\\sklearn\\neighbors\\_classification.py:237: FutureWarning: Unlike other reduction functions (e.g. `skew`, `kurtosis`), the default behavior of `mode` typically preserves the axis it acts along. In SciPy 1.11.0, this behavior will change: the default value of `keepdims` will become False, the `axis` over which the statistic is taken will be eliminated, and the value None will no longer be accepted. Set `keepdims` to True or False to avoid this warning.\n",
      "  mode, _ = stats.mode(_y[neigh_ind, k], axis=1)\n"
     ]
    },
    {
     "data": {
      "text/plain": [
       "array([1.])"
      ]
     },
     "execution_count": 17,
     "metadata": {},
     "output_type": "execute_result"
    }
   ],
   "source": [
    "kn.predict([[35, 200]])  # 결고 = 1  => 도미"
   ]
  },
  {
   "cell_type": "markdown",
   "id": "5bb7c5fd",
   "metadata": {},
   "source": [
    "### 이웃모델찾기"
   ]
  },
  {
   "cell_type": "code",
   "execution_count": 18,
   "id": "679b139b",
   "metadata": {},
   "outputs": [
    {
     "name": "stdout",
     "output_type": "stream",
     "text": [
      "[[ 43.08317537 140.03213917 163.11039207 181.20709147 181.48437949]]\n",
      "[[21 32 14 33 19]]\n"
     ]
    }
   ],
   "source": [
    "distances, indexes = kn.kneighbors([[35, 200]])\n",
    "print(distances)\n",
    "print(indexes)"
   ]
  },
  {
   "cell_type": "code",
   "execution_count": 19,
   "id": "bab37b6d",
   "metadata": {
    "scrolled": false
   },
   "outputs": [
    {
     "data": {
      "text/plain": [
       "Text(0, 0.5, 'weigth')"
      ]
     },
     "execution_count": 19,
     "metadata": {},
     "output_type": "execute_result"
    },
    {
     "data": {
      "image/png": "[encoded data removed]",
      "text/plain": [
       "<Figure size 432x288 with 1 Axes>"
      ]
     },
     "metadata": {
      "needs_background": "light"
     },
     "output_type": "display_data"
    }
   ],
   "source": [
    "### 산점도\n",
    "import matplotlib.pyplot as plt\n",
    "plt.scatter(train_input[:, 0], train_input[:,1])\n",
    "plt.scatter(35, 200, marker='^')\n",
    "plt.scatter(train_input[indexes, 0], train_input[indexes,1] , marker = 'D',c='y')\n",
    "\n",
    "\n",
    "plt.xlabel('length')\n",
    "plt.ylabel('weigth')"
   ]
  },
  {
   "cell_type": "markdown",
   "id": "8c7247e9",
   "metadata": {},
   "source": [
    "### 스케일 처리\n",
    "##### - 스케일을 맞추는 전처리 방법으로는 \"표준점수(standard score)\"를 사용\n",
    "##### - 표준점수 : 각 데이터가 원점(0)에서 몇 표준편차 만큼 떨어져 있는지를 나타내는 값\n",
    "##### - 표준점수 계산공식\n",
    "#####    =  (각 데이터값 - 데이터세트 전체평균값) / 데이터세트 전체 표준편차값\n",
    "##### - 평균, 표준편차 계산은 모두 넘파이(Numpy)에서 제공하는 함수 사용"
   ]
  },
  {
   "cell_type": "code",
   "execution_count": 27,
   "id": "bdd7a27b",
   "metadata": {},
   "outputs": [],
   "source": [
    "# 훈련데이터 전체 평균 구하기\n",
    "mean = np.mean(train_input, axis=0)\n",
    "\n",
    "# 훈련데이터 전체 표준편차 구하기\n",
    "std = np.std(train_input, axis=0)\n",
    "\n",
    "# 표준점수 데이터 계신해서 훈련데이터 재생성\n",
    "train_scaled = (train_input - mean) / std"
   ]
  },
  {
   "cell_type": "code",
   "execution_count": 22,
   "id": "e900deb5",
   "metadata": {},
   "outputs": [
    {
     "data": {
      "text/html": [
       "<style>#sk-container-id-2 {color: black;background-color: white;}#sk-container-id-2 pre{padding: 0;}#sk-container-id-2 div.sk-toggleable {background-color: white;}#sk-container-id-2 label.sk-toggleable__label {cursor: pointer;display: block;width: 100%;margin-bottom: 0;padding: 0.3em;box-sizing: border-box;text-align: center;}#sk-container-id-2 label.sk-toggleable__label-arrow:before {content: \"▸\";float: left;margin-right: 0.25em;color: #696969;}#sk-container-id-2 label.sk-toggleable__label-arrow:hover:before {color: black;}#sk-container-id-2 div.sk-estimator:hover label.sk-toggleable__label-arrow:before {color: black;}#sk-container-id-2 div.sk-toggleable__content {max-height: 0;max-width: 0;overflow: hidden;text-align: left;background-color: #f0f8ff;}#sk-container-id-2 div.sk-toggleable__content pre {margin: 0.2em;color: black;border-radius: 0.25em;background-color: #f0f8ff;}#sk-container-id-2 input.sk-toggleable__control:checked~div.sk-toggleable__content {max-height: 200px;max-width: 100%;overflow: auto;}#sk-container-id-2 input.sk-toggleable__control:checked~label.sk-toggleable__label-arrow:before {content: \"▾\";}#sk-container-id-2 div.sk-estimator input.sk-toggleable__control:checked~label.sk-toggleable__label {background-color: #d4ebff;}#sk-container-id-2 div.sk-label input.sk-toggleable__control:checked~label.sk-toggleable__label {background-color: #d4ebff;}#sk-container-id-2 input.sk-hidden--visually {border: 0;clip: rect(1px 1px 1px 1px);clip: rect(1px, 1px, 1px, 1px);height: 1px;margin: -1px;overflow: hidden;padding: 0;position: absolute;width: 1px;}#sk-container-id-2 div.sk-estimator {font-family: monospace;background-color: #f0f8ff;border: 1px dotted black;border-radius: 0.25em;box-sizing: border-box;margin-bottom: 0.5em;}#sk-container-id-2 div.sk-estimator:hover {background-color: #d4ebff;}#sk-container-id-2 div.sk-parallel-item::after {content: \"\";width: 100%;border-bottom: 1px solid gray;flex-grow: 1;}#sk-container-id-2 div.sk-label:hover label.sk-toggleable__label {background-color: #d4ebff;}#sk-container-id-2 div.sk-serial::before {content: \"\";position: absolute;border-left: 1px solid gray;box-sizing: border-box;top: 0;bottom: 0;left: 50%;z-index: 0;}#sk-container-id-2 div.sk-serial {display: flex;flex-direction: column;align-items: center;background-color: white;padding-right: 0.2em;padding-left: 0.2em;position: relative;}#sk-container-id-2 div.sk-item {position: relative;z-index: 1;}#sk-container-id-2 div.sk-parallel {display: flex;align-items: stretch;justify-content: center;background-color: white;position: relative;}#sk-container-id-2 div.sk-item::before, #sk-container-id-2 div.sk-parallel-item::before {content: \"\";position: absolute;border-left: 1px solid gray;box-sizing: border-box;top: 0;bottom: 0;left: 50%;z-index: -1;}#sk-container-id-2 div.sk-parallel-item {display: flex;flex-direction: column;z-index: 1;position: relative;background-color: white;}#sk-container-id-2 div.sk-parallel-item:first-child::after {align-self: flex-end;width: 50%;}#sk-container-id-2 div.sk-parallel-item:last-child::after {align-self: flex-start;width: 50%;}#sk-container-id-2 div.sk-parallel-item:only-child::after {width: 0;}#sk-container-id-2 div.sk-dashed-wrapped {border: 1px dashed gray;margin: 0 0.4em 0.5em 0.4em;box-sizing: border-box;padding-bottom: 0.4em;background-color: white;}#sk-container-id-2 div.sk-label label {font-family: monospace;font-weight: bold;display: inline-block;line-height: 1.2em;}#sk-container-id-2 div.sk-label-container {text-align: center;}#sk-container-id-2 div.sk-container {/* jupyter's `normalize.less` sets `[hidden] { display: none; }` but bootstrap.min.css set `[hidden] { display: none !important; }` so we also need the `!important` here to be able to override the default hidden behavior on the sphinx rendered scikit-learn.org. See: https://github.com/scikit-learn/scikit-learn/issues/21755 */display: inline-block !important;position: relative;}#sk-container-id-2 div.sk-text-repr-fallback {display: none;}</style><div id=\"sk-container-id-2\" class=\"sk-top-container\"><div class=\"sk-text-repr-fallback\"><pre>KNeighborsClassifier()</pre><b>In a Jupyter environment, please rerun this cell to show the HTML representation or trust the notebook. <br />On GitHub, the HTML representation is unable to render, please try loading this page with nbviewer.org.</b></div><div class=\"sk-container\" hidden><div class=\"sk-item\"><div class=\"sk-estimator sk-toggleable\"><input class=\"sk-toggleable__control sk-hidden--visually\" id=\"sk-estimator-id-2\" type=\"checkbox\" checked><label for=\"sk-estimator-id-2\" class=\"sk-toggleable__label sk-toggleable__label-arrow\">KNeighborsClassifier</label><div class=\"sk-toggleable__content\"><pre>KNeighborsClassifier()</pre></div></div></div></div></div>"
      ],
      "text/plain": [
       "KNeighborsClassifier()"
      ]
     },
     "execution_count": 22,
     "metadata": {},
     "output_type": "execute_result"
    }
   ],
   "source": [
    "kn.fit(train_scaled, train_target)"
   ]
  },
  {
   "cell_type": "code",
   "execution_count": 29,
   "id": "e2f88ba4",
   "metadata": {},
   "outputs": [],
   "source": [
    "# 테스트데이터스테일링\n",
    "mean = np.mean(test_input, axis=0)\n",
    "\n",
    "std = np.std(test_input, axis=0)\n",
    "\n",
    "test_scaled = (test_input - mean) / std"
   ]
  },
  {
   "cell_type": "code",
   "execution_count": 28,
   "id": "82de238c",
   "metadata": {},
   "outputs": [],
   "source": [
    "# 예측데이터 스케일 작업하기\n",
    "new = ([35, 200] - mean) / std"
   ]
  },
  {
   "cell_type": "code",
   "execution_count": 24,
   "id": "0b2ac218",
   "metadata": {},
   "outputs": [
    {
     "name": "stderr",
     "output_type": "stream",
     "text": [
      "C:\\Users\\admin\\AppData\\Local\\Programs\\Python\\Python310\\lib\\site-packages\\sklearn\\neighbors\\_classification.py:237: FutureWarning: Unlike other reduction functions (e.g. `skew`, `kurtosis`), the default behavior of `mode` typically preserves the axis it acts along. In SciPy 1.11.0, this behavior will change: the default value of `keepdims` will become False, the `axis` over which the statistic is taken will be eliminated, and the value None will no longer be accepted. Set `keepdims` to True or False to avoid this warning.\n",
      "  mode, _ = stats.mode(_y[neigh_ind, k], axis=1)\n",
      "C:\\Users\\admin\\AppData\\Local\\Programs\\Python\\Python310\\lib\\site-packages\\sklearn\\neighbors\\_classification.py:237: FutureWarning: Unlike other reduction functions (e.g. `skew`, `kurtosis`), the default behavior of `mode` typically preserves the axis it acts along. In SciPy 1.11.0, this behavior will change: the default value of `keepdims` will become False, the `axis` over which the statistic is taken will be eliminated, and the value None will no longer be accepted. Set `keepdims` to True or False to avoid this warning.\n",
      "  mode, _ = stats.mode(_y[neigh_ind, k], axis=1)\n"
     ]
    },
    {
     "data": {
      "text/plain": [
       "array([1.])"
      ]
     },
     "execution_count": 24,
     "metadata": {},
     "output_type": "execute_result"
    }
   ],
   "source": [
    "kn.score(test_scaled, test_target)\n",
    "kn.predict([new])"
   ]
  },
  {
   "cell_type": "code",
   "execution_count": 25,
   "id": "c9a63a0a",
   "metadata": {},
   "outputs": [
    {
     "name": "stdout",
     "output_type": "stream",
     "text": [
      "[[0.5271023  0.77217961 0.78451403 0.92132473 0.9313324 ]]\n",
      "[[32 34 14 31  5]]\n"
     ]
    }
   ],
   "source": [
    "distances, indexes = kn.kneighbors([new])\n",
    "print(distances)\n",
    "print(indexes)"
   ]
  },
  {
   "cell_type": "code",
   "execution_count": 26,
   "id": "cd390004",
   "metadata": {},
   "outputs": [
    {
     "data": {
      "text/plain": [
       "Text(0, 0.5, 'weigth')"
      ]
     },
     "execution_count": 26,
     "metadata": {},
     "output_type": "execute_result"
    },
    {
     "data": {
      "image/png": "[encoded data removed]",
      "text/plain": [
       "<Figure size 432x288 with 1 Axes>"
      ]
     },
     "metadata": {
      "needs_background": "light"
     },
     "output_type": "display_data"
    }
   ],
   "source": [
    "plt.scatter(train_scaled[:, 0], train_scaled[:,1])\n",
    "# plt.scatter(test_scaled[:, 0], test_scaled[:,1])\n",
    "plt.scatter(new[0], new[1], marker='^', c='red')\n",
    "plt.scatter(train_scaled[indexes, 0], train_scaled[indexes,1] , marker = 'D',c='y')\n",
    "\n",
    "\n",
    "plt.xlabel('length')\n",
    "plt.ylabel('weigth')"
   ]
  }
 ],
 "metadata": {
  "kernelspec": {
   "display_name": "ml_kerner",
   "language": "python",
   "name": "ml"
  },
  "language_info": {
   "codemirror_mode": {
    "name": "ipython",
    "version": 3
   },
   "file_extension": ".py",
   "mimetype": "text/x-python",
   "name": "python",
   "nbconvert_exporter": "python",
   "pygments_lexer": "ipython3",
   "version": "3.10.5"
  }
 },
 "nbformat": 4,
 "nbformat_minor": 5
}

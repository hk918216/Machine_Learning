{
 "cells": [
  {
   "cell_type": "code",
   "execution_count": 62,
   "id": "4f35e6df",
   "metadata": {
    "scrolled": true
   },
   "outputs": [
    {
     "name": "stdout",
     "output_type": "stream",
     "text": [
      "{'data': array([[5.1, 3.5, 1.4, 0.2],\n",
      "       [4.9, 3. , 1.4, 0.2],\n",
      "       [4.7, 3.2, 1.3, 0.2],\n",
      "       [4.6, 3.1, 1.5, 0.2],\n",
      "       [5. , 3.6, 1.4, 0.2],\n",
      "       [5.4, 3.9, 1.7, 0.4],\n",
      "       [4.6, 3.4, 1.4, 0.3],\n",
      "       [5. , 3.4, 1.5, 0.2],\n",
      "       [4.4, 2.9, 1.4, 0.2],\n",
      "       [4.9, 3.1, 1.5, 0.1],\n",
      "       [5.4, 3.7, 1.5, 0.2],\n",
      "       [4.8, 3.4, 1.6, 0.2],\n",
      "       [4.8, 3. , 1.4, 0.1],\n",
      "       [4.3, 3. , 1.1, 0.1],\n",
      "       [5.8, 4. , 1.2, 0.2],\n",
      "       [5.7, 4.4, 1.5, 0.4],\n",
      "       [5.4, 3.9, 1.3, 0.4],\n",
      "       [5.1, 3.5, 1.4, 0.3],\n",
      "       [5.7, 3.8, 1.7, 0.3],\n",
      "       [5.1, 3.8, 1.5, 0.3],\n",
      "       [5.4, 3.4, 1.7, 0.2],\n",
      "       [5.1, 3.7, 1.5, 0.4],\n",
      "       [4.6, 3.6, 1. , 0.2],\n",
      "       [5.1, 3.3, 1.7, 0.5],\n",
      "       [4.8, 3.4, 1.9, 0.2],\n",
      "       [5. , 3. , 1.6, 0.2],\n",
      "       [5. , 3.4, 1.6, 0.4],\n",
      "       [5.2, 3.5, 1.5, 0.2],\n",
      "       [5.2, 3.4, 1.4, 0.2],\n",
      "       [4.7, 3.2, 1.6, 0.2],\n",
      "       [4.8, 3.1, 1.6, 0.2],\n",
      "       [5.4, 3.4, 1.5, 0.4],\n",
      "       [5.2, 4.1, 1.5, 0.1],\n",
      "       [5.5, 4.2, 1.4, 0.2],\n",
      "       [4.9, 3.1, 1.5, 0.2],\n",
      "       [5. , 3.2, 1.2, 0.2],\n",
      "       [5.5, 3.5, 1.3, 0.2],\n",
      "       [4.9, 3.6, 1.4, 0.1],\n",
      "       [4.4, 3. , 1.3, 0.2],\n",
      "       [5.1, 3.4, 1.5, 0.2],\n",
      "       [5. , 3.5, 1.3, 0.3],\n",
      "       [4.5, 2.3, 1.3, 0.3],\n",
      "       [4.4, 3.2, 1.3, 0.2],\n",
      "       [5. , 3.5, 1.6, 0.6],\n",
      "       [5.1, 3.8, 1.9, 0.4],\n",
      "       [4.8, 3. , 1.4, 0.3],\n",
      "       [5.1, 3.8, 1.6, 0.2],\n",
      "       [4.6, 3.2, 1.4, 0.2],\n",
      "       [5.3, 3.7, 1.5, 0.2],\n",
      "       [5. , 3.3, 1.4, 0.2],\n",
      "       [7. , 3.2, 4.7, 1.4],\n",
      "       [6.4, 3.2, 4.5, 1.5],\n",
      "       [6.9, 3.1, 4.9, 1.5],\n",
      "       [5.5, 2.3, 4. , 1.3],\n",
      "       [6.5, 2.8, 4.6, 1.5],\n",
      "       [5.7, 2.8, 4.5, 1.3],\n",
      "       [6.3, 3.3, 4.7, 1.6],\n",
      "       [4.9, 2.4, 3.3, 1. ],\n",
      "       [6.6, 2.9, 4.6, 1.3],\n",
      "       [5.2, 2.7, 3.9, 1.4],\n",
      "       [5. , 2. , 3.5, 1. ],\n",
      "       [5.9, 3. , 4.2, 1.5],\n",
      "       [6. , 2.2, 4. , 1. ],\n",
      "       [6.1, 2.9, 4.7, 1.4],\n",
      "       [5.6, 2.9, 3.6, 1.3],\n",
      "       [6.7, 3.1, 4.4, 1.4],\n",
      "       [5.6, 3. , 4.5, 1.5],\n",
      "       [5.8, 2.7, 4.1, 1. ],\n",
      "       [6.2, 2.2, 4.5, 1.5],\n",
      "       [5.6, 2.5, 3.9, 1.1],\n",
      "       [5.9, 3.2, 4.8, 1.8],\n",
      "       [6.1, 2.8, 4. , 1.3],\n",
      "       [6.3, 2.5, 4.9, 1.5],\n",
      "       [6.1, 2.8, 4.7, 1.2],\n",
      "       [6.4, 2.9, 4.3, 1.3],\n",
      "       [6.6, 3. , 4.4, 1.4],\n",
      "       [6.8, 2.8, 4.8, 1.4],\n",
      "       [6.7, 3. , 5. , 1.7],\n",
      "       [6. , 2.9, 4.5, 1.5],\n",
      "       [5.7, 2.6, 3.5, 1. ],\n",
      "       [5.5, 2.4, 3.8, 1.1],\n",
      "       [5.5, 2.4, 3.7, 1. ],\n",
      "       [5.8, 2.7, 3.9, 1.2],\n",
      "       [6. , 2.7, 5.1, 1.6],\n",
      "       [5.4, 3. , 4.5, 1.5],\n",
      "       [6. , 3.4, 4.5, 1.6],\n",
      "       [6.7, 3.1, 4.7, 1.5],\n",
      "       [6.3, 2.3, 4.4, 1.3],\n",
      "       [5.6, 3. , 4.1, 1.3],\n",
      "       [5.5, 2.5, 4. , 1.3],\n",
      "       [5.5, 2.6, 4.4, 1.2],\n",
      "       [6.1, 3. , 4.6, 1.4],\n",
      "       [5.8, 2.6, 4. , 1.2],\n",
      "       [5. , 2.3, 3.3, 1. ],\n",
      "       [5.6, 2.7, 4.2, 1.3],\n",
      "       [5.7, 3. , 4.2, 1.2],\n",
      "       [5.7, 2.9, 4.2, 1.3],\n",
      "       [6.2, 2.9, 4.3, 1.3],\n",
      "       [5.1, 2.5, 3. , 1.1],\n",
      "       [5.7, 2.8, 4.1, 1.3],\n",
      "       [6.3, 3.3, 6. , 2.5],\n",
      "       [5.8, 2.7, 5.1, 1.9],\n",
      "       [7.1, 3. , 5.9, 2.1],\n",
      "       [6.3, 2.9, 5.6, 1.8],\n",
      "       [6.5, 3. , 5.8, 2.2],\n",
      "       [7.6, 3. , 6.6, 2.1],\n",
      "       [4.9, 2.5, 4.5, 1.7],\n",
      "       [7.3, 2.9, 6.3, 1.8],\n",
      "       [6.7, 2.5, 5.8, 1.8],\n",
      "       [7.2, 3.6, 6.1, 2.5],\n",
      "       [6.5, 3.2, 5.1, 2. ],\n",
      "       [6.4, 2.7, 5.3, 1.9],\n",
      "       [6.8, 3. , 5.5, 2.1],\n",
      "       [5.7, 2.5, 5. , 2. ],\n",
      "       [5.8, 2.8, 5.1, 2.4],\n",
      "       [6.4, 3.2, 5.3, 2.3],\n",
      "       [6.5, 3. , 5.5, 1.8],\n",
      "       [7.7, 3.8, 6.7, 2.2],\n",
      "       [7.7, 2.6, 6.9, 2.3],\n",
      "       [6. , 2.2, 5. , 1.5],\n",
      "       [6.9, 3.2, 5.7, 2.3],\n",
      "       [5.6, 2.8, 4.9, 2. ],\n",
      "       [7.7, 2.8, 6.7, 2. ],\n",
      "       [6.3, 2.7, 4.9, 1.8],\n",
      "       [6.7, 3.3, 5.7, 2.1],\n",
      "       [7.2, 3.2, 6. , 1.8],\n",
      "       [6.2, 2.8, 4.8, 1.8],\n",
      "       [6.1, 3. , 4.9, 1.8],\n",
      "       [6.4, 2.8, 5.6, 2.1],\n",
      "       [7.2, 3. , 5.8, 1.6],\n",
      "       [7.4, 2.8, 6.1, 1.9],\n",
      "       [7.9, 3.8, 6.4, 2. ],\n",
      "       [6.4, 2.8, 5.6, 2.2],\n",
      "       [6.3, 2.8, 5.1, 1.5],\n",
      "       [6.1, 2.6, 5.6, 1.4],\n",
      "       [7.7, 3. , 6.1, 2.3],\n",
      "       [6.3, 3.4, 5.6, 2.4],\n",
      "       [6.4, 3.1, 5.5, 1.8],\n",
      "       [6. , 3. , 4.8, 1.8],\n",
      "       [6.9, 3.1, 5.4, 2.1],\n",
      "       [6.7, 3.1, 5.6, 2.4],\n",
      "       [6.9, 3.1, 5.1, 2.3],\n",
      "       [5.8, 2.7, 5.1, 1.9],\n",
      "       [6.8, 3.2, 5.9, 2.3],\n",
      "       [6.7, 3.3, 5.7, 2.5],\n",
      "       [6.7, 3. , 5.2, 2.3],\n",
      "       [6.3, 2.5, 5. , 1.9],\n",
      "       [6.5, 3. , 5.2, 2. ],\n",
      "       [6.2, 3.4, 5.4, 2.3],\n",
      "       [5.9, 3. , 5.1, 1.8]]), 'target': array([0, 0, 0, 0, 0, 0, 0, 0, 0, 0, 0, 0, 0, 0, 0, 0, 0, 0, 0, 0, 0, 0,\n",
      "       0, 0, 0, 0, 0, 0, 0, 0, 0, 0, 0, 0, 0, 0, 0, 0, 0, 0, 0, 0, 0, 0,\n",
      "       0, 0, 0, 0, 0, 0, 1, 1, 1, 1, 1, 1, 1, 1, 1, 1, 1, 1, 1, 1, 1, 1,\n",
      "       1, 1, 1, 1, 1, 1, 1, 1, 1, 1, 1, 1, 1, 1, 1, 1, 1, 1, 1, 1, 1, 1,\n",
      "       1, 1, 1, 1, 1, 1, 1, 1, 1, 1, 1, 1, 2, 2, 2, 2, 2, 2, 2, 2, 2, 2,\n",
      "       2, 2, 2, 2, 2, 2, 2, 2, 2, 2, 2, 2, 2, 2, 2, 2, 2, 2, 2, 2, 2, 2,\n",
      "       2, 2, 2, 2, 2, 2, 2, 2, 2, 2, 2, 2, 2, 2, 2, 2, 2, 2]), 'frame': None, 'target_names': array(['setosa', 'versicolor', 'virginica'], dtype='<U10'), 'DESCR': '.. _iris_dataset:\\n\\nIris plants dataset\\n--------------------\\n\\n**Data Set Characteristics:**\\n\\n    :Number of Instances: 150 (50 in each of three classes)\\n    :Number of Attributes: 4 numeric, predictive attributes and the class\\n    :Attribute Information:\\n        - sepal length in cm\\n        - sepal width in cm\\n        - petal length in cm\\n        - petal width in cm\\n        - class:\\n                - Iris-Setosa\\n                - Iris-Versicolour\\n                - Iris-Virginica\\n                \\n    :Summary Statistics:\\n\\n    ============== ==== ==== ======= ===== ====================\\n                    Min  Max   Mean    SD   Class Correlation\\n    ============== ==== ==== ======= ===== ====================\\n    sepal length:   4.3  7.9   5.84   0.83    0.7826\\n    sepal width:    2.0  4.4   3.05   0.43   -0.4194\\n    petal length:   1.0  6.9   3.76   1.76    0.9490  (high!)\\n    petal width:    0.1  2.5   1.20   0.76    0.9565  (high!)\\n    ============== ==== ==== ======= ===== ====================\\n\\n    :Missing Attribute Values: None\\n    :Class Distribution: 33.3% for each of 3 classes.\\n    :Creator: R.A. Fisher\\n    :Donor: Michael Marshall (MARSHALL%PLU@io.arc.nasa.gov)\\n    :Date: July, 1988\\n\\nThe famous Iris database, first used by Sir R.A. Fisher. The dataset is taken\\nfrom Fisher\\'s paper. Note that it\\'s the same as in R, but not as in the UCI\\nMachine Learning Repository, which has two wrong data points.\\n\\nThis is perhaps the best known database to be found in the\\npattern recognition literature.  Fisher\\'s paper is a classic in the field and\\nis referenced frequently to this day.  (See Duda & Hart, for example.)  The\\ndata set contains 3 classes of 50 instances each, where each class refers to a\\ntype of iris plant.  One class is linearly separable from the other 2; the\\nlatter are NOT linearly separable from each other.\\n\\n.. topic:: References\\n\\n   - Fisher, R.A. \"The use of multiple measurements in taxonomic problems\"\\n     Annual Eugenics, 7, Part II, 179-188 (1936); also in \"Contributions to\\n     Mathematical Statistics\" (John Wiley, NY, 1950).\\n   - Duda, R.O., & Hart, P.E. (1973) Pattern Classification and Scene Analysis.\\n     (Q327.D83) John Wiley & Sons.  ISBN 0-471-22361-1.  See page 218.\\n   - Dasarathy, B.V. (1980) \"Nosing Around the Neighborhood: A New System\\n     Structure and Classification Rule for Recognition in Partially Exposed\\n     Environments\".  IEEE Transactions on Pattern Analysis and Machine\\n     Intelligence, Vol. PAMI-2, No. 1, 67-71.\\n   - Gates, G.W. (1972) \"The Reduced Nearest Neighbor Rule\".  IEEE Transactions\\n     on Information Theory, May 1972, 431-433.\\n   - See also: 1988 MLC Proceedings, 54-64.  Cheeseman et al\"s AUTOCLASS II\\n     conceptual clustering system finds 3 classes in the data.\\n   - Many, many more ...', 'feature_names': ['sepal length (cm)', 'sepal width (cm)', 'petal length (cm)', 'petal width (cm)'], 'filename': 'iris.csv', 'data_module': 'sklearn.datasets.data'}\n"
     ]
    }
   ],
   "source": [
    "# [문제] 붓꽃 품종 데이터\n",
    "from sklearn.datasets import load_iris\n",
    "\n",
    "# sepal length :꽃받침 길이\n",
    "# sepal width\n",
    "# petal length : 꽃잎 길이\n",
    "# petal width\n",
    "# target(품종) : setosa(0), versicolor(1), virginica(2)\n",
    "\n",
    "iris = load_iris()\n",
    "print(iris)\n",
    "# print(iris.성혜경)"
   ]
  },
  {
   "cell_type": "markdown",
   "id": "580a28b1",
   "metadata": {},
   "source": [
    "-------------------------------------"
   ]
  },
  {
   "cell_type": "markdown",
   "id": "0595953f",
   "metadata": {},
   "source": [
    "- 선형회귀"
   ]
  },
  {
   "cell_type": "code",
   "execution_count": 90,
   "id": "5b115cdf",
   "metadata": {},
   "outputs": [],
   "source": [
    "# sepal length :꽃받침 길이\n",
    "# sepal width\n",
    "# petal length : 꽃잎 길이\n",
    "# petal width"
   ]
  },
  {
   "cell_type": "code",
   "execution_count": 151,
   "id": "a0e6221b",
   "metadata": {},
   "outputs": [],
   "source": [
    "# 꽃받침 길이로 꽃받침 폭 예측"
   ]
  },
  {
   "cell_type": "code",
   "execution_count": 286,
   "id": "e9511199",
   "metadata": {},
   "outputs": [
    {
     "data": {
      "text/plain": [
       "array([[5.1, 3.5, 1.4, 0.2],\n",
       "       [4.9, 3. , 1.4, 0.2],\n",
       "       [4.7, 3.2, 1.3, 0.2],\n",
       "       [4.6, 3.1, 1.5, 0.2],\n",
       "       [5. , 3.6, 1.4, 0.2]])"
      ]
     },
     "execution_count": 286,
     "metadata": {},
     "output_type": "execute_result"
    }
   ],
   "source": [
    "iris_wl[:5]"
   ]
  },
  {
   "cell_type": "code",
   "execution_count": 305,
   "id": "667a99bc",
   "metadata": {
    "scrolled": false
   },
   "outputs": [
    {
     "data": {
      "text/plain": [
       "[[5.1], [4.9], [4.7], [4.6], [5.0]]"
      ]
     },
     "execution_count": 305,
     "metadata": {},
     "output_type": "execute_result"
    }
   ],
   "source": [
    "length = []\n",
    "for i in range(0, len(iris_wl)):\n",
    "#     print(i)\n",
    "    a = iris_wl[i][0]\n",
    "    length.append([a])\n",
    "\n",
    "length[:5]"
   ]
  },
  {
   "cell_type": "code",
   "execution_count": 288,
   "id": "badb9460",
   "metadata": {
    "scrolled": false
   },
   "outputs": [
    {
     "data": {
      "text/plain": [
       "[1.4, 1.4, 1.3, 1.5, 1.4]"
      ]
     },
     "execution_count": 288,
     "metadata": {},
     "output_type": "execute_result"
    }
   ],
   "source": [
    "width = []\n",
    "for i in range(0, len(iris_wl)):\n",
    "#       print(i)\n",
    "    a = iris_wl[i][2]\n",
    "    width.append(a)\n",
    "\n",
    "width[:5]"
   ]
  },
  {
   "cell_type": "code",
   "execution_count": 289,
   "id": "e2c45134",
   "metadata": {
    "scrolled": true
   },
   "outputs": [
    {
     "name": "stdout",
     "output_type": "stream",
     "text": [
      "(150, 1)\n"
     ]
    },
    {
     "data": {
      "text/plain": [
       "array([1.4, 1.4, 1.3, 1.5, 1.4, 1.7, 1.4, 1.5, 1.4, 1.5, 1.5, 1.6, 1.4,\n",
       "       1.1, 1.2, 1.5, 1.3, 1.4, 1.7, 1.5, 1.7, 1.5, 1. , 1.7, 1.9, 1.6,\n",
       "       1.6, 1.5, 1.4, 1.6, 1.6, 1.5, 1.5, 1.4, 1.5, 1.2, 1.3, 1.4, 1.3,\n",
       "       1.5, 1.3, 1.3, 1.3, 1.6, 1.9, 1.4, 1.6, 1.4, 1.5, 1.4, 4.7, 4.5,\n",
       "       4.9, 4. , 4.6, 4.5, 4.7, 3.3, 4.6, 3.9, 3.5, 4.2, 4. , 4.7, 3.6,\n",
       "       4.4, 4.5, 4.1, 4.5, 3.9, 4.8, 4. , 4.9, 4.7, 4.3, 4.4, 4.8, 5. ,\n",
       "       4.5, 3.5, 3.8, 3.7, 3.9, 5.1, 4.5, 4.5, 4.7, 4.4, 4.1, 4. , 4.4,\n",
       "       4.6, 4. , 3.3, 4.2, 4.2, 4.2, 4.3, 3. , 4.1, 6. , 5.1, 5.9, 5.6,\n",
       "       5.8, 6.6, 4.5, 6.3, 5.8, 6.1, 5.1, 5.3, 5.5, 5. , 5.1, 5.3, 5.5,\n",
       "       6.7, 6.9, 5. , 5.7, 4.9, 6.7, 4.9, 5.7, 6. , 4.8, 4.9, 5.6, 5.8,\n",
       "       6.1, 6.4, 5.6, 5.1, 5.6, 6.1, 5.6, 5.5, 4.8, 5.4, 5.6, 5.1, 5.1,\n",
       "       5.9, 5.7, 5.2, 5. , 5.2, 5.4, 5.1])"
      ]
     },
     "execution_count": 289,
     "metadata": {},
     "output_type": "execute_result"
    }
   ],
   "source": [
    "length = np.array(length)\n",
    "width = np.array(width)\n",
    "\n",
    "print(length.shape)\n",
    "width"
   ]
  },
  {
   "cell_type": "code",
   "execution_count": 290,
   "id": "e19629cf",
   "metadata": {},
   "outputs": [
    {
     "data": {
      "text/plain": [
       "array([3.9, 5.6, 5.1, 1.3, 6.1, 3.3, 1.4, 4.8, 1.6, 4.5, 4.5, 5.1, 5.9,\n",
       "       6.3, 1.6, 1.7, 4.9, 6.1, 1.5, 1.4, 4. , 5.6, 1.5, 4.9, 4.1, 5.4,\n",
       "       4.3, 4.2, 4.7, 5.6, 1.5, 4. , 3.5, 1.5, 4.7, 1.4, 1.6, 6.1])"
      ]
     },
     "execution_count": 290,
     "metadata": {},
     "output_type": "execute_result"
    }
   ],
   "source": [
    "train_input, test_input, train_target, test_target = train_test_split(length, width, random_state=5)\n",
    "test_target"
   ]
  },
  {
   "cell_type": "code",
   "execution_count": 291,
   "id": "3ff8d19c",
   "metadata": {},
   "outputs": [
    {
     "data": {
      "text/plain": [
       "0.8229407212377353"
      ]
     },
     "execution_count": 291,
     "metadata": {},
     "output_type": "execute_result"
    }
   ],
   "source": [
    "from sklearn.neighbors import KNeighborsRegressor\n",
    "\n",
    "knr = KNeighborsRegressor(n_neighbors=3)\n",
    "knr.fit(train_input, train_target)\n",
    "knr.score(test_input, test_target)"
   ]
  },
  {
   "cell_type": "code",
   "execution_count": 292,
   "id": "8fb02145",
   "metadata": {},
   "outputs": [
    {
     "data": {
      "text/plain": [
       "array([5.13333333])"
      ]
     },
     "execution_count": 292,
     "metadata": {},
     "output_type": "execute_result"
    }
   ],
   "source": [
    "knr.predict([[7]])"
   ]
  },
  {
   "cell_type": "code",
   "execution_count": 293,
   "id": "b57a7d48",
   "metadata": {},
   "outputs": [
    {
     "name": "stdout",
     "output_type": "stream",
     "text": [
      "[[0.1 0.1 0.1]]\n",
      "[[38 25 88]]\n"
     ]
    }
   ],
   "source": [
    "distances, indexes = knr.kneighbors([[7]])\n",
    "print(distances)\n",
    "print(indexes)"
   ]
  },
  {
   "cell_type": "code",
   "execution_count": 294,
   "id": "3bbfe715",
   "metadata": {},
   "outputs": [
    {
     "data": {
      "text/plain": [
       "Text(0, 0.5, 'width')"
      ]
     },
     "execution_count": 294,
     "metadata": {},
     "output_type": "execute_result"
    },
    {
     "data": {
      "image/png": "[encoded data removed]",
      "text/plain": [
       "<Figure size 432x288 with 1 Axes>"
      ]
     },
     "metadata": {
      "needs_background": "light"
     },
     "output_type": "display_data"
    }
   ],
   "source": [
    "plt.scatter(train_input, train_target)\n",
    "plt.scatter(7, 5.133, marker=\"^\", c='red')\n",
    "plt.scatter(train_input[indexes[0]], train_target[indexes[0]], marker='D')\n",
    "\n",
    "plt.xlabel('heigth')\n",
    "plt.ylabel('width')"
   ]
  },
  {
   "cell_type": "code",
   "execution_count": 295,
   "id": "af56b073",
   "metadata": {},
   "outputs": [
    {
     "data": {
      "text/plain": [
       "array([5.89063642])"
      ]
     },
     "execution_count": 295,
     "metadata": {},
     "output_type": "execute_result"
    }
   ],
   "source": [
    "### 선형회귀 클래스(모델) 생성하기\n",
    "from sklearn.linear_model import LinearRegression\n",
    "\n",
    "lr = LinearRegression()\n",
    "lr.fit(train_input, train_target)\n",
    "lr.score(test_input, test_target)\n",
    "\n",
    "lr.predict([[7]])"
   ]
  },
  {
   "cell_type": "code",
   "execution_count": 296,
   "id": "9557b9ac",
   "metadata": {},
   "outputs": [
    {
     "name": "stdout",
     "output_type": "stream",
     "text": [
      "[1.85863851] -7.119833172001428\n"
     ]
    }
   ],
   "source": [
    "print(lr.coef_, lr.intercept_)"
   ]
  },
  {
   "cell_type": "code",
   "execution_count": 297,
   "id": "8b1919c9",
   "metadata": {},
   "outputs": [
    {
     "data": {
      "text/plain": [
       "Text(0, 0.5, 'width')"
      ]
     },
     "execution_count": 297,
     "metadata": {},
     "output_type": "execute_result"
    },
    {
     "data": {
      "image/png": "[encoded data removed]",
      "text/plain": [
       "<Figure size 432x288 with 1 Axes>"
      ]
     },
     "metadata": {
      "needs_background": "light"
     },
     "output_type": "display_data"
    }
   ],
   "source": [
    "plt.scatter(train_input, train_target)\n",
    "plt.scatter(7, 5.89, marker='^',c='violet')\n",
    "\n",
    "# 추세선 그리기\n",
    "# 추세선 : 선형회귀 알고리즘(1차방정식)이 훈련데이터에서 찾은 최적의 직선을 의미\n",
    "plt.plot([4.5, 8.0], [float(lr.coef_ * 4.5 + lr.intercept_), float(lr.coef_ * 8.0 + lr.intercept_)], c= 'red' )\n",
    "\n",
    "plt.xlabel('length')\n",
    "plt.ylabel('width')"
   ]
  },
  {
   "cell_type": "code",
   "execution_count": 298,
   "id": "2f4d311c",
   "metadata": {},
   "outputs": [
    {
     "name": "stdout",
     "output_type": "stream",
     "text": [
      "0.7581055452268586\n",
      "0.7648937088031116\n"
     ]
    }
   ],
   "source": [
    "print(lr.score(train_input, train_target))\n",
    "print(lr.score(test_input, test_target))"
   ]
  },
  {
   "cell_type": "markdown",
   "id": "23073b50",
   "metadata": {},
   "source": [
    "- 다항회귀"
   ]
  },
  {
   "cell_type": "code",
   "execution_count": 299,
   "id": "db567a90",
   "metadata": {},
   "outputs": [
    {
     "name": "stdout",
     "output_type": "stream",
     "text": [
      "(112, 2)\n"
     ]
    },
    {
     "data": {
      "text/plain": [
       "(38, 2)"
      ]
     },
     "execution_count": 299,
     "metadata": {},
     "output_type": "execute_result"
    }
   ],
   "source": [
    "### 훈련데이터 train_input을 [[제곱된값1, 원래값1], [],[], ...]\n",
    "train_poly = np.column_stack((train_input ** 2, train_input))\n",
    "test_poly = np.column_stack((test_input ** 2, test_input))\n",
    "\n",
    "print(train_poly.shape)\n",
    "test_poly.shape"
   ]
  },
  {
   "cell_type": "code",
   "execution_count": 300,
   "id": "5e2fc131",
   "metadata": {},
   "outputs": [
    {
     "name": "stdout",
     "output_type": "stream",
     "text": [
      "예측 =  [5.79737667]\n",
      "a, b, y절편 =  [-0.22918204  4.58495928] -15.067418147923586\n"
     ]
    },
    {
     "data": {
      "text/plain": [
       "Text(0, 0.5, 'width')"
      ]
     },
     "execution_count": 300,
     "metadata": {},
     "output_type": "execute_result"
    },
    {
     "data": {
      "image/png": "[encoded data removed]",
      "text/plain": [
       "<Figure size 432x288 with 1 Axes>"
      ]
     },
     "metadata": {
      "needs_background": "light"
     },
     "output_type": "display_data"
    }
   ],
   "source": [
    "# - 객체(모델) 생성\n",
    "lr = LinearRegression()\n",
    "\n",
    "# - 훈련모델 생성\n",
    "lr.fit(train_poly, train_target)\n",
    "\n",
    "# - 예측데이터 : 길이 50\n",
    "print(\"예측 = \", lr.predict([[7**2, 7]]))\n",
    "\n",
    "# - 계수 확인(coef_, intercept_)\n",
    "print(\"a, b, y절편 = \",lr.coef_, lr.intercept_)\n",
    "\n",
    "# - 산점도 그리기 : 훈련, 예측 데이터, 추세선\n",
    "plt.scatter(train_input, train_target)\n",
    "plt.scatter([7],[5.7973], marker='^',c='red')\n",
    "\n",
    "# 추세선 그리기\n",
    "# ax^2 + bx + \n",
    "point = np.arange(4.5, 8)\n",
    "plt.plot(point, lr.coef_[0] * point**2 + lr.coef_[1] * point + lr.intercept_, c= 'orange' )\n",
    "\n",
    "plt.xlabel('length')\n",
    "plt.ylabel('width')"
   ]
  },
  {
   "cell_type": "code",
   "execution_count": 301,
   "id": "45cf064a",
   "metadata": {},
   "outputs": [
    {
     "name": "stdout",
     "output_type": "stream",
     "text": [
      "훈련 =  0.7688347359957746\n",
      "테스트 =  0.7995958243956687\n"
     ]
    }
   ],
   "source": [
    "### 과적합 확인하기(과대 / 과소)\n",
    "print(\"훈련 = \", lr.score(train_poly, train_target))\n",
    "print(\"테스트 = \", lr.score(test_poly, test_target))"
   ]
  },
  {
   "cell_type": "code",
   "execution_count": null,
   "id": "9ba1afbb",
   "metadata": {},
   "outputs": [],
   "source": [
    "# 테스트가 훈련보다 결정계수가 높아서 과소적합\n",
    "### 그렇다면?\n",
    "# - 복잡도를 줄 수 있는 모델을 찾아야 함"
   ]
  },
  {
   "cell_type": "code",
   "execution_count": 245,
   "id": "bd19aa95",
   "metadata": {
    "scrolled": true
   },
   "outputs": [
    {
     "name": "stdout",
     "output_type": "stream",
     "text": [
      "[[5.1 3.5 1.4 0.2]\n",
      " [4.9 3.  1.4 0.2]\n",
      " [4.7 3.2 1.3 0.2]\n",
      " [4.6 3.1 1.5 0.2]\n",
      " [5.  3.6 1.4 0.2]\n",
      " [5.4 3.9 1.7 0.4]\n",
      " [4.6 3.4 1.4 0.3]\n",
      " [5.  3.4 1.5 0.2]\n",
      " [4.4 2.9 1.4 0.2]\n",
      " [4.9 3.1 1.5 0.1]]\n",
      "[0 0 0 0 0 0 0 0 0 0 0 0 0 0 0 0 0 0 0 0 0 0 0 0 0 0 0 0 0 0 0 0 0 0 0 0 0\n",
      " 0 0 0 0 0 0 0 0 0 0 0 0 0 1 1 1 1 1 1 1 1 1 1 1 1 1 1 1 1 1 1 1 1 1 1 1 1\n",
      " 1 1 1 1 1 1 1 1 1 1 1 1 1 1 1 1 1 1 1 1 1 1 1 1 1 1 2 2 2 2 2 2 2 2 2 2 2\n",
      " 2 2 2 2 2 2 2 2 2 2 2 2 2 2 2 2 2 2 2 2 2 2 2 2 2 2 2 2 2 2 2 2 2 2 2 2 2\n",
      " 2 2]\n"
     ]
    }
   ],
   "source": [
    "iris_wl = iris['data']\n",
    "species = iris['target']\n",
    "print(iris_wl[:10])\n",
    "print(species)"
   ]
  },
  {
   "cell_type": "code",
   "execution_count": 250,
   "id": "12135257",
   "metadata": {
    "scrolled": false
   },
   "outputs": [
    {
     "name": "stdout",
     "output_type": "stream",
     "text": [
      "[[6.4 3.2 4.5 1.5]\n",
      " [7.4 2.8 6.1 1.9]\n",
      " [5.7 2.8 4.5 1.3]\n",
      " [6.1 2.6 5.6 1.4]\n",
      " [4.9 3.6 1.4 0.1]\n",
      " [6.7 3.1 4.4 1.4]\n",
      " [6.3 3.3 4.7 1.6]\n",
      " [4.7 3.2 1.3 0.2]\n",
      " [5.4 3.9 1.7 0.4]\n",
      " [5.  3.3 1.4 0.2]]\n",
      "--------------\n",
      "[1 2 1 2 0 1 1 0 0 0 2 0 2 2 0 2 1 1 1 0 0 1 1 1 1 1 1 1 0 1 1 0 0 1 1 1 0\n",
      " 0 2 0 0 1 2 2 2 2 2 2 1 2 2 2 0 2 0 0 0 2 1 1 2 2 1 0 2 0 1 2 0 1 1 2 0 0\n",
      " 2 2 1 1 1 2 2 0 2 0 1 0 0 2 2 2 0 0 2 1 1 2 0 2 0 0 2 2 0 0 0 2 1 0 1 2 0\n",
      " 1]\n",
      "--------------\n",
      "(38, 4)\n",
      "--------------\n",
      "[0 1 1 2 1 1 2 0 2 0 2 1 2 0 0 2 0 1 2 1 1 2 2 0 1 1 1 0 2 2 1 1 0 0 0 2 1\n",
      " 0]\n"
     ]
    }
   ],
   "source": [
    "from sklearn.model_selection import train_test_split\n",
    "\n",
    "train_input, test_input, train_target, test_target = train_test_split(iris_wl, species, random_state=20)\n",
    "\n",
    "print(train_input[:10])\n",
    "print(\"--------------\")\n",
    "print(train_target)\n",
    "print(\"--------------\")\n",
    "print(test_input.shape)\n",
    "print(\"--------------\")\n",
    "print(test_target)"
   ]
  },
  {
   "cell_type": "code",
   "execution_count": 18,
   "id": "b6d9abf6",
   "metadata": {},
   "outputs": [],
   "source": [
    "#정규화\n",
    "# from sklearn.preprocessing import StandardScaler\n",
    "\n",
    "# ss = StandardScaler()\n",
    "\n",
    "# ss.fit(train_input)\n",
    "\n",
    "# train_scaled = ss.transform(train_input)\n",
    "# test_scaled = ss.transform(test_input)\n",
    "\n",
    "# print(ss.mean_, ss.scale_)\n",
    "# print(\"-----------------------\")\n",
    "# print(train_scaled[ :5])\n",
    "# print(\"-----------------------\")\n",
    "# print(test_scaled[ :5])"
   ]
  },
  {
   "cell_type": "code",
   "execution_count": 252,
   "id": "e24f6311",
   "metadata": {
    "scrolled": true
   },
   "outputs": [
    {
     "name": "stdout",
     "output_type": "stream",
     "text": [
      "0.9821428571428571\n",
      "0.9210526315789473\n"
     ]
    },
    {
     "name": "stderr",
     "output_type": "stream",
     "text": [
      "C:\\Users\\admin\\AppData\\Local\\Programs\\Python\\Python310\\lib\\site-packages\\sklearn\\neighbors\\_classification.py:237: FutureWarning: Unlike other reduction functions (e.g. `skew`, `kurtosis`), the default behavior of `mode` typically preserves the axis it acts along. In SciPy 1.11.0, this behavior will change: the default value of `keepdims` will become False, the `axis` over which the statistic is taken will be eliminated, and the value None will no longer be accepted. Set `keepdims` to True or False to avoid this warning.\n",
      "  mode, _ = stats.mode(_y[neigh_ind, k], axis=1)\n",
      "C:\\Users\\admin\\AppData\\Local\\Programs\\Python\\Python310\\lib\\site-packages\\sklearn\\neighbors\\_classification.py:237: FutureWarning: Unlike other reduction functions (e.g. `skew`, `kurtosis`), the default behavior of `mode` typically preserves the axis it acts along. In SciPy 1.11.0, this behavior will change: the default value of `keepdims` will become False, the `axis` over which the statistic is taken will be eliminated, and the value None will no longer be accepted. Set `keepdims` to True or False to avoid this warning.\n",
      "  mode, _ = stats.mode(_y[neigh_ind, k], axis=1)\n"
     ]
    }
   ],
   "source": [
    "### k-최근접이웃분류 모델로 테스트\n",
    "from sklearn.neighbors import KNeighborsClassifier\n",
    "\n",
    "kn =KNeighborsClassifier()\n",
    "\n",
    "kn.n_neighbors=3\n",
    "kn.fit(train_input, train_target)\n",
    "print(kn.score(train_input, train_target))\n",
    "print(kn.score(test_input, test_target))"
   ]
  },
  {
   "cell_type": "code",
   "execution_count": 254,
   "id": "aa0ab0ed",
   "metadata": {
    "scrolled": true
   },
   "outputs": [
    {
     "name": "stderr",
     "output_type": "stream",
     "text": [
      "C:\\Users\\admin\\AppData\\Local\\Programs\\Python\\Python310\\lib\\site-packages\\sklearn\\neighbors\\_classification.py:237: FutureWarning: Unlike other reduction functions (e.g. `skew`, `kurtosis`), the default behavior of `mode` typically preserves the axis it acts along. In SciPy 1.11.0, this behavior will change: the default value of `keepdims` will become False, the `axis` over which the statistic is taken will be eliminated, and the value None will no longer be accepted. Set `keepdims` to True or False to avoid this warning.\n",
      "  mode, _ = stats.mode(_y[neigh_ind, k], axis=1)\n"
     ]
    },
    {
     "data": {
      "text/plain": [
       "array([0, 1, 1, 2, 1, 1, 2, 0, 2, 0, 2, 1, 1, 0, 0, 2, 0, 1, 2, 1, 1, 2,\n",
       "       2, 0, 2, 1, 1, 0, 2, 2, 1, 1, 0, 0, 0, 1, 1, 0])"
      ]
     },
     "execution_count": 254,
     "metadata": {},
     "output_type": "execute_result"
    }
   ],
   "source": [
    "kn.predict(test_input)"
   ]
  },
  {
   "cell_type": "code",
   "execution_count": 253,
   "id": "61251eac",
   "metadata": {},
   "outputs": [],
   "source": [
    "### 랜덤을 42로 했을 때 과소적합\n",
    "### 랜덤을 20으로 했을 때 적절"
   ]
  },
  {
   "cell_type": "code",
   "execution_count": 255,
   "id": "0f087a3e",
   "metadata": {},
   "outputs": [
    {
     "data": {
      "text/plain": [
       "array([[1.    , 0.    , 0.    ],\n",
       "       [0.    , 1.    , 0.    ],\n",
       "       [0.    , 1.    , 0.    ],\n",
       "       [0.    , 0.    , 1.    ],\n",
       "       [0.    , 1.    , 0.    ],\n",
       "       [0.    , 1.    , 0.    ],\n",
       "       [0.    , 0.    , 1.    ],\n",
       "       [1.    , 0.    , 0.    ],\n",
       "       [0.    , 0.    , 1.    ],\n",
       "       [1.    , 0.    , 0.    ],\n",
       "       [0.    , 0.    , 1.    ],\n",
       "       [0.    , 1.    , 0.    ],\n",
       "       [0.    , 0.6667, 0.3333],\n",
       "       [1.    , 0.    , 0.    ],\n",
       "       [1.    , 0.    , 0.    ],\n",
       "       [0.    , 0.    , 1.    ],\n",
       "       [1.    , 0.    , 0.    ],\n",
       "       [0.    , 1.    , 0.    ],\n",
       "       [0.    , 0.    , 1.    ],\n",
       "       [0.    , 1.    , 0.    ],\n",
       "       [0.    , 1.    , 0.    ],\n",
       "       [0.    , 0.    , 1.    ],\n",
       "       [0.    , 0.    , 1.    ],\n",
       "       [1.    , 0.    , 0.    ],\n",
       "       [0.    , 0.3333, 0.6667],\n",
       "       [0.    , 1.    , 0.    ],\n",
       "       [0.    , 1.    , 0.    ],\n",
       "       [1.    , 0.    , 0.    ],\n",
       "       [0.    , 0.    , 1.    ],\n",
       "       [0.    , 0.3333, 0.6667],\n",
       "       [0.    , 1.    , 0.    ],\n",
       "       [0.    , 1.    , 0.    ],\n",
       "       [1.    , 0.    , 0.    ],\n",
       "       [1.    , 0.    , 0.    ],\n",
       "       [1.    , 0.    , 0.    ],\n",
       "       [0.    , 1.    , 0.    ],\n",
       "       [0.    , 1.    , 0.    ],\n",
       "       [1.    , 0.    , 0.    ]])"
      ]
     },
     "execution_count": 255,
     "metadata": {},
     "output_type": "execute_result"
    }
   ],
   "source": [
    "import numpy as np\n",
    "\n",
    "proba = kn.predict_proba(test_input)\n",
    "np.round(proba, decimals=4)"
   ]
  },
  {
   "cell_type": "code",
   "execution_count": 256,
   "id": "892e0376",
   "metadata": {},
   "outputs": [
    {
     "name": "stdout",
     "output_type": "stream",
     "text": [
      "[0 1 2]\n"
     ]
    }
   ],
   "source": [
    "print(kn.classes_)"
   ]
  },
  {
   "cell_type": "markdown",
   "id": "b2f8f7af",
   "metadata": {},
   "source": [
    "- ridge"
   ]
  },
  {
   "cell_type": "code",
   "execution_count": 257,
   "id": "23c03d6a",
   "metadata": {},
   "outputs": [
    {
     "name": "stdout",
     "output_type": "stream",
     "text": [
      "훈련 =  0.933962408350911\n",
      "테스트 =  0.9128013162865879\n"
     ]
    }
   ],
   "source": [
    "from sklearn.linear_model import Ridge\n",
    "\n",
    "r = Ridge()\n",
    "r.fit(train_input, train_target)\n",
    "print(\"훈련 = \", r.score(train_input, train_target))\n",
    "print(\"테스트 = \", r.score(test_input, test_target))"
   ]
  },
  {
   "cell_type": "code",
   "execution_count": 275,
   "id": "f305d119",
   "metadata": {},
   "outputs": [
    {
     "data": {
      "image/png": "[encoded data removed]",
      "text/plain": [
       "<Figure size 432x288 with 1 Axes>"
      ]
     },
     "metadata": {
      "needs_background": "light"
     },
     "output_type": "display_data"
    }
   ],
   "source": [
    "import matplotlib.pyplot as plt\n",
    "\n",
    "# 훈련시 발생하는 결정계수를 저장할 리스트\n",
    "train_score = []\n",
    "\n",
    "#테스트시 발생하는 결정계수를 저장할 리스트\n",
    "test_score = []\n",
    "\n",
    "# 임의 alpha 값(x축으로 설정) 설정(범위 설정)\n",
    "alpha_list = [0.0001, 0.001, 0.01, 0.1, 1, 10, 100]\n",
    "\n",
    "### 훈련 및 테스트 결정계수 데이터 조회하기\n",
    "for alpha in alpha_list:\n",
    "    # 릿지모델\n",
    "    ridge = Ridge(alpha = alpha)\n",
    "    ridge.fit(train_input, train_target)\n",
    "    train_score.append(ridge.score(train_input, train_target))\n",
    "    test_score.append(ridge.score(test_input, test_target))\n",
    "    \n",
    "# 시각화\n",
    "plt.plot(np.log10(alpha_list), train_score)\n",
    "plt.plot(np.log10(alpha_list), test_score)\n",
    "plt.show()"
   ]
  },
  {
   "cell_type": "code",
   "execution_count": 259,
   "id": "80b36ba0",
   "metadata": {},
   "outputs": [
    {
     "name": "stdout",
     "output_type": "stream",
     "text": [
      "0.9345569904482578\n",
      "0.9125297584327013\n"
     ]
    }
   ],
   "source": [
    "# 릿지모델\n",
    "ridge = Ridge(alpha = 0.1)\n",
    "ridge.fit(train_input, train_target)\n",
    "print(ridge.score(train_input, train_target))\n",
    "print(ridge.score(test_input, test_target))"
   ]
  },
  {
   "cell_type": "markdown",
   "id": "2f480cc4",
   "metadata": {},
   "source": [
    "- lasso"
   ]
  },
  {
   "cell_type": "code",
   "execution_count": 260,
   "id": "141d5d04",
   "metadata": {},
   "outputs": [
    {
     "name": "stdout",
     "output_type": "stream",
     "text": [
      "훈련 =  0.4423779964002278\n",
      "테스트 =  0.4302489408468031\n"
     ]
    }
   ],
   "source": [
    "from sklearn.linear_model import Lasso\n",
    "\n",
    "l = Lasso()\n",
    "l.fit(train_input, train_target)\n",
    "print(\"훈련 = \", l.score(train_input, train_target))\n",
    "print(\"테스트 = \", l.score(test_input, test_target))"
   ]
  },
  {
   "cell_type": "code",
   "execution_count": 274,
   "id": "d842ffad",
   "metadata": {},
   "outputs": [
    {
     "data": {
      "image/png": "[encoded data removed]",
      "text/plain": [
       "<Figure size 432x288 with 1 Axes>"
      ]
     },
     "metadata": {
      "needs_background": "light"
     },
     "output_type": "display_data"
    }
   ],
   "source": [
    "# 훈련시 발생하는 결정계수를 저장할 리스트\n",
    "train_score = []\n",
    "\n",
    "#테스트시 발생하는 결정계수를 저장할 리스트\n",
    "test_score = []\n",
    "\n",
    "# 임의 alpha 값(x축으로 설정) 설정(범위 설정)\n",
    "alpha_list = [0.0001,0.001, 0.01, 0.1, 1, 10, 100]\n",
    "\n",
    "### 훈련 및 테스트 결정계수 데이터 조회하기\n",
    "for alpha in alpha_list:\n",
    "    # 릿지모델\n",
    "    lasso = Lasso(alpha = alpha)\n",
    "    lasso.fit(train_input, train_target)\n",
    "    train_score.append(lasso.score(train_input, train_target))\n",
    "    test_score.append(lasso.score(test_input, test_target))\n",
    "    \n",
    "# 시각화\n",
    "plt.plot(np.log10(alpha_list), train_score)\n",
    "plt.plot(np.log10(alpha_list), test_score)\n",
    "plt.show()"
   ]
  },
  {
   "cell_type": "code",
   "execution_count": 272,
   "id": "b48ad145",
   "metadata": {},
   "outputs": [
    {
     "name": "stdout",
     "output_type": "stream",
     "text": [
      "0.9345659749059241\n",
      "0.9123267589233459\n"
     ]
    }
   ],
   "source": [
    "# 라쏘모델\n",
    "lasso = Lasso(alpha = 0.0001)\n",
    "lasso.fit(train_input, train_target)\n",
    "print(lasso.score(train_input, train_target))\n",
    "print(lasso.score(test_input, test_target))"
   ]
  },
  {
   "cell_type": "code",
   "execution_count": 273,
   "id": "04b06f5b",
   "metadata": {},
   "outputs": [],
   "source": [
    "### 라쏘모델 alpha = 0.0001 적합\n",
    "### 릿지모델 alphs = 0.1 적합"
   ]
  },
  {
   "cell_type": "markdown",
   "id": "24ff1347",
   "metadata": {},
   "source": [
    "-----------------"
   ]
  },
  {
   "cell_type": "markdown",
   "id": "31f72eca",
   "metadata": {},
   "source": [
    "- 품종 0,1만 뽑아서"
   ]
  },
  {
   "cell_type": "code",
   "execution_count": 276,
   "id": "95c36871",
   "metadata": {},
   "outputs": [
    {
     "name": "stdout",
     "output_type": "stream",
     "text": [
      "(74, 4)\n",
      "(74,)\n"
     ]
    }
   ],
   "source": [
    "target_set_ver = train_target[(train_target==0) | (train_target==1)]\n",
    "train_set_ver = train_input[(train_target==0) | (train_target==1)]\n",
    "\n",
    "print(train_set_ver.shape)\n",
    "print(target_set_ver.shape)"
   ]
  },
  {
   "cell_type": "code",
   "execution_count": 277,
   "id": "df89ab51",
   "metadata": {},
   "outputs": [
    {
     "data": {
      "text/plain": [
       "array([1, 1, 0, 1, 1])"
      ]
     },
     "execution_count": 277,
     "metadata": {},
     "output_type": "execute_result"
    }
   ],
   "source": [
    "from sklearn.linear_model import LogisticRegression\n",
    "\n",
    "lr = LogisticRegression()\n",
    "lr.fit(train_set_ver, target_set_ver)\n",
    "lr.score(train_set_ver, target_set_ver)\n",
    "\n",
    "lr.predict(train_set_ver[:5])"
   ]
  },
  {
   "cell_type": "code",
   "execution_count": 278,
   "id": "e0d3bd08",
   "metadata": {},
   "outputs": [
    {
     "name": "stdout",
     "output_type": "stream",
     "text": [
      "[[ 0.49033275 -0.79372016  2.14880038  0.84808724]] [-6.8735255]\n"
     ]
    }
   ],
   "source": [
    "print(lr.coef_, lr.intercept_) # 범주가 오름차순으로 정렬돼있음"
   ]
  },
  {
   "cell_type": "code",
   "execution_count": 279,
   "id": "3f4915d6",
   "metadata": {},
   "outputs": [
    {
     "name": "stdout",
     "output_type": "stream",
     "text": [
      "[ 4.66643219  4.47106988 -4.23515832  4.59321527  5.0525957 ]\n",
      "[0.99068188 0.98869421 0.01427091 0.98998113 0.99364789]\n"
     ]
    }
   ],
   "source": [
    "# z값 조회하기\n",
    "decisions = lr.decision_function(train_set_ver[:5])\n",
    "print(decisions)\n",
    "\n",
    "### 시그모이드 함수 : 싸이파이 패키지의 expit()\n",
    "from scipy.special import expit\n",
    "print(expit(decisions))"
   ]
  },
  {
   "cell_type": "code",
   "execution_count": 280,
   "id": "7ef70cd7",
   "metadata": {},
   "outputs": [
    {
     "data": {
      "text/plain": [
       "[<matplotlib.lines.Line2D at 0x1ff1e6319f0>]"
      ]
     },
     "execution_count": 280,
     "metadata": {},
     "output_type": "execute_result"
    },
    {
     "data": {
      "image/png": "[encoded data removed]",
      "text/plain": [
       "<Figure size 432x288 with 1 Axes>"
      ]
     },
     "metadata": {
      "needs_background": "light"
     },
     "output_type": "display_data"
    }
   ],
   "source": [
    "import matplotlib.pyplot as plt\n",
    "\n",
    "decisions = lr.decision_function(train_set_ver[:5])\n",
    "z = np.arange(decisions.min(), decisions.max(), 0.1)\n",
    "\n",
    "phi = 1 / (1 + np.exp(-z))\n",
    "\n",
    "\n",
    "plt.plot(z, phi)"
   ]
  },
  {
   "cell_type": "markdown",
   "id": "04fc5e58",
   "metadata": {},
   "source": [
    "- 다중분류"
   ]
  },
  {
   "cell_type": "code",
   "execution_count": 281,
   "id": "cbae0a14",
   "metadata": {},
   "outputs": [
    {
     "name": "stdout",
     "output_type": "stream",
     "text": [
      "0.9910714285714286\n",
      "0.9736842105263158\n"
     ]
    }
   ],
   "source": [
    "### 규제강도 = 20\n",
    "### 반복횟수 = 1000회\n",
    "# 훈련데이터와 테스트데이터에 대한 정확도 확인\n",
    "lr = LogisticRegression(C=20, max_iter=1000)\n",
    "lr.fit(train_input, train_target)\n",
    "\n",
    "print(lr.score(train_input, train_target))\n",
    "print(lr.score(test_input, test_target))"
   ]
  },
  {
   "cell_type": "code",
   "execution_count": 282,
   "id": "d213c2a7",
   "metadata": {},
   "outputs": [
    {
     "name": "stdout",
     "output_type": "stream",
     "text": [
      "[0 1 1 2 1]\n",
      "[[0.999 0.001 0.   ]\n",
      " [0.    0.994 0.006]\n",
      " [0.    0.998 0.001]\n",
      " [0.    0.11  0.89 ]\n",
      " [0.001 0.999 0.   ]]\n"
     ]
    }
   ],
   "source": [
    "# 상위 5건으로 예측 진행\n",
    "print(lr.predict(test_input[:5]))\n",
    "\n",
    "# 전체 범주별 확률 확인\n",
    "proba = lr.predict_proba(test_input[:5])\n",
    "print(np.round(proba, decimals = 3))"
   ]
  },
  {
   "cell_type": "code",
   "execution_count": 283,
   "id": "53510715",
   "metadata": {},
   "outputs": [
    {
     "name": "stdout",
     "output_type": "stream",
     "text": [
      "[[-0.68524689  1.97291939 -4.56280869 -1.98742261]\n",
      " [ 0.82028945  0.07485842 -0.07703    -3.43105524]\n",
      " [-0.13504255 -2.04777781  4.63983869  5.41847785]] [ 17.65080689   4.26455827 -21.91536516]\n"
     ]
    }
   ],
   "source": [
    "print(lr.coef_, lr.intercept_)"
   ]
  },
  {
   "cell_type": "code",
   "execution_count": 284,
   "id": "92d0f211",
   "metadata": {
    "scrolled": true
   },
   "outputs": [
    {
     "name": "stdout",
     "output_type": "stream",
     "text": [
      "[[ 14.027   7.483 -21.51 ]\n",
      " [ -4.835   4.999  -0.163]\n",
      " [ -3.217   4.94   -1.723]\n",
      " [-11.008   4.459   6.55 ]\n",
      " [ -1.692   5.477  -3.786]]\n",
      "[[0.999 0.001 0.   ]\n",
      " [0.    0.994 0.006]\n",
      " [0.    0.998 0.001]\n",
      " [0.    0.11  0.89 ]\n",
      " [0.001 0.999 0.   ]]\n"
     ]
    }
   ],
   "source": [
    "# z값 조회하기\n",
    "decisions = lr.decision_function(test_input[:5])\n",
    "print(np.round(decisions, decimals=3))\n",
    "\n",
    "# softmax\n",
    "from scipy.special import softmax\n",
    "\n",
    "proba = softmax(decisions, axis=1)\n",
    "print(np.round(proba,  decimals=3))"
   ]
  },
  {
   "cell_type": "markdown",
   "id": "88f66cd4",
   "metadata": {},
   "source": [
    "-------------"
   ]
  },
  {
   "cell_type": "markdown",
   "id": "4edb9aa6",
   "metadata": {},
   "source": [
    "- + petal_length로 petal_width예측"
   ]
  },
  {
   "cell_type": "code",
   "execution_count": 308,
   "id": "96eb3f71",
   "metadata": {},
   "outputs": [
    {
     "data": {
      "text/plain": [
       "array([[5.1, 3.5, 1.4, 0.2],\n",
       "       [4.9, 3. , 1.4, 0.2],\n",
       "       [4.7, 3.2, 1.3, 0.2],\n",
       "       [4.6, 3.1, 1.5, 0.2],\n",
       "       [5. , 3.6, 1.4, 0.2]])"
      ]
     },
     "execution_count": 308,
     "metadata": {},
     "output_type": "execute_result"
    }
   ],
   "source": [
    "iris_wl[:5]"
   ]
  },
  {
   "cell_type": "code",
   "execution_count": 309,
   "id": "5c55311c",
   "metadata": {},
   "outputs": [
    {
     "data": {
      "text/plain": [
       "[[3.5], [3.0], [3.2], [3.1], [3.6], [3.9], [3.4], [3.4], [2.9], [3.1]]"
      ]
     },
     "execution_count": 309,
     "metadata": {},
     "output_type": "execute_result"
    }
   ],
   "source": [
    "length_p = []\n",
    "\n",
    "for i in range(0, len(iris_wl)):\n",
    "    a = iris_wl[i][1]\n",
    "    length_p.append([a])\n",
    "    \n",
    "length_p[:10]"
   ]
  },
  {
   "cell_type": "code",
   "execution_count": 310,
   "id": "51ea0604",
   "metadata": {},
   "outputs": [
    {
     "data": {
      "text/plain": [
       "[0.2, 0.2, 0.2, 0.2, 0.2, 0.4, 0.3, 0.2, 0.2, 0.1]"
      ]
     },
     "execution_count": 310,
     "metadata": {},
     "output_type": "execute_result"
    }
   ],
   "source": [
    "width_p = []\n",
    "\n",
    "for i in range(0, len(iris_wl)):\n",
    "    a = iris_wl[i][3]\n",
    "    width_p.append(a)\n",
    "    \n",
    "width_p[:10]"
   ]
  },
  {
   "cell_type": "code",
   "execution_count": 330,
   "id": "dbf4d7a2",
   "metadata": {},
   "outputs": [
    {
     "name": "stdout",
     "output_type": "stream",
     "text": [
      "(150, 1)\n"
     ]
    },
    {
     "data": {
      "text/plain": [
       "array([0.2, 0.2, 0.2, 0.2, 0.2, 0.4, 0.3, 0.2, 0.2, 0.1, 0.2, 0.2, 0.1,\n",
       "       0.1, 0.2, 0.4, 0.4, 0.3, 0.3, 0.3, 0.2, 0.4, 0.2, 0.5, 0.2, 0.2,\n",
       "       0.4, 0.2, 0.2, 0.2, 0.2, 0.4, 0.1, 0.2, 0.2, 0.2, 0.2, 0.1, 0.2,\n",
       "       0.2, 0.3, 0.3, 0.2, 0.6, 0.4, 0.3, 0.2, 0.2, 0.2, 0.2, 1.4, 1.5,\n",
       "       1.5, 1.3, 1.5, 1.3, 1.6, 1. , 1.3, 1.4, 1. , 1.5, 1. , 1.4, 1.3,\n",
       "       1.4, 1.5, 1. , 1.5, 1.1, 1.8, 1.3, 1.5, 1.2, 1.3, 1.4, 1.4, 1.7,\n",
       "       1.5, 1. , 1.1, 1. , 1.2, 1.6, 1.5, 1.6, 1.5, 1.3, 1.3, 1.3, 1.2,\n",
       "       1.4, 1.2, 1. , 1.3, 1.2, 1.3, 1.3, 1.1, 1.3, 2.5, 1.9, 2.1, 1.8,\n",
       "       2.2, 2.1, 1.7, 1.8, 1.8, 2.5, 2. , 1.9, 2.1, 2. , 2.4, 2.3, 1.8,\n",
       "       2.2, 2.3, 1.5, 2.3, 2. , 2. , 1.8, 2.1, 1.8, 1.8, 1.8, 2.1, 1.6,\n",
       "       1.9, 2. , 2.2, 1.5, 1.4, 2.3, 2.4, 1.8, 1.8, 2.1, 2.4, 2.3, 1.9,\n",
       "       2.3, 2.5, 2.3, 1.9, 2. , 2.3, 1.8])"
      ]
     },
     "execution_count": 330,
     "metadata": {},
     "output_type": "execute_result"
    }
   ],
   "source": [
    "plength = np.array(length_p)\n",
    "pwidth = np.array(width_p)\n",
    "\n",
    "print(plength.shape)\n",
    "pwidth"
   ]
  },
  {
   "cell_type": "code",
   "execution_count": 355,
   "id": "c24f1cd1",
   "metadata": {},
   "outputs": [
    {
     "data": {
      "text/plain": [
       "0.16057833409236233"
      ]
     },
     "execution_count": 355,
     "metadata": {},
     "output_type": "execute_result"
    }
   ],
   "source": [
    "train_input, test_input, train_target, test_target = train_test_split(plength,pwidth, random_state=20)\n",
    "from sklearn.neighbors import KNeighborsRegressor\n",
    "\n",
    "knr = KNeighborsRegressor(n_neighbors=3)\n",
    "knr.fit(train_input, train_target)\n",
    "knr.score(test_input, test_target)"
   ]
  },
  {
   "cell_type": "code",
   "execution_count": null,
   "id": "890e92a2",
   "metadata": {},
   "outputs": [],
   "source": []
  }
 ],
 "metadata": {
  "kernelspec": {
   "display_name": "ml_kerner",
   "language": "python",
   "name": "ml"
  },
  "language_info": {
   "codemirror_mode": {
    "name": "ipython",
    "version": 3
   },
   "file_extension": ".py",
   "mimetype": "text/x-python",
   "name": "python",
   "nbconvert_exporter": "python",
   "pygments_lexer": "ipython3",
   "version": "3.10.5"
  }
 },
 "nbformat": 4,
 "nbformat_minor": 5
}

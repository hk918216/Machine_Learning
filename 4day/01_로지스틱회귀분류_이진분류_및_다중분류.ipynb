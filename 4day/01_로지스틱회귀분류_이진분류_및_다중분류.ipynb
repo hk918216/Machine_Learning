{
 "cells": [
  {
   "cell_type": "markdown",
   "id": "b68bc3b1",
   "metadata": {},
   "source": [
    "# 로지스틱 회귀분류 모델"
   ]
  },
  {
   "cell_type": "code",
   "execution_count": 59,
   "id": "d3e791c0",
   "metadata": {
    "scrolled": true
   },
   "outputs": [
    {
     "data": {
      "text/html": [
       "<div>\n",
       "<style scoped>\n",
       "    .dataframe tbody tr th:only-of-type {\n",
       "        vertical-align: middle;\n",
       "    }\n",
       "\n",
       "    .dataframe tbody tr th {\n",
       "        vertical-align: top;\n",
       "    }\n",
       "\n",
       "    .dataframe thead th {\n",
       "        text-align: right;\n",
       "    }\n",
       "</style>\n",
       "<table border=\"1\" class=\"dataframe\">\n",
       "  <thead>\n",
       "    <tr style=\"text-align: right;\">\n",
       "      <th></th>\n",
       "      <th>Species</th>\n",
       "      <th>Weight</th>\n",
       "      <th>Length</th>\n",
       "      <th>Diagonal</th>\n",
       "      <th>Height</th>\n",
       "      <th>Width</th>\n",
       "    </tr>\n",
       "  </thead>\n",
       "  <tbody>\n",
       "    <tr>\n",
       "      <th>0</th>\n",
       "      <td>Bream</td>\n",
       "      <td>242.0</td>\n",
       "      <td>25.4</td>\n",
       "      <td>30.0</td>\n",
       "      <td>11.5200</td>\n",
       "      <td>4.0200</td>\n",
       "    </tr>\n",
       "    <tr>\n",
       "      <th>1</th>\n",
       "      <td>Bream</td>\n",
       "      <td>290.0</td>\n",
       "      <td>26.3</td>\n",
       "      <td>31.2</td>\n",
       "      <td>12.4800</td>\n",
       "      <td>4.3056</td>\n",
       "    </tr>\n",
       "    <tr>\n",
       "      <th>2</th>\n",
       "      <td>Bream</td>\n",
       "      <td>340.0</td>\n",
       "      <td>26.5</td>\n",
       "      <td>31.1</td>\n",
       "      <td>12.3778</td>\n",
       "      <td>4.6961</td>\n",
       "    </tr>\n",
       "    <tr>\n",
       "      <th>3</th>\n",
       "      <td>Bream</td>\n",
       "      <td>363.0</td>\n",
       "      <td>29.0</td>\n",
       "      <td>33.5</td>\n",
       "      <td>12.7300</td>\n",
       "      <td>4.4555</td>\n",
       "    </tr>\n",
       "    <tr>\n",
       "      <th>4</th>\n",
       "      <td>Bream</td>\n",
       "      <td>430.0</td>\n",
       "      <td>29.0</td>\n",
       "      <td>34.0</td>\n",
       "      <td>12.4440</td>\n",
       "      <td>5.1340</td>\n",
       "    </tr>\n",
       "    <tr>\n",
       "      <th>5</th>\n",
       "      <td>Bream</td>\n",
       "      <td>450.0</td>\n",
       "      <td>29.7</td>\n",
       "      <td>34.7</td>\n",
       "      <td>13.6024</td>\n",
       "      <td>4.9274</td>\n",
       "    </tr>\n",
       "    <tr>\n",
       "      <th>6</th>\n",
       "      <td>Bream</td>\n",
       "      <td>500.0</td>\n",
       "      <td>29.7</td>\n",
       "      <td>34.5</td>\n",
       "      <td>14.1795</td>\n",
       "      <td>5.2785</td>\n",
       "    </tr>\n",
       "    <tr>\n",
       "      <th>7</th>\n",
       "      <td>Bream</td>\n",
       "      <td>390.0</td>\n",
       "      <td>30.0</td>\n",
       "      <td>35.0</td>\n",
       "      <td>12.6700</td>\n",
       "      <td>4.6900</td>\n",
       "    </tr>\n",
       "    <tr>\n",
       "      <th>8</th>\n",
       "      <td>Bream</td>\n",
       "      <td>450.0</td>\n",
       "      <td>30.0</td>\n",
       "      <td>35.1</td>\n",
       "      <td>14.0049</td>\n",
       "      <td>4.8438</td>\n",
       "    </tr>\n",
       "    <tr>\n",
       "      <th>9</th>\n",
       "      <td>Bream</td>\n",
       "      <td>500.0</td>\n",
       "      <td>30.7</td>\n",
       "      <td>36.2</td>\n",
       "      <td>14.2266</td>\n",
       "      <td>4.9594</td>\n",
       "    </tr>\n",
       "  </tbody>\n",
       "</table>\n",
       "</div>"
      ],
      "text/plain": [
       "  Species  Weight  Length  Diagonal   Height   Width\n",
       "0   Bream   242.0    25.4      30.0  11.5200  4.0200\n",
       "1   Bream   290.0    26.3      31.2  12.4800  4.3056\n",
       "2   Bream   340.0    26.5      31.1  12.3778  4.6961\n",
       "3   Bream   363.0    29.0      33.5  12.7300  4.4555\n",
       "4   Bream   430.0    29.0      34.0  12.4440  5.1340\n",
       "5   Bream   450.0    29.7      34.7  13.6024  4.9274\n",
       "6   Bream   500.0    29.7      34.5  14.1795  5.2785\n",
       "7   Bream   390.0    30.0      35.0  12.6700  4.6900\n",
       "8   Bream   450.0    30.0      35.1  14.0049  4.8438\n",
       "9   Bream   500.0    30.7      36.2  14.2266  4.9594"
      ]
     },
     "execution_count": 59,
     "metadata": {},
     "output_type": "execute_result"
    }
   ],
   "source": [
    "### 데이터 준비하기\n",
    "import pandas as pd\n",
    "\n",
    "fish = pd.read_csv('./data/05_생선_분류_데이터셋.csv')\n",
    "fish.head(10)\n",
    "\n",
    "# 종 / 무게 / 길이 / 대각선 / 높이 / 두께"
   ]
  },
  {
   "cell_type": "code",
   "execution_count": 60,
   "id": "b89028b8",
   "metadata": {},
   "outputs": [
    {
     "data": {
      "text/plain": [
       "array(['Bream', 'Roach', 'Whitefish', 'Parkki', 'Perch', 'Pike', 'Smelt'],\n",
       "      dtype=object)"
      ]
     },
     "execution_count": 60,
     "metadata": {},
     "output_type": "execute_result"
    }
   ],
   "source": [
    "### 종류 특성의 고유한 값 조회\n",
    "pd.unique(fish['Species'])"
   ]
  },
  {
   "cell_type": "code",
   "execution_count": 61,
   "id": "11789335",
   "metadata": {},
   "outputs": [
    {
     "data": {
      "text/plain": [
       "array([[242.    ,  25.4   ,  30.    ,  11.52  ,   4.02  ],\n",
       "       [290.    ,  26.3   ,  31.2   ,  12.48  ,   4.3056],\n",
       "       [340.    ,  26.5   ,  31.1   ,  12.3778,   4.6961],\n",
       "       [363.    ,  29.    ,  33.5   ,  12.73  ,   4.4555],\n",
       "       [430.    ,  29.    ,  34.    ,  12.444 ,   5.134 ]])"
      ]
     },
     "execution_count": 61,
     "metadata": {},
     "output_type": "execute_result"
    }
   ],
   "source": [
    "### 독립변수 추출하기\n",
    "# - 변수명은 fish_input\n",
    "# - 사이킷런 훈련에 사용하는 형태로 만들기\n",
    "# import numpy as np\n",
    "\n",
    "fish_input = fish[['Weight','Length','Diagonal','Height','Width']]\n",
    "fish_input = fish_input.to_numpy()\n",
    "fish_input[0:5]"
   ]
  },
  {
   "cell_type": "code",
   "execution_count": 62,
   "id": "817525ee",
   "metadata": {},
   "outputs": [
    {
     "data": {
      "text/plain": [
       "array(['Bream', 'Bream', 'Bream', 'Bream', 'Bream', 'Bream', 'Bream',\n",
       "       'Bream', 'Bream', 'Bream', 'Bream', 'Bream', 'Bream', 'Bream',\n",
       "       'Bream', 'Bream', 'Bream', 'Bream', 'Bream', 'Bream', 'Bream',\n",
       "       'Bream', 'Bream', 'Bream', 'Bream', 'Bream', 'Bream', 'Bream',\n",
       "       'Bream', 'Bream', 'Bream', 'Bream', 'Bream', 'Bream', 'Bream',\n",
       "       'Roach', 'Roach', 'Roach', 'Roach', 'Roach', 'Roach', 'Roach',\n",
       "       'Roach', 'Roach', 'Roach', 'Roach', 'Roach', 'Roach', 'Roach',\n",
       "       'Roach', 'Roach', 'Roach', 'Roach', 'Roach', 'Roach', 'Whitefish',\n",
       "       'Whitefish', 'Whitefish', 'Whitefish', 'Whitefish', 'Whitefish',\n",
       "       'Parkki', 'Parkki', 'Parkki', 'Parkki', 'Parkki', 'Parkki',\n",
       "       'Parkki', 'Parkki', 'Parkki', 'Parkki', 'Parkki', 'Perch', 'Perch',\n",
       "       'Perch', 'Perch', 'Perch', 'Perch', 'Perch', 'Perch', 'Perch',\n",
       "       'Perch', 'Perch', 'Perch', 'Perch', 'Perch', 'Perch', 'Perch',\n",
       "       'Perch', 'Perch', 'Perch', 'Perch', 'Perch', 'Perch', 'Perch',\n",
       "       'Perch', 'Perch', 'Perch', 'Perch', 'Perch', 'Perch', 'Perch',\n",
       "       'Perch', 'Perch', 'Perch', 'Perch', 'Perch', 'Perch', 'Perch',\n",
       "       'Perch', 'Perch', 'Perch', 'Perch', 'Perch', 'Perch', 'Perch',\n",
       "       'Perch', 'Perch', 'Perch', 'Perch', 'Perch', 'Perch', 'Perch',\n",
       "       'Perch', 'Perch', 'Perch', 'Perch', 'Perch', 'Pike', 'Pike',\n",
       "       'Pike', 'Pike', 'Pike', 'Pike', 'Pike', 'Pike', 'Pike', 'Pike',\n",
       "       'Pike', 'Pike', 'Pike', 'Pike', 'Pike', 'Pike', 'Pike', 'Smelt',\n",
       "       'Smelt', 'Smelt', 'Smelt', 'Smelt', 'Smelt', 'Smelt', 'Smelt',\n",
       "       'Smelt', 'Smelt', 'Smelt', 'Smelt', 'Smelt', 'Smelt'], dtype=object)"
      ]
     },
     "execution_count": 62,
     "metadata": {},
     "output_type": "execute_result"
    }
   ],
   "source": [
    "### 종속변수 만들기\n",
    "# - 변수명 : fish_target\n",
    "\n",
    "fish_target = fish['Species'].to_numpy()\n",
    "fish_target"
   ]
  },
  {
   "cell_type": "code",
   "execution_count": 202,
   "id": "540c6391",
   "metadata": {},
   "outputs": [
    {
     "name": "stdout",
     "output_type": "stream",
     "text": [
      "(119, 5)\n",
      "-----------------------\n",
      "(119,)\n",
      "-----------------------\n",
      "(40, 5)\n",
      "-----------------------\n",
      "(40,)\n",
      "-----------------------\n"
     ]
    }
   ],
   "source": [
    "### 훈련/테스트 데이터 나누기\n",
    "from sklearn.model_selection import train_test_split\n",
    "\n",
    "train_input, test_input, train_target, test_target = train_test_split(fish_input, fish_target, random_state=42)\n",
    "\n",
    "print(train_input.shape)\n",
    "print(\"-----------------------\")\n",
    "print(train_target.shape)\n",
    "print(\"-----------------------\")\n",
    "print(test_input.shape)\n",
    "print(\"-----------------------\")\n",
    "print(test_target.shape)\n",
    "print(\"-----------------------\")"
   ]
  },
  {
   "cell_type": "code",
   "execution_count": 64,
   "id": "1afd1ce0",
   "metadata": {},
   "outputs": [],
   "source": [
    "### 정규화(표준화) : 스케일 표준화\n",
    "# - 변수 : train_scaled, test_scaled"
   ]
  },
  {
   "cell_type": "code",
   "execution_count": 65,
   "id": "1e754b82",
   "metadata": {},
   "outputs": [
    {
     "name": "stdout",
     "output_type": "stream",
     "text": [
      "[393.27226891  28.49663866  31.2697479    8.86248403   4.44828655] [355.27097574  10.67118899  11.5129708    4.04941829   1.64047206]\n",
      "-----------------------\n",
      "[[ 0.91965782  0.60943175  0.81041221  1.85194896  1.00075672]\n",
      " [ 0.30041219  1.54653445  1.45316551 -0.46981663  0.27291745]\n",
      " [-1.0858536  -1.68646987 -1.70848587 -1.70159849 -2.0044758 ]\n",
      " [-0.79734143 -0.60880176 -0.67486907 -0.82480589 -0.27631471]\n",
      " [-0.71289885 -0.73062511 -0.70092664 -0.0802298  -0.7033869 ]]\n",
      "-----------------------\n",
      "[[-0.88741352 -0.91804565 -1.03098914 -0.90464451 -0.80762518]\n",
      " [-1.06924656 -1.50842035 -1.54345461 -1.58849582 -1.93803151]\n",
      " [-0.54401367  0.35641402  0.30663259 -0.8135697  -0.65388895]\n",
      " [-0.34698097 -0.23396068 -0.22320459 -0.11905019 -0.12233464]\n",
      " [-0.68475132 -0.51509149 -0.58801052 -0.8998784  -0.50124996]]\n"
     ]
    }
   ],
   "source": [
    "from sklearn.preprocessing import StandardScaler\n",
    "\n",
    "ss = StandardScaler()\n",
    "\n",
    "ss.fit(train_input)\n",
    "\n",
    "train_scaled = ss.transform(train_input)\n",
    "test_scaled = ss.transform(test_input)\n",
    "\n",
    "print(ss.mean_, ss.scale_)\n",
    "print(\"-----------------------\")\n",
    "print(train_scaled[ :5])\n",
    "print(\"-----------------------\")\n",
    "print(test_scaled[ :5])"
   ]
  },
  {
   "cell_type": "code",
   "execution_count": 79,
   "id": "a24d6af9",
   "metadata": {},
   "outputs": [
    {
     "name": "stdout",
     "output_type": "stream",
     "text": [
      "0.85\n",
      "0.8907563025210085\n"
     ]
    },
    {
     "name": "stderr",
     "output_type": "stream",
     "text": [
      "C:\\Users\\admin\\AppData\\Local\\Programs\\Python\\Python310\\lib\\site-packages\\sklearn\\neighbors\\_classification.py:237: FutureWarning: Unlike other reduction functions (e.g. `skew`, `kurtosis`), the default behavior of `mode` typically preserves the axis it acts along. In SciPy 1.11.0, this behavior will change: the default value of `keepdims` will become False, the `axis` over which the statistic is taken will be eliminated, and the value None will no longer be accepted. Set `keepdims` to True or False to avoid this warning.\n",
      "  mode, _ = stats.mode(_y[neigh_ind, k], axis=1)\n",
      "C:\\Users\\admin\\AppData\\Local\\Programs\\Python\\Python310\\lib\\site-packages\\sklearn\\neighbors\\_classification.py:237: FutureWarning: Unlike other reduction functions (e.g. `skew`, `kurtosis`), the default behavior of `mode` typically preserves the axis it acts along. In SciPy 1.11.0, this behavior will change: the default value of `keepdims` will become False, the `axis` over which the statistic is taken will be eliminated, and the value None will no longer be accepted. Set `keepdims` to True or False to avoid this warning.\n",
      "  mode, _ = stats.mode(_y[neigh_ind, k], axis=1)\n"
     ]
    }
   ],
   "source": [
    "### k-최근접이웃분류 모델로 테스트\n",
    "from sklearn.neighbors import KNeighborsClassifier\n",
    "\n",
    "kn =KNeighborsClassifier()\n",
    "\n",
    "kn.n_neighbors=3\n",
    "kn.fit(train_scaled, train_target)\n",
    "print(kn.score(test_scaled, test_target))\n",
    "print(kn.score(train_scaled, train_target))"
   ]
  },
  {
   "cell_type": "code",
   "execution_count": 74,
   "id": "0b63014a",
   "metadata": {},
   "outputs": [
    {
     "name": "stdout",
     "output_type": "stream",
     "text": [
      "['Perch' 'Smelt' 'Pike' 'Perch' 'Perch']\n",
      "['Perch' 'Smelt' 'Pike' 'Whitefish' 'Perch']\n"
     ]
    },
    {
     "name": "stderr",
     "output_type": "stream",
     "text": [
      "C:\\Users\\admin\\AppData\\Local\\Programs\\Python\\Python310\\lib\\site-packages\\sklearn\\neighbors\\_classification.py:237: FutureWarning: Unlike other reduction functions (e.g. `skew`, `kurtosis`), the default behavior of `mode` typically preserves the axis it acts along. In SciPy 1.11.0, this behavior will change: the default value of `keepdims` will become False, the `axis` over which the statistic is taken will be eliminated, and the value None will no longer be accepted. Set `keepdims` to True or False to avoid this warning.\n",
      "  mode, _ = stats.mode(_y[neigh_ind, k], axis=1)\n",
      "C:\\Users\\admin\\AppData\\Local\\Programs\\Python\\Python310\\lib\\site-packages\\sklearn\\neighbors\\_classification.py:237: FutureWarning: Unlike other reduction functions (e.g. `skew`, `kurtosis`), the default behavior of `mode` typically preserves the axis it acts along. In SciPy 1.11.0, this behavior will change: the default value of `keepdims` will become False, the `axis` over which the statistic is taken will be eliminated, and the value None will no longer be accepted. Set `keepdims` to True or False to avoid this warning.\n",
      "  mode, _ = stats.mode(_y[neigh_ind, k], axis=1)\n"
     ]
    },
    {
     "data": {
      "text/plain": [
       "array([['Perch', 'Perch'],\n",
       "       ['Smelt', 'Smelt'],\n",
       "       ['Pike', 'Pike'],\n",
       "       ['Whitefish', 'Perch'],\n",
       "       ['Perch', 'Perch']], dtype=object)"
      ]
     },
     "execution_count": 74,
     "metadata": {},
     "output_type": "execute_result"
    }
   ],
   "source": [
    "# 상위 5개 예측하기\n",
    "print(kn.predict(test_scaled[ : 5]))\n",
    "print(test_target[ :5])\n",
    "\n",
    "# [[실제값 , 예측값],[실제값 , 예측값],[],[],... ]\n",
    "import numpy as np\n",
    "\n",
    "np.column_stack((test_target[:5], kn.predict(test_scaled[:5])))"
   ]
  },
  {
   "cell_type": "code",
   "execution_count": null,
   "id": "1f33b088",
   "metadata": {},
   "outputs": [],
   "source": [
    "### 각 행의 범주들의 확률값 확인\n",
    "# - 확률값의 범위 : 0 ~ 1(0% ~ 100%)\n",
    "# - 확률값 조회 함수 : predict_proba(테스트데이터)\n",
    "# - 사이킷런 분류 모델 공통으로 사용됨"
   ]
  },
  {
   "cell_type": "code",
   "execution_count": 77,
   "id": "d3630395",
   "metadata": {},
   "outputs": [
    {
     "name": "stdout",
     "output_type": "stream",
     "text": [
      "['Bream' 'Parkki' 'Perch' 'Pike' 'Roach' 'Smelt' 'Whitefish']\n"
     ]
    }
   ],
   "source": [
    "print(kn.classes_) #범주의 항목"
   ]
  },
  {
   "cell_type": "code",
   "execution_count": null,
   "id": "12d06d88",
   "metadata": {},
   "outputs": [],
   "source": [
    "# 범주의 항목으로 확인\n",
    "# 결과가 perch이므로 1번째 행에서 prech의 위치 3번째에 1출력\n",
    "# smelt니까 2번째 행에서 smelt 위치 6번째에 1출력\n",
    "# ..."
   ]
  },
  {
   "cell_type": "code",
   "execution_count": 76,
   "id": "bb2e824c",
   "metadata": {},
   "outputs": [
    {
     "data": {
      "text/plain": [
       "array([[0.    , 0.    , 1.    , 0.    , 0.    , 0.    , 0.    ],\n",
       "       [0.    , 0.    , 0.    , 0.    , 0.    , 1.    , 0.    ],\n",
       "       [0.    , 0.    , 0.    , 1.    , 0.    , 0.    , 0.    ],\n",
       "       [0.    , 0.    , 0.6667, 0.    , 0.3333, 0.    , 0.    ],\n",
       "       [0.    , 0.    , 0.6667, 0.    , 0.3333, 0.    , 0.    ]])"
      ]
     },
     "execution_count": 76,
     "metadata": {},
     "output_type": "execute_result"
    }
   ],
   "source": [
    "proba = kn.predict_proba(test_scaled[:5])\n",
    "np.round(proba, decimals=4)"
   ]
  },
  {
   "cell_type": "code",
   "execution_count": 80,
   "id": "72cf436a",
   "metadata": {},
   "outputs": [
    {
     "name": "stdout",
     "output_type": "stream",
     "text": [
      "[[0.13880285 0.15188629 0.15908025]\n",
      " [0.07310337 0.10341686 0.11506625]\n",
      " [0.63337713 0.80646808 0.82050896]\n",
      " [0.20774583 0.24862983 0.33682411]\n",
      " [0.17898697 0.1859878  0.19013472]]\n",
      "[[ 39  64  63]\n",
      " [ 93  99  43]\n",
      " [100 105  27]\n",
      " [104 115 106]\n",
      " [ 72  26  68]]\n"
     ]
    }
   ],
   "source": [
    "### 5개의 데이터의 이웃들 확인\n",
    "distances, indexes = kn.kneighbors(test_scaled[:5])\n",
    "print(distances)\n",
    "print(indexes)"
   ]
  },
  {
   "cell_type": "code",
   "execution_count": 86,
   "id": "5dbd70d3",
   "metadata": {},
   "outputs": [
    {
     "data": {
      "text/plain": [
       "array([['Perch', 'Perch', 'Perch'],\n",
       "       ['Smelt', 'Smelt', 'Smelt'],\n",
       "       ['Pike', 'Pike', 'Pike'],\n",
       "       ['Roach', 'Perch', 'Perch'],\n",
       "       ['Perch', 'Perch', 'Roach']], dtype=object)"
      ]
     },
     "execution_count": 86,
     "metadata": {},
     "output_type": "execute_result"
    }
   ],
   "source": [
    "train_target[indexes]"
   ]
  },
  {
   "cell_type": "code",
   "execution_count": 87,
   "id": "e990a69c",
   "metadata": {},
   "outputs": [
    {
     "name": "stdout",
     "output_type": "stream",
     "text": [
      "[['Perch' 'Perch' 'Perch']]\n",
      "[['Smelt' 'Smelt' 'Smelt']]\n",
      "[['Pike' 'Pike' 'Pike']]\n",
      "[['Roach' 'Perch' 'Perch']]\n",
      "[['Perch' 'Perch' 'Roach']]\n"
     ]
    }
   ],
   "source": [
    "for test_data in test_scaled[:5]:\n",
    "    distandes, indexes = kn.kneighbors([test_data])\n",
    "    print(train_target[indexes])"
   ]
  },
  {
   "cell_type": "code",
   "execution_count": null,
   "id": "ec3d0ed0",
   "metadata": {},
   "outputs": [],
   "source": [
    "# knn은 이웃의 개수에 제한을 받음\n",
    "# knn은 거리적인 확률이지 범주적인 확률이 아님"
   ]
  },
  {
   "cell_type": "markdown",
   "id": "077e642c",
   "metadata": {},
   "source": [
    "## 로지스틱 회귀분류(Logistic Regression)"
   ]
  },
  {
   "cell_type": "code",
   "execution_count": null,
   "id": "b586c065",
   "metadata": {},
   "outputs": [],
   "source": [
    "### 선형방정식 사용 : 다중회귀 방정식과 동일\n",
    "# - z = a * x1 + b * x2 .... + y절편\n",
    "# - z값 구하는 함수 :decision_function(훈련데이터)\n",
    "# - z값의 범위 : 0보다 작거나 크거나\n",
    "### 확률 : 0~1 사이의 값을 사용(0% ~ 100%)\n",
    "# - 따라서, z값은 확률의 0~1사이의 값으로 변환하는 작업이 필요\n",
    "### 이때 사용하는 방법\n",
    "# - 시그모이드 방식(이진분류방식 사용),\n",
    "# - 소프트맥스 방식(다중분류방식 사용)\n",
    "#   (모두 함수 지원됨)"
   ]
  },
  {
   "cell_type": "markdown",
   "id": "ba63d180",
   "metadata": {},
   "source": [
    "### 로지스틱 회귀로 이진분류하기\n",
    "##### - 시그모이드 함수 사용"
   ]
  },
  {
   "cell_type": "code",
   "execution_count": 137,
   "id": "ff355250",
   "metadata": {
    "scrolled": true
   },
   "outputs": [
    {
     "data": {
      "text/plain": [
       "array(['Bream', 'Pike', 'Smelt', 'Perch', 'Parkki', 'Roach', 'Perch',\n",
       "       'Bream', 'Perch', 'Perch', 'Perch', 'Bream', 'Perch', 'Parkki',\n",
       "       'Perch', 'Bream', 'Smelt', 'Perch', 'Roach', 'Bream', 'Pike',\n",
       "       'Bream', 'Pike', 'Perch', 'Parkki', 'Bream', 'Perch', 'Pike',\n",
       "       'Bream', 'Perch', 'Parkki', 'Roach', 'Perch', 'Bream', 'Roach',\n",
       "       'Perch', 'Bream', 'Bream', 'Perch', 'Perch', 'Roach', 'Pike',\n",
       "       'Perch', 'Smelt', 'Pike', 'Roach', 'Perch', 'Parkki', 'Perch',\n",
       "       'Bream', 'Perch', 'Smelt', 'Perch', 'Parkki', 'Smelt', 'Perch',\n",
       "       'Perch', 'Roach', 'Bream', 'Perch', 'Perch', 'Roach', 'Roach',\n",
       "       'Perch', 'Perch', 'Bream', 'Roach', 'Bream', 'Roach', 'Parkki',\n",
       "       'Perch', 'Perch', 'Perch', 'Perch', 'Pike', 'Pike', 'Perch',\n",
       "       'Bream', 'Perch', 'Bream', 'Whitefish', 'Pike', 'Bream', 'Bream',\n",
       "       'Roach', 'Perch', 'Pike', 'Bream', 'Pike', 'Parkki', 'Roach',\n",
       "       'Perch', 'Roach', 'Smelt', 'Whitefish', 'Roach', 'Perch', 'Bream',\n",
       "       'Whitefish', 'Smelt', 'Pike', 'Roach', 'Smelt', 'Bream', 'Roach',\n",
       "       'Pike', 'Perch', 'Perch', 'Perch', 'Perch', 'Perch', 'Perch',\n",
       "       'Smelt', 'Bream', 'Parkki', 'Perch', 'Bream', 'Perch', 'Perch'],\n",
       "      dtype=object)"
      ]
     },
     "execution_count": 137,
     "metadata": {},
     "output_type": "execute_result"
    }
   ],
   "source": [
    "train_scaled\n",
    "train_target"
   ]
  },
  {
   "cell_type": "code",
   "execution_count": 118,
   "id": "70b681c5",
   "metadata": {},
   "outputs": [],
   "source": [
    "### 이진분류 방식은 2개의 범주만 사용가능\n",
    "# - 기존 데이터에서 2개(Bream과 Smelt) 범주만 추출하여 사용\n",
    "# 독립변수명 : train_bream_smelt\n",
    "# 종속변수명 : target_bream_smelt"
   ]
  },
  {
   "cell_type": "code",
   "execution_count": 151,
   "id": "742423e0",
   "metadata": {},
   "outputs": [
    {
     "name": "stdout",
     "output_type": "stream",
     "text": [
      "(array([  0,   2,   7,  11,  15,  16,  19,  21,  25,  28,  33,  36,  37,\n",
      "        43,  49,  51,  54,  58,  65,  67,  77,  79,  82,  83,  87,  93,\n",
      "        97,  99, 102, 103, 112, 113, 116], dtype=int64),)\n"
     ]
    }
   ],
   "source": [
    "B = np.where((train_target=='Bream') | (train_target=='Smelt'))\n",
    "print(B)\n",
    "# S = np.where(train_target=='Smelt')\n",
    "# S"
   ]
  },
  {
   "cell_type": "code",
   "execution_count": 152,
   "id": "2765f197",
   "metadata": {},
   "outputs": [
    {
     "name": "stdout",
     "output_type": "stream",
     "text": [
      "[[ 0.91965782  0.60943175  0.81041221  1.85194896  1.00075672]\n",
      " [-1.0858536  -1.68646987 -1.70848587 -1.70159849 -2.0044758 ]\n",
      " [ 0.63818253  0.56257661  0.73223951  1.64473401  0.50705737]\n",
      " [ 0.30041219  0.23459067  0.42823457  1.36042157  0.22329758]\n",
      " [ 0.9027693   0.70314202  0.88858491  1.89027545  0.85537174]\n",
      " [-1.0824759  -1.61150165 -1.62162731 -1.7000674  -1.92815631]\n",
      " [ 0.10337949  0.04717013  0.23714575  0.88445197  0.41799764]\n",
      " [ 1.49668216  1.03112796  1.21864741  2.44274986  1.40289707]\n",
      " [ 0.23004337  0.23459067  0.42823457  1.3336029   0.39983213]\n",
      " [-0.42579405 -0.29018684 -0.11028847  0.65627104 -0.26107519]\n",
      " [ 1.28557569  0.70314202  0.89727076  1.98228866  1.06683526]\n",
      " [ 0.93373158  0.60943175  0.83646978  1.85150445  0.97832415]\n",
      " [ 0.80706771  0.60943175  0.81041221  1.63137406  1.0255057 ]\n",
      " [-1.07262426 -1.52716241 -1.55214047 -1.67235972 -1.86207776]\n",
      " [ 1.6374198   1.17169337  1.27076255  2.41341232  1.40143407]\n",
      " [-1.07966115 -1.63961473 -1.67374245 -1.6462819  -1.87036806]\n",
      " [-1.05151362 -1.33037084 -1.39579507 -1.47914678 -1.45146425]\n",
      " [ 0.15967454  0.11276732  0.29794674  1.17051775  0.29205828]\n",
      " [ 1.56705098  1.17169337  1.32287768  2.16352457  1.17174409]\n",
      " [-0.00921063  0.1408804   0.3240043   0.94026245  0.14734384]\n",
      " [ 0.15967454  0.1408804   0.33269016  1.26991474  0.24109734]\n",
      " [-0.14994827  0.32830094  0.52377898  1.24719543  0.3806913 ]\n",
      " [-0.08520896  0.04717013  0.19371647  0.95507939  0.00439718]\n",
      " [ 0.86336276  0.42201121  0.62800925  1.5003429   0.45670601]\n",
      " [ 0.30041219  0.11276732  0.28057503  1.31303204  0.50608204]\n",
      " [-1.07262426 -1.45219419 -1.51739705 -1.62627903 -1.94607798]\n",
      " [ 0.82114147  0.51572148  0.68881023  1.76102232  0.5621025 ]\n",
      " [-1.07937967 -1.54590446 -1.56951218 -1.64420753 -2.01154694]\n",
      " [-1.07937967 -1.62087268 -1.63899902 -1.67413775 -1.93303295]\n",
      " [-0.29068592 -0.2058476  -0.0060582   0.89334213 -0.08697896]\n",
      " [-1.05095067 -1.26477365 -1.30893652 -1.46447801 -1.56606541]\n",
      " [ 0.51151865  0.51572148  0.7148678   1.54738669  0.68347   ]\n",
      " [ 0.58188748  0.32830094  0.51509312  1.50439286  0.4404302 ]]\n"
     ]
    }
   ],
   "source": [
    "print(train_scaled[B])\n",
    "# train_scaled[S]"
   ]
  },
  {
   "cell_type": "code",
   "execution_count": 153,
   "id": "1b2019a6",
   "metadata": {},
   "outputs": [
    {
     "data": {
      "text/plain": [
       "array(['Bream', 'Smelt', 'Bream', 'Bream', 'Bream', 'Smelt', 'Bream',\n",
       "       'Bream', 'Bream', 'Bream', 'Bream', 'Bream', 'Bream', 'Smelt',\n",
       "       'Bream', 'Smelt', 'Smelt', 'Bream', 'Bream', 'Bream', 'Bream',\n",
       "       'Bream', 'Bream', 'Bream', 'Bream', 'Smelt', 'Bream', 'Smelt',\n",
       "       'Smelt', 'Bream', 'Smelt', 'Bream', 'Bream'], dtype=object)"
      ]
     },
     "execution_count": 153,
     "metadata": {},
     "output_type": "execute_result"
    }
   ],
   "source": [
    "train_target[B]"
   ]
  },
  {
   "cell_type": "code",
   "execution_count": 155,
   "id": "019b4d9a",
   "metadata": {},
   "outputs": [
    {
     "name": "stdout",
     "output_type": "stream",
     "text": [
      "(33, 5)\n",
      "\n",
      "['Bream' 'Smelt' 'Bream' 'Bream' 'Bream' 'Smelt' 'Bream' 'Bream' 'Bream'\n",
      " 'Bream' 'Bream' 'Bream' 'Bream' 'Smelt' 'Bream' 'Smelt' 'Smelt' 'Bream'\n",
      " 'Bream' 'Bream' 'Bream' 'Bream' 'Bream' 'Bream' 'Bream' 'Smelt' 'Bream'\n",
      " 'Smelt' 'Smelt' 'Bream' 'Smelt' 'Bream' 'Bream']\n"
     ]
    }
   ],
   "source": [
    "# train_bream_smelt = np.concatenate((train_scaled[B],train_scaled[S]))\n",
    "# target_bream_smelt = np.concatenate((train_target[B],train_target[S]))\n",
    "train_bream_smelt = train_scaled[B]\n",
    "target_bream_smelt = train_target[B]\n",
    "print(train_bream_smelt.shape)\n",
    "print()\n",
    "print(target_bream_smelt)"
   ]
  },
  {
   "cell_type": "code",
   "execution_count": null,
   "id": "20442bb8",
   "metadata": {},
   "outputs": [],
   "source": []
  },
  {
   "cell_type": "code",
   "execution_count": 150,
   "id": "78b465cc",
   "metadata": {},
   "outputs": [
    {
     "data": {
      "text/html": [
       "<div>\n",
       "<style scoped>\n",
       "    .dataframe tbody tr th:only-of-type {\n",
       "        vertical-align: middle;\n",
       "    }\n",
       "\n",
       "    .dataframe tbody tr th {\n",
       "        vertical-align: top;\n",
       "    }\n",
       "\n",
       "    .dataframe thead th {\n",
       "        text-align: right;\n",
       "    }\n",
       "</style>\n",
       "<table border=\"1\" class=\"dataframe\">\n",
       "  <thead>\n",
       "    <tr style=\"text-align: right;\">\n",
       "      <th></th>\n",
       "      <th>Species</th>\n",
       "      <th>Weight</th>\n",
       "      <th>Length</th>\n",
       "      <th>Diagonal</th>\n",
       "      <th>Height</th>\n",
       "      <th>Width</th>\n",
       "    </tr>\n",
       "  </thead>\n",
       "  <tbody>\n",
       "    <tr>\n",
       "      <th>0</th>\n",
       "      <td>Bream</td>\n",
       "      <td>242.0</td>\n",
       "      <td>25.4</td>\n",
       "      <td>30.0</td>\n",
       "      <td>11.5200</td>\n",
       "      <td>4.0200</td>\n",
       "    </tr>\n",
       "    <tr>\n",
       "      <th>1</th>\n",
       "      <td>Bream</td>\n",
       "      <td>290.0</td>\n",
       "      <td>26.3</td>\n",
       "      <td>31.2</td>\n",
       "      <td>12.4800</td>\n",
       "      <td>4.3056</td>\n",
       "    </tr>\n",
       "    <tr>\n",
       "      <th>2</th>\n",
       "      <td>Bream</td>\n",
       "      <td>340.0</td>\n",
       "      <td>26.5</td>\n",
       "      <td>31.1</td>\n",
       "      <td>12.3778</td>\n",
       "      <td>4.6961</td>\n",
       "    </tr>\n",
       "    <tr>\n",
       "      <th>3</th>\n",
       "      <td>Bream</td>\n",
       "      <td>363.0</td>\n",
       "      <td>29.0</td>\n",
       "      <td>33.5</td>\n",
       "      <td>12.7300</td>\n",
       "      <td>4.4555</td>\n",
       "    </tr>\n",
       "    <tr>\n",
       "      <th>4</th>\n",
       "      <td>Bream</td>\n",
       "      <td>430.0</td>\n",
       "      <td>29.0</td>\n",
       "      <td>34.0</td>\n",
       "      <td>12.4440</td>\n",
       "      <td>5.1340</td>\n",
       "    </tr>\n",
       "    <tr>\n",
       "      <th>5</th>\n",
       "      <td>Bream</td>\n",
       "      <td>450.0</td>\n",
       "      <td>29.7</td>\n",
       "      <td>34.7</td>\n",
       "      <td>13.6024</td>\n",
       "      <td>4.9274</td>\n",
       "    </tr>\n",
       "    <tr>\n",
       "      <th>6</th>\n",
       "      <td>Bream</td>\n",
       "      <td>500.0</td>\n",
       "      <td>29.7</td>\n",
       "      <td>34.5</td>\n",
       "      <td>14.1795</td>\n",
       "      <td>5.2785</td>\n",
       "    </tr>\n",
       "    <tr>\n",
       "      <th>7</th>\n",
       "      <td>Bream</td>\n",
       "      <td>390.0</td>\n",
       "      <td>30.0</td>\n",
       "      <td>35.0</td>\n",
       "      <td>12.6700</td>\n",
       "      <td>4.6900</td>\n",
       "    </tr>\n",
       "    <tr>\n",
       "      <th>8</th>\n",
       "      <td>Bream</td>\n",
       "      <td>450.0</td>\n",
       "      <td>30.0</td>\n",
       "      <td>35.1</td>\n",
       "      <td>14.0049</td>\n",
       "      <td>4.8438</td>\n",
       "    </tr>\n",
       "    <tr>\n",
       "      <th>9</th>\n",
       "      <td>Bream</td>\n",
       "      <td>500.0</td>\n",
       "      <td>30.7</td>\n",
       "      <td>36.2</td>\n",
       "      <td>14.2266</td>\n",
       "      <td>4.9594</td>\n",
       "    </tr>\n",
       "  </tbody>\n",
       "</table>\n",
       "</div>"
      ],
      "text/plain": [
       "  Species  Weight  Length  Diagonal   Height   Width\n",
       "0   Bream   242.0    25.4      30.0  11.5200  4.0200\n",
       "1   Bream   290.0    26.3      31.2  12.4800  4.3056\n",
       "2   Bream   340.0    26.5      31.1  12.3778  4.6961\n",
       "3   Bream   363.0    29.0      33.5  12.7300  4.4555\n",
       "4   Bream   430.0    29.0      34.0  12.4440  5.1340\n",
       "5   Bream   450.0    29.7      34.7  13.6024  4.9274\n",
       "6   Bream   500.0    29.7      34.5  14.1795  5.2785\n",
       "7   Bream   390.0    30.0      35.0  12.6700  4.6900\n",
       "8   Bream   450.0    30.0      35.1  14.0049  4.8438\n",
       "9   Bream   500.0    30.7      36.2  14.2266  4.9594"
      ]
     },
     "execution_count": 150,
     "metadata": {},
     "output_type": "execute_result"
    }
   ],
   "source": [
    "fish[(fish['Species'] == \"Bream\") | (fish['Species'] == \"Smelt\")].head(10)"
   ]
  },
  {
   "cell_type": "markdown",
   "id": "f4942ef3",
   "metadata": {},
   "source": [
    "- 강사님"
   ]
  },
  {
   "cell_type": "code",
   "execution_count": 162,
   "id": "fa3731ee",
   "metadata": {},
   "outputs": [
    {
     "name": "stdout",
     "output_type": "stream",
     "text": [
      "(33, 5)\n"
     ]
    }
   ],
   "source": [
    "train_target == 'Bream' # true, false로 나옴\n",
    "target_bream_smelt = train_target[(train_target == 'Bream') | (train_target == 'Smelt')]\n",
    "\n",
    "train_bream_smelt = train_scaled[(train_target == 'Bream') | (train_target == 'Smelt')]\n",
    "print(train_bream_smelt.shape)"
   ]
  },
  {
   "cell_type": "code",
   "execution_count": 163,
   "id": "2d42cd29",
   "metadata": {},
   "outputs": [],
   "source": [
    "### 이진분류 \n",
    "### 사용할 패키지 불러오기\n",
    "from sklearn.linear_model import LogisticRegression"
   ]
  },
  {
   "cell_type": "code",
   "execution_count": 169,
   "id": "4de4ab38",
   "metadata": {},
   "outputs": [
    {
     "data": {
      "text/plain": [
       "1.0"
      ]
     },
     "execution_count": 169,
     "metadata": {},
     "output_type": "execute_result"
    }
   ],
   "source": [
    "lr = LogisticRegression()\n",
    "lr.fit(train_bream_smelt, target_bream_smelt)\n",
    "lr.score(train_bream_smelt, target_bream_smelt)"
   ]
  },
  {
   "cell_type": "code",
   "execution_count": 170,
   "id": "9e2cd5d5",
   "metadata": {},
   "outputs": [
    {
     "data": {
      "text/plain": [
       "array(['Bream', 'Smelt', 'Bream', 'Bream', 'Bream'], dtype=object)"
      ]
     },
     "execution_count": 170,
     "metadata": {},
     "output_type": "execute_result"
    }
   ],
   "source": [
    "#예측 상위5개\n",
    "lr.predict(train_bream_smelt[:5])"
   ]
  },
  {
   "cell_type": "code",
   "execution_count": 175,
   "id": "1a020379",
   "metadata": {},
   "outputs": [
    {
     "name": "stdout",
     "output_type": "stream",
     "text": [
      "['Bream' 'Smelt']\n"
     ]
    },
    {
     "data": {
      "text/plain": [
       "array([[0.9976, 0.0024],\n",
       "       [0.0274, 0.9726],\n",
       "       [0.9949, 0.0051],\n",
       "       [0.9858, 0.0142],\n",
       "       [0.9977, 0.0023]])"
      ]
     },
     "execution_count": 175,
     "metadata": {},
     "output_type": "execute_result"
    }
   ],
   "source": [
    "### 훈련모델이 가지고 있는 범주의 순서\n",
    "print(lr.classes_)\n",
    "\n",
    "### 5개 행에 대한 범주별 확률 조회\n",
    "proba = lr.predict_proba(train_bream_smelt[:5])\n",
    "np.round(proba, decimals=4)"
   ]
  },
  {
   "cell_type": "code",
   "execution_count": 176,
   "id": "6548b4bf",
   "metadata": {},
   "outputs": [
    {
     "name": "stdout",
     "output_type": "stream",
     "text": [
      "[[-0.4037798  -0.57620209 -0.66280298 -1.01290277 -0.73168947]] [-2.16155132]\n"
     ]
    }
   ],
   "source": [
    "### 결정계수(또는 가중치)와 y절편\n",
    "print(lr.coef_, lr.intercept_) # 범주가 오름차순으로 정렬돼있음"
   ]
  },
  {
   "cell_type": "code",
   "execution_count": null,
   "id": "0f84a77c",
   "metadata": {},
   "outputs": [],
   "source": [
    "# -0.4037798 * Diagonal + -0.57620209 * Height + ... + -2.16155132"
   ]
  },
  {
   "cell_type": "code",
   "execution_count": 178,
   "id": "9a3fc9a1",
   "metadata": {},
   "outputs": [
    {
     "name": "stdout",
     "output_type": "stream",
     "text": [
      "[-6.02927744  3.57123907 -5.26568906 -4.24321775 -6.0607117 ]\n",
      "[0.00240145 0.97264817 0.00513928 0.01415798 0.00232731]\n"
     ]
    }
   ],
   "source": [
    "# 이진분류에서 z값(선형방정식의 결과값들)을 0~1로 변환\n",
    "# z값 조회하기\n",
    "decisions = lr.decision_function(train_bream_smelt[:5])\n",
    "print(decisions)\n",
    "\n",
    "### 시그모이드 함수 : 싸이파이 패키지의 expit()\n",
    "from scipy.special import expit\n",
    "print(expit(decisions))"
   ]
  },
  {
   "cell_type": "markdown",
   "id": "4fae8e16",
   "metadata": {},
   "source": [
    "#### <시그모이드 함수(sigmoid functions) 또는 로지스틱함수>\n",
    "##### - 이진분류라고 함\n",
    "##### - 범주 2개일 때 주로 사용됨\n",
    "##### \n",
    "##### - 사용패키지 : from scipy.special\n",
    "##### - 사용 모듈   : import expit\n",
    "##### - 사용 함수   : expit(z값)\n",
    "##### - 0/1, Y/N 처럼 둘 중 하나로 분류할 때\n",
    "#####   (기존에 KNN처럼 사용 했었음)\n",
    "##### - 시그모이드 값의 범위 : 0과 1 사잇값(0% ~ 100%)\n",
    "##### - 범주들의 z값을 기준으로 0과 1의 사잇값으로 변환하여 반환\n",
    "##### \n",
    "##### - 변환 공식 : 1 / (1 + np.exp(-z))\n",
    "#####    : np.exp() : 지수값으로 변화하는 함수(0~1)\n",
    "#####    : -z : z값은 음수 사용\n",
    "#####    : z = 0일때, 확률은 0.5(50%)\n",
    "#####    : z > 0일때, 확률 >  0.5(51% 이상)   -> 예측 확률이 높음\n",
    "#####    : z < 0일때, 확률 <  0.5(49% 미만)\n",
    "##### - 여러개 범주들 중에 확률이 가장 높은 범주 선택"
   ]
  },
  {
   "cell_type": "code",
   "execution_count": 180,
   "id": "42cdb21f",
   "metadata": {},
   "outputs": [
    {
     "data": {
      "image/png": "[encoded data removed]",
      "text/plain": [
       "<Figure size 432x288 with 1 Axes>"
      ]
     },
     "metadata": {
      "needs_background": "light"
     },
     "output_type": "display_data"
    }
   ],
   "source": [
    "### 시그모이드 함수 예시\n",
    "import numpy as np\n",
    "import matplotlib.pyplot as plt\n",
    "\n",
    "### 임의의 z값\n",
    "z = np.arange(-5, 5, 0.1)\n",
    "\n",
    "### 시그모이드 공식 사용\n",
    "# - np.exp() : 0~1의 지수로 변환\n",
    "#            : z값의 스케일을 통일 시키기 위해\n",
    "#            : z값은 음수로 처리(제곱승 시에 분모로 계산)\n",
    "#            : 2^(-2) = 1/(2^2), 2^0 = 1\n",
    "phi = 1 / (1 + np.exp(-z))\n",
    "\n",
    "plt.plot(z, phi)\n",
    "plt.show()"
   ]
  },
  {
   "cell_type": "markdown",
   "id": "a5ad2c38",
   "metadata": {},
   "source": [
    "## 다중분류"
   ]
  },
  {
   "cell_type": "code",
   "execution_count": 181,
   "id": "a3ba2194",
   "metadata": {},
   "outputs": [],
   "source": [
    "### 다중분류는 모든 범주를 사용합니다.\n",
    "# - 독립변수도 모든 특성을 사용합니다.\n",
    "# - 모든 특성을 사용하다보니 복잡도에 대한 부분을 고려해야 함\n",
    "#   (너무 복잡해도 안되고, 느슨해도 안되고, 적당해야함)\n",
    "# - 사용하는 클래스 : 이진분류와 동일\n",
    "# - 복잡도를 강약으로 조절하기 위해 규제강도 조절값 사용\n",
    "# - 규제강도 조절값 속성명 : C (대문자), 기존의 alpha와 같음\n",
    "#   : alpha 값은 클수록 강도가 커졌다면\n",
    "#   : C값은 작을수록 강도가 커집니다\n",
    "#   : 기본값은 1, 보통 20 정도로 완화 시킨 후 진행\n",
    "\n",
    "# - 훈련반복횟수 사용\n",
    "#   : 훈련모델은 정확도를 높이기 위해 일반적으로 반복수행을 합니다.\n",
    "#   : 기본 반복횟수 : 100회\n",
    "#   : 훈련 중에 100회보다 더 해야 하는 경우 경고 창이 뜰 수 있음\n",
    "#   : 독립변수의 특성이 많을수록 훈련 반복횟수가 늘어나는 경우 발생\n",
    "#   : 반복횟수 속성값 : max_iter\n",
    "#   : 보통 반복횟수를 1000으로 놓고 진행하는 경우가 많음\n",
    "# - 이외 모든 훈련 함수는 기존과 동일"
   ]
  },
  {
   "cell_type": "code",
   "execution_count": 182,
   "id": "54c2603c",
   "metadata": {},
   "outputs": [
    {
     "name": "stdout",
     "output_type": "stream",
     "text": [
      "0.9327731092436975\n",
      "0.925\n"
     ]
    }
   ],
   "source": [
    "### 규제강도 = 20\n",
    "### 반복횟수 = 1000회\n",
    "# 훈련데이터와 테스트데이터에 대한 정확도 확인\n",
    "lr = LogisticRegression(C=20, max_iter=1000)\n",
    "lr.fit(train_scaled, train_target)\n",
    "\n",
    "print(lr.score(train_scaled, train_target))\n",
    "print(lr.score(test_scaled, test_target))"
   ]
  },
  {
   "cell_type": "code",
   "execution_count": 189,
   "id": "7ee586cf",
   "metadata": {},
   "outputs": [
    {
     "name": "stdout",
     "output_type": "stream",
     "text": [
      "['Perch' 'Smelt' 'Pike' 'Roach' 'Perch']\n",
      "[[0.    0.014 0.841 0.    0.136 0.007 0.003]\n",
      " [0.    0.003 0.044 0.    0.007 0.946 0.   ]\n",
      " [0.    0.    0.034 0.935 0.015 0.016 0.   ]\n",
      " [0.011 0.034 0.306 0.007 0.567 0.    0.076]\n",
      " [0.    0.    0.904 0.002 0.089 0.002 0.001]]\n"
     ]
    }
   ],
   "source": [
    "# 상위 5건으로 예측 진행\n",
    "print(lr.predict(test_scaled[:5]))\n",
    "\n",
    "# 전체 범주별 확률 확인\n",
    "proba = lr.predict_proba(test_scaled[:5])\n",
    "print(np.round(proba, decimals = 3))"
   ]
  },
  {
   "cell_type": "code",
   "execution_count": 190,
   "id": "cb25260a",
   "metadata": {},
   "outputs": [
    {
     "name": "stdout",
     "output_type": "stream",
     "text": [
      "['Bream' 'Parkki' 'Perch' 'Pike' 'Roach' 'Smelt' 'Whitefish']\n"
     ]
    }
   ],
   "source": [
    "print(lr.classes_)"
   ]
  },
  {
   "cell_type": "code",
   "execution_count": 193,
   "id": "ad69de96",
   "metadata": {},
   "outputs": [
    {
     "name": "stdout",
     "output_type": "stream",
     "text": [
      "[[-1.49001669 -1.02911188  2.59344182  7.70358216 -1.20070535]\n",
      " [ 0.19618154 -2.01070049 -3.77975316  6.50491991 -1.99481795]\n",
      " [ 3.56280088  6.34356158 -8.48970479 -5.75757495  3.79306719]\n",
      " [-0.10458248  3.60320123  3.93067908 -3.61738454 -1.75069682]\n",
      " [-1.40061602 -6.07502954  5.2596964  -0.87219392  1.86043801]\n",
      " [-1.38526513  1.49213827  1.39225555 -5.67734539 -4.40097836]\n",
      " [ 0.62149789 -2.32405917 -0.90661489  1.71599673  3.69369327]] [-0.09205102 -0.26290669  3.25101219 -0.14742096  2.65498547 -6.78784574\n",
      "  1.38422676]\n"
     ]
    }
   ],
   "source": [
    "# 계수와 y절편\n",
    "print(lr.coef_, lr.intercept_)"
   ]
  },
  {
   "cell_type": "code",
   "execution_count": 197,
   "id": "495ffcb3",
   "metadata": {},
   "outputs": [
    {
     "name": "stdout",
     "output_type": "stream",
     "text": [
      "[[ -6.498   1.032   5.164  -2.729   3.339   0.327  -0.634]\n",
      " [-10.859   1.927   4.771  -2.398   2.978   7.841  -4.26 ]\n",
      " [ -4.335  -6.233   3.174   6.487   2.358   2.421  -3.872]\n",
      " [ -0.683   0.453   2.647  -1.187   3.265  -5.753   1.259]\n",
      " [ -6.397  -1.993   5.816  -0.11    3.503  -0.112  -0.707]]\n"
     ]
    }
   ],
   "source": [
    "# z값 조회하기\n",
    "decisions = lr.decision_function(test_scaled[:5])\n",
    "print(np.round(decisions, decimals=3))\n",
    "\n",
    "# ### 시그모이드 함수 : 싸이파이 패키지의 expit()\n",
    "# from scipy.special import expit\n",
    "# print(expit(decisions))"
   ]
  },
  {
   "cell_type": "code",
   "execution_count": 201,
   "id": "705513b7",
   "metadata": {},
   "outputs": [
    {
     "name": "stdout",
     "output_type": "stream",
     "text": [
      "[[0.    0.014 0.841 0.    0.136 0.007 0.003]\n",
      " [0.    0.003 0.044 0.    0.007 0.946 0.   ]\n",
      " [0.    0.    0.034 0.935 0.015 0.016 0.   ]\n",
      " [0.011 0.034 0.306 0.007 0.567 0.    0.076]\n",
      " [0.    0.    0.904 0.002 0.089 0.002 0.001]]\n"
     ]
    }
   ],
   "source": [
    "### 소프트맥스(softmax)\n",
    "# 사용하는 패키지 : scipy.special\n",
    "# 사용하는 모듈 : softmax\n",
    "\n",
    "from scipy.special import softmax\n",
    "\n",
    "proba = softmax(decisions, axis=1)\n",
    "print(np.round(proba,  decimals=3))"
   ]
  },
  {
   "cell_type": "code",
   "execution_count": null,
   "id": "4e0ec041",
   "metadata": {},
   "outputs": [],
   "source": []
  }
 ],
 "metadata": {
  "kernelspec": {
   "display_name": "ml_kerner",
   "language": "python",
   "name": "ml"
  },
  "language_info": {
   "codemirror_mode": {
    "name": "ipython",
    "version": 3
   },
   "file_extension": ".py",
   "mimetype": "text/x-python",
   "name": "python",
   "nbconvert_exporter": "python",
   "pygments_lexer": "ipython3",
   "version": "3.10.5"
  }
 },
 "nbformat": 4,
 "nbformat_minor": 5
}

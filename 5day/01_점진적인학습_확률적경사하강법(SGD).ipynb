{
 "cells": [
  {
   "cell_type": "markdown",
   "id": "60d99fb1",
   "metadata": {},
   "source": [
    "## 점진적인 학습이란\n",
    "##### - 훈련에 필요한 데이터가 한번에 다 수집된 경우가 아니라\n",
    "##### - 시간 차를 두고 수집이 되는 경우에는 훈련모델 학습은 언제 해야 할까?\n",
    "##### - 이런 문제를 해결하기 위해 수집될 때마다 학습을 계속 이어나가는 훈련 방식을\n",
    "##### - \"점진적인 학습\"이라고 함\n",
    "##### --> \"점진적인 학습\" 또는 온라인 학습이라 칭함\n",
    "##### - 대표적인 점진적 학습 알고리즘은 \"확률적경사하강법\""
   ]
  },
  {
   "cell_type": "markdown",
   "id": "91bba42a",
   "metadata": {},
   "source": [
    "## 확률적 경사 하강법(SGD ; Stochastic Gradient Descent)\n",
    "##### - 경사 : 우리가 흔히 사용하는 단어인 경사(기울기)\n",
    "##### - 하강법 : 내려가는 방법\n",
    "##### - 경사 하강법?\n",
    "#####    : 원하는 지점에 도착하기 위해 가장 가파른 경사를 따라 내려가는 방법을 찾는 방법\n",
    "##### - 확률적 : \"무작위하게\" 또는 \"랜덤하게\"의 기술적 표현 언어\n",
    "#####   : 훈련데이터의 전체 특성들 중에서 하나씩 랜덤하게 선택하여 가장 가파른 길 찾음\n",
    "### < 확률적 경사 하강법 순서>\n"
   ]
  },
  {
   "cell_type": "markdown",
   "id": "5537828a",
   "metadata": {},
   "source": [
    "#### 데이터 불러오기"
   ]
  },
  {
   "cell_type": "code",
   "execution_count": 4,
   "id": "f0add034",
   "metadata": {},
   "outputs": [
    {
     "data": {
      "text/html": [
       "<div>\n",
       "<style scoped>\n",
       "    .dataframe tbody tr th:only-of-type {\n",
       "        vertical-align: middle;\n",
       "    }\n",
       "\n",
       "    .dataframe tbody tr th {\n",
       "        vertical-align: top;\n",
       "    }\n",
       "\n",
       "    .dataframe thead th {\n",
       "        text-align: right;\n",
       "    }\n",
       "</style>\n",
       "<table border=\"1\" class=\"dataframe\">\n",
       "  <thead>\n",
       "    <tr style=\"text-align: right;\">\n",
       "      <th></th>\n",
       "      <th>Species</th>\n",
       "      <th>Weight</th>\n",
       "      <th>Length</th>\n",
       "      <th>Diagonal</th>\n",
       "      <th>Height</th>\n",
       "      <th>Width</th>\n",
       "    </tr>\n",
       "  </thead>\n",
       "  <tbody>\n",
       "    <tr>\n",
       "      <th>0</th>\n",
       "      <td>Bream</td>\n",
       "      <td>242.0</td>\n",
       "      <td>25.4</td>\n",
       "      <td>30.0</td>\n",
       "      <td>11.5200</td>\n",
       "      <td>4.0200</td>\n",
       "    </tr>\n",
       "    <tr>\n",
       "      <th>1</th>\n",
       "      <td>Bream</td>\n",
       "      <td>290.0</td>\n",
       "      <td>26.3</td>\n",
       "      <td>31.2</td>\n",
       "      <td>12.4800</td>\n",
       "      <td>4.3056</td>\n",
       "    </tr>\n",
       "    <tr>\n",
       "      <th>2</th>\n",
       "      <td>Bream</td>\n",
       "      <td>340.0</td>\n",
       "      <td>26.5</td>\n",
       "      <td>31.1</td>\n",
       "      <td>12.3778</td>\n",
       "      <td>4.6961</td>\n",
       "    </tr>\n",
       "    <tr>\n",
       "      <th>3</th>\n",
       "      <td>Bream</td>\n",
       "      <td>363.0</td>\n",
       "      <td>29.0</td>\n",
       "      <td>33.5</td>\n",
       "      <td>12.7300</td>\n",
       "      <td>4.4555</td>\n",
       "    </tr>\n",
       "    <tr>\n",
       "      <th>4</th>\n",
       "      <td>Bream</td>\n",
       "      <td>430.0</td>\n",
       "      <td>29.0</td>\n",
       "      <td>34.0</td>\n",
       "      <td>12.4440</td>\n",
       "      <td>5.1340</td>\n",
       "    </tr>\n",
       "    <tr>\n",
       "      <th>5</th>\n",
       "      <td>Bream</td>\n",
       "      <td>450.0</td>\n",
       "      <td>29.7</td>\n",
       "      <td>34.7</td>\n",
       "      <td>13.6024</td>\n",
       "      <td>4.9274</td>\n",
       "    </tr>\n",
       "    <tr>\n",
       "      <th>6</th>\n",
       "      <td>Bream</td>\n",
       "      <td>500.0</td>\n",
       "      <td>29.7</td>\n",
       "      <td>34.5</td>\n",
       "      <td>14.1795</td>\n",
       "      <td>5.2785</td>\n",
       "    </tr>\n",
       "    <tr>\n",
       "      <th>7</th>\n",
       "      <td>Bream</td>\n",
       "      <td>390.0</td>\n",
       "      <td>30.0</td>\n",
       "      <td>35.0</td>\n",
       "      <td>12.6700</td>\n",
       "      <td>4.6900</td>\n",
       "    </tr>\n",
       "    <tr>\n",
       "      <th>8</th>\n",
       "      <td>Bream</td>\n",
       "      <td>450.0</td>\n",
       "      <td>30.0</td>\n",
       "      <td>35.1</td>\n",
       "      <td>14.0049</td>\n",
       "      <td>4.8438</td>\n",
       "    </tr>\n",
       "    <tr>\n",
       "      <th>9</th>\n",
       "      <td>Bream</td>\n",
       "      <td>500.0</td>\n",
       "      <td>30.7</td>\n",
       "      <td>36.2</td>\n",
       "      <td>14.2266</td>\n",
       "      <td>4.9594</td>\n",
       "    </tr>\n",
       "  </tbody>\n",
       "</table>\n",
       "</div>"
      ],
      "text/plain": [
       "  Species  Weight  Length  Diagonal   Height   Width\n",
       "0   Bream   242.0    25.4      30.0  11.5200  4.0200\n",
       "1   Bream   290.0    26.3      31.2  12.4800  4.3056\n",
       "2   Bream   340.0    26.5      31.1  12.3778  4.6961\n",
       "3   Bream   363.0    29.0      33.5  12.7300  4.4555\n",
       "4   Bream   430.0    29.0      34.0  12.4440  5.1340\n",
       "5   Bream   450.0    29.7      34.7  13.6024  4.9274\n",
       "6   Bream   500.0    29.7      34.5  14.1795  5.2785\n",
       "7   Bream   390.0    30.0      35.0  12.6700  4.6900\n",
       "8   Bream   450.0    30.0      35.1  14.0049  4.8438\n",
       "9   Bream   500.0    30.7      36.2  14.2266  4.9594"
      ]
     },
     "execution_count": 4,
     "metadata": {},
     "output_type": "execute_result"
    }
   ],
   "source": [
    "import pandas as pd\n",
    "fish = pd.read_csv('./data/07_fish.csv')\n",
    "fish.head(10)"
   ]
  },
  {
   "cell_type": "code",
   "execution_count": 8,
   "id": "7cb44eca",
   "metadata": {},
   "outputs": [
    {
     "name": "stdout",
     "output_type": "stream",
     "text": [
      "<class 'pandas.core.frame.DataFrame'>\n",
      "RangeIndex: 159 entries, 0 to 158\n",
      "Data columns (total 6 columns):\n",
      " #   Column    Non-Null Count  Dtype  \n",
      "---  ------    --------------  -----  \n",
      " 0   Species   159 non-null    object \n",
      " 1   Weight    159 non-null    float64\n",
      " 2   Length    159 non-null    float64\n",
      " 3   Diagonal  159 non-null    float64\n",
      " 4   Height    159 non-null    float64\n",
      " 5   Width     159 non-null    float64\n",
      "dtypes: float64(5), object(1)\n",
      "memory usage: 7.6+ KB\n"
     ]
    }
   ],
   "source": [
    "fish.describe()\n",
    "fish.info()"
   ]
  },
  {
   "cell_type": "markdown",
   "id": "a456769d",
   "metadata": {},
   "source": [
    "#### 2. 데이터 전처리"
   ]
  },
  {
   "cell_type": "code",
   "execution_count": 16,
   "id": "b49b641c",
   "metadata": {},
   "outputs": [
    {
     "data": {
      "text/plain": [
       "array(['Bream', 'Bream', 'Bream', 'Bream', 'Bream'], dtype=object)"
      ]
     },
     "execution_count": 16,
     "metadata": {},
     "output_type": "execute_result"
    }
   ],
   "source": [
    "### 독립변수와 종속변수 분리하여 변수화\n",
    "# 독립변수명 : fish_input\n",
    "# 종속변수명 : fish_target\n",
    "\n",
    "fish_input = fish[['Weight','Length','Diagonal','Height','Width']].to_numpy()\n",
    "fish_input[:10]\n",
    "\n",
    "fish_target = fish['Species'].to_numpy()\n",
    "fish_target[:5]"
   ]
  },
  {
   "cell_type": "code",
   "execution_count": 22,
   "id": "b1d0ff9b",
   "metadata": {},
   "outputs": [
    {
     "name": "stdout",
     "output_type": "stream",
     "text": [
      "(119, 5)\n",
      "(119,)\n",
      "(40, 5)\n",
      "(40,)\n"
     ]
    }
   ],
   "source": [
    "### 훈련(입력, 타겟) / 테스트(입력, 타켓) 데이터 분류\n",
    "from sklearn.model_selection import train_test_split\n",
    "\n",
    "train_input, test_input, train_target, test_target = train_test_split(fish_input, fish_target,\n",
    "                                                                      test_size = 0.25,random_state = 42)\n",
    "\n",
    "print(train_input.shape)\n",
    "print(train_target.shape)\n",
    "print(test_input.shape)\n",
    "print(test_target.shape)"
   ]
  },
  {
   "cell_type": "code",
   "execution_count": 23,
   "id": "58fa3def",
   "metadata": {},
   "outputs": [
    {
     "name": "stdout",
     "output_type": "stream",
     "text": [
      "[393.27226891  28.49663866  31.2697479    8.86248403   4.44828655] [355.27097574  10.67118899  11.5129708    4.04941829   1.64047206]\n",
      "-----------------------\n",
      "[[ 0.91965782  0.60943175  0.81041221  1.85194896  1.00075672]\n",
      " [ 0.30041219  1.54653445  1.45316551 -0.46981663  0.27291745]\n",
      " [-1.0858536  -1.68646987 -1.70848587 -1.70159849 -2.0044758 ]\n",
      " [-0.79734143 -0.60880176 -0.67486907 -0.82480589 -0.27631471]\n",
      " [-0.71289885 -0.73062511 -0.70092664 -0.0802298  -0.7033869 ]]\n",
      "-----------------------\n",
      "[[-0.88741352 -0.91804565 -1.03098914 -0.90464451 -0.80762518]\n",
      " [-1.06924656 -1.50842035 -1.54345461 -1.58849582 -1.93803151]\n",
      " [-0.54401367  0.35641402  0.30663259 -0.8135697  -0.65388895]\n",
      " [-0.34698097 -0.23396068 -0.22320459 -0.11905019 -0.12233464]\n",
      " [-0.68475132 -0.51509149 -0.58801052 -0.8998784  -0.50124996]]\n"
     ]
    }
   ],
   "source": [
    "### 정규화(표준화) -> 독립변수 표준점수로 동일하게 표준화(스케일)\n",
    "from sklearn.preprocessing import StandardScaler\n",
    "\n",
    "ss = StandardScaler()\n",
    "\n",
    "ss.fit(train_input)\n",
    "\n",
    "train_scaled = ss.transform(train_input)\n",
    "test_scaled = ss.transform(test_input)\n",
    "\n",
    "print(ss.mean_, ss.scale_)\n",
    "print(\"-----------------------\")\n",
    "print(train_scaled[ :5])\n",
    "print(\"-----------------------\")\n",
    "print(test_scaled[ :5])"
   ]
  },
  {
   "cell_type": "markdown",
   "id": "b64eb3e9",
   "metadata": {},
   "source": [
    "### 확률적 경사 하강법을 이용한 분류"
   ]
  },
  {
   "cell_type": "code",
   "execution_count": 37,
   "id": "c2ad4e93",
   "metadata": {},
   "outputs": [],
   "source": [
    "### 객체(모델) 생성하기\n",
    "# - loss : 손실함수 (log=로지스틱 손실함수 사용)\n",
    "#        : 조금씩 내려오면서 손실이 작은쪽을 찾아서 내려오기 위한 방법\n",
    "#        : 사람은 손실이 작은 값들을 알 수 없습니다.\n",
    "#          (학습모델이 가지고 있는 손실 계산식을 통해 결정합니다.)\n",
    "#        : 분류 결과에 만족한다면, 다 내려왔다고 인정해야 함\n",
    "#        : 사람이 직접 만들거나 직접 계산하지는 않음(관여하지 않음)\n",
    "#        : 훈련모델이 직접 수행\n",
    "#        : 사람은 분류 성격에 맞게 사용할 손실함수를 지정만 합니다.\n",
    "# - max_iter : 훈련 반복 횟수 \n",
    "#            (전체 특성이 다 끝나면 1회로 본다 -> 이를 \"에포크\"라 함)\n",
    "#        : 훈련 반복 회수가 부족한 경우 다 내려오기 전에 끝..?\n",
    "#        : 분류 정확도가 낮아질수도(과소적합), 높아질수도(과대적합)\n",
    "#        : 가장 적합한 반복 시점(에포크)을 찾아야 함..\n",
    "#          (에포크는 사람이 찾아서 max_iter에 넣어 줄 수 있음)"
   ]
  },
  {
   "cell_type": "code",
   "execution_count": 41,
   "id": "327348d9",
   "metadata": {},
   "outputs": [
    {
     "name": "stdout",
     "output_type": "stream",
     "text": [
      "0.773109243697479\n",
      "0.775\n"
     ]
    },
    {
     "name": "stderr",
     "output_type": "stream",
     "text": [
      "C:\\Users\\admin\\AppData\\Local\\Programs\\Python\\Python310\\lib\\site-packages\\sklearn\\linear_model\\_stochastic_gradient.py:173: FutureWarning: The loss 'log' was deprecated in v1.1 and will be removed in version 1.3. Use `loss='log_loss'` which is equivalent.\n",
      "  warnings.warn(\n",
      "C:\\Users\\admin\\AppData\\Local\\Programs\\Python\\Python310\\lib\\site-packages\\sklearn\\linear_model\\_stochastic_gradient.py:705: ConvergenceWarning: Maximum number of iteration reached before convergence. Consider increasing max_iter to improve the fit.\n",
      "  warnings.warn(\n"
     ]
    }
   ],
   "source": [
    "### 사용 클래스(모델) : SGDClassifier\n",
    "\n",
    "from sklearn.linear_model import SGDClassifier\n",
    "\n",
    "# 클래스(모델) 생성\n",
    "sc = SGDClassifier(loss='log',max_iter=10, random_state=42)\n",
    "sc.fit(train_scaled, train_target)\n",
    "print(sc.score(train_scaled, train_target))\n",
    "print(sc.score(test_scaled, test_target))\n",
    "\n",
    "###(해석)\n",
    "# - 훈련모델의 학습능력이 다소 떨어짐\n",
    "# - 이는 훈련 및 테스트 모두 과소적합을 보인다고 할 수 있음"
   ]
  },
  {
   "cell_type": "code",
   "execution_count": 35,
   "id": "b34615e9",
   "metadata": {},
   "outputs": [
    {
     "name": "stdout",
     "output_type": "stream",
     "text": [
      "0.8151260504201681\n",
      "0.85\n"
     ]
    },
    {
     "name": "stderr",
     "output_type": "stream",
     "text": [
      "C:\\Users\\admin\\AppData\\Local\\Programs\\Python\\Python310\\lib\\site-packages\\sklearn\\linear_model\\_stochastic_gradient.py:173: FutureWarning: The loss 'log' was deprecated in v1.1 and will be removed in version 1.3. Use `loss='log_loss'` which is equivalent.\n",
      "  warnings.warn(\n"
     ]
    }
   ],
   "source": [
    "### 점진적 학습 시작\n",
    "# 새로운 데이터가 들어왔다고 가정(실제로는 새로운 데이터 사용)\n",
    "sc.partial_fit(train_scaled, train_target)\n",
    "\n",
    "print(sc.score(train_scaled, train_target))\n",
    "print(sc.score(test_scaled, test_target))"
   ]
  },
  {
   "cell_type": "markdown",
   "id": "142a7106",
   "metadata": {},
   "source": [
    "### 에포크 반복횟수 찾기"
   ]
  },
  {
   "cell_type": "code",
   "execution_count": null,
   "id": "d0e85900",
   "metadata": {},
   "outputs": [],
   "source": [
    "import numpy as np\n",
    "\n",
    "sc = SGDClassifier(loss = 'log', random_state=42)\n",
    "\n",
    "train_score = []\n",
    "test_score = []\n",
    "\n",
    "# 범주 고유값\n",
    "classes = np.unique(train_target)\n",
    "\n",
    "# 반복을 300회 이상으로 테스트하여 정확도를 리스트에 저장\n",
    "for _ in range(0, 300):\n",
    "    sc.partial_fit(train_scaled,  train_target, classes = classes)\n",
    "    \n",
    "    train_score.append(sc.score(train_scaled, train_target))\n",
    "    test_score.append(sc.score(test_scaled, test_target))"
   ]
  },
  {
   "cell_type": "code",
   "execution_count": 39,
   "id": "e3727c8d",
   "metadata": {},
   "outputs": [
    {
     "name": "stdout",
     "output_type": "stream",
     "text": [
      "훈련 정확도 리스트 갯수 = 300\n",
      "테스트 정확도 리스트 갯수 = 300\n"
     ]
    }
   ],
   "source": [
    "print(\"훈련 정확도 리스트 갯수 =\", len(train_score))\n",
    "print(\"테스트 정확도 리스트 갯수 =\", len(test_score))"
   ]
  },
  {
   "cell_type": "code",
   "execution_count": 44,
   "id": "d5d7f058",
   "metadata": {},
   "outputs": [
    {
     "data": {
      "image/png": "[encoded data removed]",
      "text/plain": [
       "<Figure size 432x288 with 1 Axes>"
      ]
     },
     "metadata": {
      "needs_background": "light"
     },
     "output_type": "display_data"
    }
   ],
   "source": [
    "### 최적의 에포크 위치확인하기 : 시각화\n",
    "import matplotlib.pyplot as plt\n",
    "\n",
    "plt.plot(train_score, label='train_score')\n",
    "plt.plot(test_score, label='test_score')\n",
    "plt.legend()\n",
    "plt.show()"
   ]
  },
  {
   "cell_type": "code",
   "execution_count": 50,
   "id": "d5caa196",
   "metadata": {},
   "outputs": [
    {
     "name": "stdout",
     "output_type": "stream",
     "text": [
      "0.957983193277311\n",
      "0.925\n"
     ]
    },
    {
     "name": "stderr",
     "output_type": "stream",
     "text": [
      "C:\\Users\\admin\\AppData\\Local\\Programs\\Python\\Python310\\lib\\site-packages\\sklearn\\linear_model\\_stochastic_gradient.py:173: FutureWarning: The loss 'log' was deprecated in v1.1 and will be removed in version 1.3. Use `loss='log_loss'` which is equivalent.\n",
      "  warnings.warn(\n"
     ]
    }
   ],
   "source": [
    "### 최적의 에포크값 이용해 처음부터 훈련 시작\n",
    "### 사용 클래스(모델) : SGDClassifier\n",
    "\n",
    "from sklearn.linear_model import SGDClassifier\n",
    "\n",
    "# 클래스(모델) 생성\n",
    "# tol = None : 스스로 훈련이 끝나도 멈추지 말고 지정값까지 돌게 함\n",
    "sc = SGDClassifier(loss='log',max_iter=100, tol=None, random_state=42)\n",
    "sc.fit(train_scaled, train_target)\n",
    "print(sc.score(train_scaled, train_target))\n",
    "print(sc.score(test_scaled, test_target))\n",
    "\n"
   ]
  },
  {
   "cell_type": "markdown",
   "id": "e4f23592",
   "metadata": {},
   "source": [
    "### 모델 예측값 데이터프레임에 저장"
   ]
  },
  {
   "cell_type": "code",
   "execution_count": null,
   "id": "fdf4d4be",
   "metadata": {},
   "outputs": [],
   "source": [
    "##### [문제]\n",
    "##### - 새로운 데이터가 수집되었다고 가정하고 예측을 통해 결과값 저장\n",
    "# - 기존 fish 데이터 전체를 신규데이터라고 가정하고 진행\n",
    "# - 신규 데이터는 weight, length, diagonal, height, width\n",
    "#   ( 데이터프레임 변수는 별도로 만들어서 사용)\n",
    "\n",
    "##### - 데이터프레임에 예측결과에 대한 species_pred 컬럼 추가\n",
    "\n",
    "##### <출력 결과>\n",
    "# - Species_pred가 추가된 데이터프레임 출력\n",
    "#   (출력결과) 데이터프레임의 7개 컬럼 모두 출력\n",
    "#   weight, length, diagonal, height, width, species, species_pred\n",
    "\n",
    "# - 정답률 맞춘 갯수와 틀린 갯수 출력\n",
    "#   (출력 예시) 총 갯수[159]건 중, 정답 [149]건, 오답[10]건\n",
    "\n",
    "# - 정답률 오답률 출력\n",
    "#   (출력 예시) 총 100.0% 중 정답률[93.7%], 오답률[6.29%]"
   ]
  },
  {
   "cell_type": "code",
   "execution_count": 65,
   "id": "a2048b65",
   "metadata": {},
   "outputs": [],
   "source": [
    "predict_data = fish[['Weight','Length','Diagonal','Height','Width']].to_numpy()"
   ]
  },
  {
   "cell_type": "code",
   "execution_count": 66,
   "id": "e6ac42ef",
   "metadata": {},
   "outputs": [],
   "source": [
    "predict_scaled = ss.transform(predict_data)"
   ]
  },
  {
   "cell_type": "code",
   "execution_count": 70,
   "id": "6f2e79a3",
   "metadata": {},
   "outputs": [
    {
     "data": {
      "text/html": [
       "<div>\n",
       "<style scoped>\n",
       "    .dataframe tbody tr th:only-of-type {\n",
       "        vertical-align: middle;\n",
       "    }\n",
       "\n",
       "    .dataframe tbody tr th {\n",
       "        vertical-align: top;\n",
       "    }\n",
       "\n",
       "    .dataframe thead th {\n",
       "        text-align: right;\n",
       "    }\n",
       "</style>\n",
       "<table border=\"1\" class=\"dataframe\">\n",
       "  <thead>\n",
       "    <tr style=\"text-align: right;\">\n",
       "      <th></th>\n",
       "      <th>Weight</th>\n",
       "      <th>Length</th>\n",
       "      <th>Diagonal</th>\n",
       "      <th>Height</th>\n",
       "      <th>Width</th>\n",
       "      <th>Species</th>\n",
       "      <th>Species_pred</th>\n",
       "    </tr>\n",
       "  </thead>\n",
       "  <tbody>\n",
       "    <tr>\n",
       "      <th>0</th>\n",
       "      <td>242.0</td>\n",
       "      <td>25.4</td>\n",
       "      <td>30.0</td>\n",
       "      <td>11.5200</td>\n",
       "      <td>4.0200</td>\n",
       "      <td>Bream</td>\n",
       "      <td>Bream</td>\n",
       "    </tr>\n",
       "    <tr>\n",
       "      <th>1</th>\n",
       "      <td>290.0</td>\n",
       "      <td>26.3</td>\n",
       "      <td>31.2</td>\n",
       "      <td>12.4800</td>\n",
       "      <td>4.3056</td>\n",
       "      <td>Bream</td>\n",
       "      <td>Bream</td>\n",
       "    </tr>\n",
       "    <tr>\n",
       "      <th>2</th>\n",
       "      <td>340.0</td>\n",
       "      <td>26.5</td>\n",
       "      <td>31.1</td>\n",
       "      <td>12.3778</td>\n",
       "      <td>4.6961</td>\n",
       "      <td>Bream</td>\n",
       "      <td>Bream</td>\n",
       "    </tr>\n",
       "    <tr>\n",
       "      <th>3</th>\n",
       "      <td>363.0</td>\n",
       "      <td>29.0</td>\n",
       "      <td>33.5</td>\n",
       "      <td>12.7300</td>\n",
       "      <td>4.4555</td>\n",
       "      <td>Bream</td>\n",
       "      <td>Bream</td>\n",
       "    </tr>\n",
       "    <tr>\n",
       "      <th>4</th>\n",
       "      <td>430.0</td>\n",
       "      <td>29.0</td>\n",
       "      <td>34.0</td>\n",
       "      <td>12.4440</td>\n",
       "      <td>5.1340</td>\n",
       "      <td>Bream</td>\n",
       "      <td>Bream</td>\n",
       "    </tr>\n",
       "    <tr>\n",
       "      <th>...</th>\n",
       "      <td>...</td>\n",
       "      <td>...</td>\n",
       "      <td>...</td>\n",
       "      <td>...</td>\n",
       "      <td>...</td>\n",
       "      <td>...</td>\n",
       "      <td>...</td>\n",
       "    </tr>\n",
       "    <tr>\n",
       "      <th>154</th>\n",
       "      <td>12.2</td>\n",
       "      <td>12.2</td>\n",
       "      <td>13.4</td>\n",
       "      <td>2.0904</td>\n",
       "      <td>1.3936</td>\n",
       "      <td>Smelt</td>\n",
       "      <td>Smelt</td>\n",
       "    </tr>\n",
       "    <tr>\n",
       "      <th>155</th>\n",
       "      <td>13.4</td>\n",
       "      <td>12.4</td>\n",
       "      <td>13.5</td>\n",
       "      <td>2.4300</td>\n",
       "      <td>1.2690</td>\n",
       "      <td>Smelt</td>\n",
       "      <td>Smelt</td>\n",
       "    </tr>\n",
       "    <tr>\n",
       "      <th>156</th>\n",
       "      <td>12.2</td>\n",
       "      <td>13.0</td>\n",
       "      <td>13.8</td>\n",
       "      <td>2.2770</td>\n",
       "      <td>1.2558</td>\n",
       "      <td>Smelt</td>\n",
       "      <td>Smelt</td>\n",
       "    </tr>\n",
       "    <tr>\n",
       "      <th>157</th>\n",
       "      <td>19.7</td>\n",
       "      <td>14.3</td>\n",
       "      <td>15.2</td>\n",
       "      <td>2.8728</td>\n",
       "      <td>2.0672</td>\n",
       "      <td>Smelt</td>\n",
       "      <td>Smelt</td>\n",
       "    </tr>\n",
       "    <tr>\n",
       "      <th>158</th>\n",
       "      <td>19.9</td>\n",
       "      <td>15.0</td>\n",
       "      <td>16.2</td>\n",
       "      <td>2.9322</td>\n",
       "      <td>1.8792</td>\n",
       "      <td>Smelt</td>\n",
       "      <td>Smelt</td>\n",
       "    </tr>\n",
       "  </tbody>\n",
       "</table>\n",
       "<p>159 rows × 7 columns</p>\n",
       "</div>"
      ],
      "text/plain": [
       "     Weight  Length  Diagonal   Height   Width Species Species_pred\n",
       "0     242.0    25.4      30.0  11.5200  4.0200   Bream        Bream\n",
       "1     290.0    26.3      31.2  12.4800  4.3056   Bream        Bream\n",
       "2     340.0    26.5      31.1  12.3778  4.6961   Bream        Bream\n",
       "3     363.0    29.0      33.5  12.7300  4.4555   Bream        Bream\n",
       "4     430.0    29.0      34.0  12.4440  5.1340   Bream        Bream\n",
       "..      ...     ...       ...      ...     ...     ...          ...\n",
       "154    12.2    12.2      13.4   2.0904  1.3936   Smelt        Smelt\n",
       "155    13.4    12.4      13.5   2.4300  1.2690   Smelt        Smelt\n",
       "156    12.2    13.0      13.8   2.2770  1.2558   Smelt        Smelt\n",
       "157    19.7    14.3      15.2   2.8728  2.0672   Smelt        Smelt\n",
       "158    19.9    15.0      16.2   2.9322  1.8792   Smelt        Smelt\n",
       "\n",
       "[159 rows x 7 columns]"
      ]
     },
     "execution_count": 70,
     "metadata": {},
     "output_type": "execute_result"
    }
   ],
   "source": [
    "### 예측을 통해 \"class_pred\" 컬럼 신규 생성하여 \n",
    "# 예측 데이터 결과 확인하기\n",
    "result_predict = sc.predict(predict_scaled)\n",
    "\n",
    "fish_pred = fish[['Weight','Length','Diagonal','Height','Width']]\n",
    "fish_pred[\"Species\"] = fish[\"Species\"]\n",
    "fish_pred[\"Species_pred\"] = result_predict\n",
    "fish_pred"
   ]
  },
  {
   "cell_type": "code",
   "execution_count": 71,
   "id": "92b4b072",
   "metadata": {},
   "outputs": [
    {
     "name": "stdout",
     "output_type": "stream",
     "text": [
      "총 갯수[159]건 중에, 정답갯수[149]건, 오답 갯수[10]건\n"
     ]
    }
   ],
   "source": [
    "### 정답 갯수와 오답 갯수 확인하기\n",
    "o_cnt = len(fish_pred[(fish_pred[\"Species\"] == fish_pred[\"Species_pred\"])])\n",
    "o_cnt\n",
    "\n",
    "x_cnt = len(fish_pred[(fish_pred[\"Species\"] != fish_pred[\"Species_pred\"])])\n",
    "x_cnt\n",
    "\n",
    "sum_cnt = len(fish_pred)\n",
    "sum_cnt \n",
    "\n",
    "print(\"총 갯수[{}]건 중에, 정답갯수[{}]건, 오답 갯수[{}]건\".format(sum_cnt, o_cnt, x_cnt))"
   ]
  },
  {
   "cell_type": "code",
   "execution_count": 72,
   "id": "81674a95",
   "metadata": {},
   "outputs": [
    {
     "name": "stdout",
     "output_type": "stream",
     "text": [
      "총 100.0% 중 정답률[93.71%], 오답률[6.29%]\n"
     ]
    }
   ],
   "source": [
    "### 정답률과 오답률 확인하기\n",
    "import numpy as np\n",
    "\n",
    "o_p = np.round(o_cnt / sum_cnt * 100, 2)\n",
    "x_p = np.round(x_cnt / sum_cnt * 100, 2)\n",
    "sum_p = o_p + x_p\n",
    "\n",
    "print(\"총 {}% 중 정답률[{}%], 오답률[{}%]\".format(sum_p, o_p, x_p))"
   ]
  }
 ],
 "metadata": {
  "kernelspec": {
   "display_name": "ml_kerner",
   "language": "python",
   "name": "ml"
  },
  "language_info": {
   "codemirror_mode": {
    "name": "ipython",
    "version": 3
   },
   "file_extension": ".py",
   "mimetype": "text/x-python",
   "name": "python",
   "nbconvert_exporter": "python",
   "pygments_lexer": "ipython3",
   "version": "3.10.5"
  }
 },
 "nbformat": 4,
 "nbformat_minor": 5
}

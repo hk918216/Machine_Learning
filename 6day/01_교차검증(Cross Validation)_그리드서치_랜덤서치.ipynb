{
 "cells": [
  {
   "cell_type": "markdown",
   "id": "9f525ede",
   "metadata": {},
   "source": [
    "## 교차검증"
   ]
  },
  {
   "cell_type": "markdown",
   "id": "2db9376d",
   "metadata": {},
   "source": [
    "### 데이터불러오기 : 와인data"
   ]
  },
  {
   "cell_type": "code",
   "execution_count": 1,
   "id": "d91863e5",
   "metadata": {},
   "outputs": [],
   "source": [
    "import pandas as pd"
   ]
  },
  {
   "cell_type": "code",
   "execution_count": 2,
   "id": "20be241d",
   "metadata": {},
   "outputs": [
    {
     "data": {
      "text/html": [
       "<div>\n",
       "<style scoped>\n",
       "    .dataframe tbody tr th:only-of-type {\n",
       "        vertical-align: middle;\n",
       "    }\n",
       "\n",
       "    .dataframe tbody tr th {\n",
       "        vertical-align: top;\n",
       "    }\n",
       "\n",
       "    .dataframe thead th {\n",
       "        text-align: right;\n",
       "    }\n",
       "</style>\n",
       "<table border=\"1\" class=\"dataframe\">\n",
       "  <thead>\n",
       "    <tr style=\"text-align: right;\">\n",
       "      <th></th>\n",
       "      <th>alcohol</th>\n",
       "      <th>sugar</th>\n",
       "      <th>pH</th>\n",
       "      <th>class</th>\n",
       "    </tr>\n",
       "  </thead>\n",
       "  <tbody>\n",
       "    <tr>\n",
       "      <th>0</th>\n",
       "      <td>9.4</td>\n",
       "      <td>1.9</td>\n",
       "      <td>3.51</td>\n",
       "      <td>0.0</td>\n",
       "    </tr>\n",
       "    <tr>\n",
       "      <th>1</th>\n",
       "      <td>9.8</td>\n",
       "      <td>2.6</td>\n",
       "      <td>3.20</td>\n",
       "      <td>0.0</td>\n",
       "    </tr>\n",
       "    <tr>\n",
       "      <th>2</th>\n",
       "      <td>9.8</td>\n",
       "      <td>2.3</td>\n",
       "      <td>3.26</td>\n",
       "      <td>0.0</td>\n",
       "    </tr>\n",
       "    <tr>\n",
       "      <th>3</th>\n",
       "      <td>9.8</td>\n",
       "      <td>1.9</td>\n",
       "      <td>3.16</td>\n",
       "      <td>0.0</td>\n",
       "    </tr>\n",
       "    <tr>\n",
       "      <th>4</th>\n",
       "      <td>9.4</td>\n",
       "      <td>1.9</td>\n",
       "      <td>3.51</td>\n",
       "      <td>0.0</td>\n",
       "    </tr>\n",
       "  </tbody>\n",
       "</table>\n",
       "</div>"
      ],
      "text/plain": [
       "   alcohol  sugar    pH  class\n",
       "0      9.4    1.9  3.51    0.0\n",
       "1      9.8    2.6  3.20    0.0\n",
       "2      9.8    2.3  3.26    0.0\n",
       "3      9.8    1.9  3.16    0.0\n",
       "4      9.4    1.9  3.51    0.0"
      ]
     },
     "execution_count": 2,
     "metadata": {},
     "output_type": "execute_result"
    }
   ],
   "source": [
    "wine = pd.read_csv('./data/08_wine.csv')\n",
    "wine.head()"
   ]
  },
  {
   "cell_type": "code",
   "execution_count": 3,
   "id": "7c55a83f",
   "metadata": {},
   "outputs": [],
   "source": [
    "# 독립/종속변수 분리\n",
    "data = wine[['alcohol','sugar','pH']].to_numpy()\n",
    "target = wine['class'].to_numpy()"
   ]
  },
  {
   "cell_type": "code",
   "execution_count": 4,
   "id": "42d4c5bb",
   "metadata": {},
   "outputs": [
    {
     "name": "stdout",
     "output_type": "stream",
     "text": [
      "(6497, 3) (6497,)\n"
     ]
    }
   ],
   "source": [
    "print(data.shape,target.shape)"
   ]
  },
  {
   "cell_type": "markdown",
   "id": "df34254d",
   "metadata": {},
   "source": [
    "### 교차검증 : train_test_split() 방식"
   ]
  },
  {
   "cell_type": "code",
   "execution_count": 5,
   "id": "260518bb",
   "metadata": {},
   "outputs": [],
   "source": [
    "### 훈련데이터 : 검증데이터 : 테스트데이터로 쪼개기\n",
    "# - 보통 6 : 2 : 2\n",
    "# - 보통 많이 사용하는 방식"
   ]
  },
  {
   "cell_type": "code",
   "execution_count": 6,
   "id": "5d1261a1",
   "metadata": {},
   "outputs": [
    {
     "name": "stdout",
     "output_type": "stream",
     "text": [
      "(5197, 3)\n",
      "(5197,)\n",
      "(1300, 3)\n",
      "(1300,)\n"
     ]
    }
   ],
   "source": [
    "from sklearn.model_selection import train_test_split\n",
    "\n",
    "train_input, test_input, train_target, test_target = train_test_split(data, target,\n",
    "                                                                     test_size = 0.2, random_state=42)\n",
    "\n",
    "print(train_input.shape)\n",
    "print(train_target.shape)\n",
    "print(test_input.shape)\n",
    "print(test_target.shape)"
   ]
  },
  {
   "cell_type": "code",
   "execution_count": 7,
   "id": "24225401",
   "metadata": {},
   "outputs": [
    {
     "name": "stdout",
     "output_type": "stream",
     "text": [
      "(4157, 3)\n",
      "(4157,)\n",
      "(1040, 3)\n",
      "(1040,)\n"
     ]
    }
   ],
   "source": [
    "### 2. 훈련데이터를 이용해 검증데이터 생성\n",
    "sub_input, val_input, sub_target, val_target = train_test_split(train_input, train_target,\n",
    "                                                                     test_size = 0.2, random_state=42)\n",
    "\n",
    "print(sub_input.shape)\n",
    "print(sub_target.shape)\n",
    "print(val_input.shape)\n",
    "print(val_target.shape)"
   ]
  },
  {
   "cell_type": "code",
   "execution_count": 8,
   "id": "49d5b329",
   "metadata": {},
   "outputs": [
    {
     "name": "stdout",
     "output_type": "stream",
     "text": [
      "0.9971133028626413\n",
      "0.864423076923077\n"
     ]
    }
   ],
   "source": [
    "### 사용하는 클래스 : DecisionTreeClassifier\n",
    "### 사용하는 패키지 : sklearn.tree\n",
    "\n",
    "from sklearn.tree import DecisionTreeClassifier\n",
    "\n",
    "### 클래스 생성\n",
    "# - 실제 사용시에는 random_state은 사용하지 않는 것이 좋음\n",
    "# - random_state의 값이 변경되면 정확도 점수 변경\n",
    "# - 보통 random_state은 실전에서는 사용하지 않는 편\n",
    "dtc = DecisionTreeClassifier(random_state=42)\n",
    "\n",
    "dtc.fit(sub_input, sub_target)\n",
    "\n",
    "print(dtc.score(sub_input, sub_target))\n",
    "print(dtc.score(val_input, val_target))"
   ]
  },
  {
   "cell_type": "code",
   "execution_count": 9,
   "id": "66a9e285",
   "metadata": {},
   "outputs": [
    {
     "name": "stdout",
     "output_type": "stream",
     "text": [
      "0.8569230769230769\n"
     ]
    }
   ],
   "source": [
    "print(dtc.score(test_input, test_target))"
   ]
  },
  {
   "cell_type": "markdown",
   "id": "4d68d51e",
   "metadata": {},
   "source": [
    "##  교차검증 시작"
   ]
  },
  {
   "cell_type": "code",
   "execution_count": 10,
   "id": "d898335d",
   "metadata": {},
   "outputs": [],
   "source": [
    "### 훈련데이터와 검증데이터를 구분할 필요없이\n",
    "# - 내부적으로 구분해서 사용\n",
    "# - 내부적으로 구분해 사용하는 데이터는 훈련(train)데이터\n",
    "# - 데이터 준비는 기존처럼 훈련과 테스트데이터만 준민\n",
    "# - 검증데이터는 별도로 준비 안해도 됨"
   ]
  },
  {
   "cell_type": "code",
   "execution_count": 11,
   "id": "0f23ad2b",
   "metadata": {},
   "outputs": [],
   "source": [
    "### 교차검증에 사용되는 주요 키워도\n",
    "# 3-폴드(fold) 교차검증\n",
    "#  : 훈려데이터를 세부분으로 나눠서 데이터를 쪼개고 수행\n",
    "#  : 구간마다 훈련데이터를 검증데이터로 바꿔가면서 수행\n",
    "#  : k-폴드 교차검증 또는 k-겹 교차검증이라고 한다\n",
    "\n",
    "# 보통 5-폴드 교차검증 또는 10-폴드 교차검증 사용\n",
    "#  : 훈련데이터로 80% 이상을 모두 모델 훈련에 사용 가능"
   ]
  },
  {
   "cell_type": "code",
   "execution_count": 12,
   "id": "8b75e89b",
   "metadata": {},
   "outputs": [
    {
     "name": "stdout",
     "output_type": "stream",
     "text": [
      "(5197, 3) (5197,)\n",
      "(1300, 3) (1300,)\n"
     ]
    }
   ],
   "source": [
    "# 사용하는 데이터 다시 확인\n",
    "print(train_input.shape, train_target.shape)\n",
    "print(test_input.shape, test_target.shape)"
   ]
  },
  {
   "cell_type": "code",
   "execution_count": 13,
   "id": "2c7126bc",
   "metadata": {},
   "outputs": [
    {
     "name": "stdout",
     "output_type": "stream",
     "text": [
      "{'fit_time': array([0.00598431, 0.00625324, 0.0064528 , 0.00701785, 0.00596285]), 'score_time': array([0.        , 0.00072742, 0.00051284, 0.        , 0.        ]), 'test_score': array([0.86923077, 0.84615385, 0.87680462, 0.84889317, 0.83541867])}\n",
      "======================\n",
      "최종 score =  0.855300214703487\n"
     ]
    }
   ],
   "source": [
    "###  교차검증 모듈 : cross_validate\n",
    "from sklearn.model_selection import cross_validate\n",
    "\n",
    "# dtc : 결정트리 훈련모델\n",
    "# 두번째값 : 훈련데이터(fold에서 훈련데이터 쪼갤때 사용)\n",
    "# 세번째값 : 검증데이터(fold에서 검증데이터 쪼갤때 사용)\n",
    "scores = cross_validate(dtc, train_input, train_target)\n",
    "print(scores)\n",
    "print('======================')\n",
    "\n",
    "### 결과값\n",
    "# test_score : 최종검증평균값\n",
    "\n",
    "# test_score의 평균값이 최종 훈련모델의 평가점수(정확도)\n",
    "import numpy as np\n",
    "print(\"최종 score = \", np.mean(scores['test_score']))"
   ]
  },
  {
   "cell_type": "code",
   "execution_count": 14,
   "id": "6bd496de",
   "metadata": {},
   "outputs": [
    {
     "name": "stdout",
     "output_type": "stream",
     "text": [
      "{'fit_time': array([0.00598502, 0.00520468, 0.00549054, 0.006042  , 0.0059526 ]), 'score_time': array([0.        , 0.00049567, 0.00049114, 0.00097132, 0.        ]), 'test_score': array([0.86923077, 0.84615385, 0.87680462, 0.84889317, 0.83541867])}\n",
      "======================\n",
      "최종 score =  0.855300214703487\n"
     ]
    }
   ],
   "source": [
    "### 훈련데이터를 섞거나, 폴드의 갯수를 지정할 수 있는 클래스\n",
    "# - StratifiedKFold\n",
    "from sklearn.model_selection import StratifiedKFold\n",
    "\n",
    "# 교차검증 함수 그대로 사용\n",
    "# cv : 분할기 속성\n",
    "#    : 분할기로 StratifiedKFold 클래스 사용\n",
    "#    : 속성값이 없을 경우 기본 fold는 5, 기본 섞지는 않음\n",
    "scores = cross_validate(dtc, train_input, train_target,\n",
    "                       cv = StratifiedKFold())\n",
    "print(scores)\n",
    "print('======================')\n",
    "\n",
    "# test_score의 평균값이 최종 훈련모델의 평가점수(정확도)\n",
    "import numpy as np\n",
    "print(\"최종 score = \", np.mean(scores['test_score']))"
   ]
  },
  {
   "cell_type": "code",
   "execution_count": 15,
   "id": "a10f4f78",
   "metadata": {},
   "outputs": [
    {
     "name": "stdout",
     "output_type": "stream",
     "text": [
      "{'fit_time': array([0.00698233, 0.00661111, 0.00598335, 0.00784492, 0.0069809 ,\n",
      "       0.00594401, 0.00694084, 0.00698185, 0.00601006, 0.0059762 ]), 'score_time': array([0.        , 0.0003705 , 0.00099826, 0.00013232, 0.0009973 ,\n",
      "       0.00103879, 0.        , 0.00099659, 0.        , 0.00099349]), 'test_score': array([0.83461538, 0.87884615, 0.85384615, 0.85384615, 0.84615385,\n",
      "       0.87307692, 0.85961538, 0.85549133, 0.85163776, 0.86705202])}\n",
      "======================\n",
      "최종 score =  0.8574181117533719\n"
     ]
    }
   ],
   "source": [
    "### 섞기\n",
    "\n",
    "### 훈련데이터를 섞거나, 폴드의 갯수를 지정할 수 있는 클래스\n",
    "# - StratifiedKFold\n",
    "from sklearn.model_selection import StratifiedKFold\n",
    "\n",
    "# 교차검증 함수 그대로 사용\n",
    "# cv : 분할기 속성\n",
    "#    : 분할기로 StratifiedKFold 클래스 사용\n",
    "#    : 속성값이 없을 경우 기본 fold는 5, 기본 섞지는 않음\n",
    "\n",
    "# n_splits : fold 갯수, shuffle : 섞기\n",
    "splitter = StratifiedKFold(n_splits=10, shuffle=True, random_state=42)\n",
    "scores = cross_validate(dtc, train_input, train_target,\n",
    "                       cv = splitter )\n",
    "print(scores)\n",
    "print('======================')\n",
    "\n",
    "# test_score의 평균값이 최종 훈련모델의 평가점수(정확도)\n",
    "import numpy as np\n",
    "print(\"최종 score = \", np.mean(scores['test_score']))"
   ]
  },
  {
   "cell_type": "markdown",
   "id": "adf33f52",
   "metadata": {},
   "source": [
    "## 하이퍼파라미터 튜닝(AutoML)"
   ]
  },
  {
   "cell_type": "code",
   "execution_count": 16,
   "id": "22c572e7",
   "metadata": {},
   "outputs": [],
   "source": [
    "### 교차검증, 하이퍼파라미터 찾기, 모델훈련을 한번에 자동으로 수행\n",
    "# - 이런 개념을 AutoML이라 함\n",
    "# - 사용패키지 : sklearn.model_selection\n",
    "# - 사용클래스 : GridSearchCV\n",
    "# - 그리드 서치라고도 함"
   ]
  },
  {
   "cell_type": "markdown",
   "id": "dae72f79",
   "metadata": {},
   "source": [
    "## 결정트리의 max_depth(트리의 깊이) 값 찾기\n",
    "##### - 그리드서치(GridSearchCV)  객체(모델) 사용"
   ]
  },
  {
   "cell_type": "code",
   "execution_count": 17,
   "id": "32e1724d",
   "metadata": {
    "scrolled": true
   },
   "outputs": [
    {
     "data": {
      "text/html": [
       "<style>#sk-container-id-1 {color: black;background-color: white;}#sk-container-id-1 pre{padding: 0;}#sk-container-id-1 div.sk-toggleable {background-color: white;}#sk-container-id-1 label.sk-toggleable__label {cursor: pointer;display: block;width: 100%;margin-bottom: 0;padding: 0.3em;box-sizing: border-box;text-align: center;}#sk-container-id-1 label.sk-toggleable__label-arrow:before {content: \"▸\";float: left;margin-right: 0.25em;color: #696969;}#sk-container-id-1 label.sk-toggleable__label-arrow:hover:before {color: black;}#sk-container-id-1 div.sk-estimator:hover label.sk-toggleable__label-arrow:before {color: black;}#sk-container-id-1 div.sk-toggleable__content {max-height: 0;max-width: 0;overflow: hidden;text-align: left;background-color: #f0f8ff;}#sk-container-id-1 div.sk-toggleable__content pre {margin: 0.2em;color: black;border-radius: 0.25em;background-color: #f0f8ff;}#sk-container-id-1 input.sk-toggleable__control:checked~div.sk-toggleable__content {max-height: 200px;max-width: 100%;overflow: auto;}#sk-container-id-1 input.sk-toggleable__control:checked~label.sk-toggleable__label-arrow:before {content: \"▾\";}#sk-container-id-1 div.sk-estimator input.sk-toggleable__control:checked~label.sk-toggleable__label {background-color: #d4ebff;}#sk-container-id-1 div.sk-label input.sk-toggleable__control:checked~label.sk-toggleable__label {background-color: #d4ebff;}#sk-container-id-1 input.sk-hidden--visually {border: 0;clip: rect(1px 1px 1px 1px);clip: rect(1px, 1px, 1px, 1px);height: 1px;margin: -1px;overflow: hidden;padding: 0;position: absolute;width: 1px;}#sk-container-id-1 div.sk-estimator {font-family: monospace;background-color: #f0f8ff;border: 1px dotted black;border-radius: 0.25em;box-sizing: border-box;margin-bottom: 0.5em;}#sk-container-id-1 div.sk-estimator:hover {background-color: #d4ebff;}#sk-container-id-1 div.sk-parallel-item::after {content: \"\";width: 100%;border-bottom: 1px solid gray;flex-grow: 1;}#sk-container-id-1 div.sk-label:hover label.sk-toggleable__label {background-color: #d4ebff;}#sk-container-id-1 div.sk-serial::before {content: \"\";position: absolute;border-left: 1px solid gray;box-sizing: border-box;top: 0;bottom: 0;left: 50%;z-index: 0;}#sk-container-id-1 div.sk-serial {display: flex;flex-direction: column;align-items: center;background-color: white;padding-right: 0.2em;padding-left: 0.2em;position: relative;}#sk-container-id-1 div.sk-item {position: relative;z-index: 1;}#sk-container-id-1 div.sk-parallel {display: flex;align-items: stretch;justify-content: center;background-color: white;position: relative;}#sk-container-id-1 div.sk-item::before, #sk-container-id-1 div.sk-parallel-item::before {content: \"\";position: absolute;border-left: 1px solid gray;box-sizing: border-box;top: 0;bottom: 0;left: 50%;z-index: -1;}#sk-container-id-1 div.sk-parallel-item {display: flex;flex-direction: column;z-index: 1;position: relative;background-color: white;}#sk-container-id-1 div.sk-parallel-item:first-child::after {align-self: flex-end;width: 50%;}#sk-container-id-1 div.sk-parallel-item:last-child::after {align-self: flex-start;width: 50%;}#sk-container-id-1 div.sk-parallel-item:only-child::after {width: 0;}#sk-container-id-1 div.sk-dashed-wrapped {border: 1px dashed gray;margin: 0 0.4em 0.5em 0.4em;box-sizing: border-box;padding-bottom: 0.4em;background-color: white;}#sk-container-id-1 div.sk-label label {font-family: monospace;font-weight: bold;display: inline-block;line-height: 1.2em;}#sk-container-id-1 div.sk-label-container {text-align: center;}#sk-container-id-1 div.sk-container {/* jupyter's `normalize.less` sets `[hidden] { display: none; }` but bootstrap.min.css set `[hidden] { display: none !important; }` so we also need the `!important` here to be able to override the default hidden behavior on the sphinx rendered scikit-learn.org. See: https://github.com/scikit-learn/scikit-learn/issues/21755 */display: inline-block !important;position: relative;}#sk-container-id-1 div.sk-text-repr-fallback {display: none;}</style><div id=\"sk-container-id-1\" class=\"sk-top-container\"><div class=\"sk-text-repr-fallback\"><pre>GridSearchCV(estimator=DecisionTreeClassifier(random_state=42), n_jobs=-1,\n",
       "             param_grid={&#x27;max_depth&#x27;: range(5, 20)})</pre><b>In a Jupyter environment, please rerun this cell to show the HTML representation or trust the notebook. <br />On GitHub, the HTML representation is unable to render, please try loading this page with nbviewer.org.</b></div><div class=\"sk-container\" hidden><div class=\"sk-item sk-dashed-wrapped\"><div class=\"sk-label-container\"><div class=\"sk-label sk-toggleable\"><input class=\"sk-toggleable__control sk-hidden--visually\" id=\"sk-estimator-id-1\" type=\"checkbox\" ><label for=\"sk-estimator-id-1\" class=\"sk-toggleable__label sk-toggleable__label-arrow\">GridSearchCV</label><div class=\"sk-toggleable__content\"><pre>GridSearchCV(estimator=DecisionTreeClassifier(random_state=42), n_jobs=-1,\n",
       "             param_grid={&#x27;max_depth&#x27;: range(5, 20)})</pre></div></div></div><div class=\"sk-parallel\"><div class=\"sk-parallel-item\"><div class=\"sk-item\"><div class=\"sk-label-container\"><div class=\"sk-label sk-toggleable\"><input class=\"sk-toggleable__control sk-hidden--visually\" id=\"sk-estimator-id-2\" type=\"checkbox\" ><label for=\"sk-estimator-id-2\" class=\"sk-toggleable__label sk-toggleable__label-arrow\">estimator: DecisionTreeClassifier</label><div class=\"sk-toggleable__content\"><pre>DecisionTreeClassifier(random_state=42)</pre></div></div></div><div class=\"sk-serial\"><div class=\"sk-item\"><div class=\"sk-estimator sk-toggleable\"><input class=\"sk-toggleable__control sk-hidden--visually\" id=\"sk-estimator-id-3\" type=\"checkbox\" ><label for=\"sk-estimator-id-3\" class=\"sk-toggleable__label sk-toggleable__label-arrow\">DecisionTreeClassifier</label><div class=\"sk-toggleable__content\"><pre>DecisionTreeClassifier(random_state=42)</pre></div></div></div></div></div></div></div></div></div></div>"
      ],
      "text/plain": [
       "GridSearchCV(estimator=DecisionTreeClassifier(random_state=42), n_jobs=-1,\n",
       "             param_grid={'max_depth': range(5, 20)})"
      ]
     },
     "execution_count": 17,
     "metadata": {},
     "output_type": "execute_result"
    }
   ],
   "source": [
    "from sklearn.model_selection import GridSearchCV\n",
    "\n",
    "# 찾을 하이퍼파라미터는 딕셔너리로\n",
    "# 실제 파라미터 변수이름 그대로, 찾을 범위 지정\n",
    "params = {'max_depth' : range(5, 20, 1)}\n",
    "\n",
    "# 객체(모델) 생성\n",
    "# - 첫번째 값 : 훈련모델 넣기\n",
    "# - 두번째 값 : 찾을 하이퍼파라미터 값들(딕셔너리로 정의)\n",
    "# - 세번째 값 : CPU 코어 갯수(-1은 모든 코어 사용, 벙렬 처리)\n",
    "gs = GridSearchCV(DecisionTreeClassifier(random_state=42),\n",
    "                 params, n_jobs = -1)\n",
    "\n",
    "# 훈련시키기\n",
    "gs.fit(train_input, train_target)"
   ]
  },
  {
   "cell_type": "code",
   "execution_count": 18,
   "id": "b4449f20",
   "metadata": {},
   "outputs": [
    {
     "name": "stdout",
     "output_type": "stream",
     "text": [
      "DecisionTreeClassifier(max_depth=8, random_state=42)\n"
     ]
    }
   ],
   "source": [
    "# 그리드서치의 결과\n",
    "# - 하이퍼파라미터의 찾은 값 알려줌\n",
    "# - 중요 : 훈련모델이 생성되어 반환됨\n",
    "print(gs.best_estimator_)"
   ]
  },
  {
   "cell_type": "code",
   "execution_count": 19,
   "id": "7124031d",
   "metadata": {},
   "outputs": [
    {
     "name": "stdout",
     "output_type": "stream",
     "text": [
      "0.9003271117952665\n"
     ]
    }
   ],
   "source": [
    "### 그리드서치를 통해 생성된 훈련모델 통해\n",
    "# 평가해보기, 훈련데이터 전체 사용\n",
    "\n",
    "dtc = gs.best_estimator_\n",
    "print(dtc.score(train_input, train_target))"
   ]
  },
  {
   "cell_type": "code",
   "execution_count": 20,
   "id": "6b581722",
   "metadata": {},
   "outputs": [
    {
     "name": "stdout",
     "output_type": "stream",
     "text": [
      "{'max_depth': 8}\n",
      "{'mean_fit_time': array([0.00651031, 0.01274037, 0.00913625, 0.00978737, 0.01015539,\n",
      "       0.01652818, 0.00898504, 0.00796976, 0.00822134, 0.00965009,\n",
      "       0.00909348, 0.00833569, 0.00914993, 0.00925379, 0.00824676]), 'std_fit_time': array([0.00069228, 0.00573343, 0.00192785, 0.00241792, 0.0038075 ,\n",
      "       0.01459352, 0.00064907, 0.0008708 , 0.00195886, 0.00152116,\n",
      "       0.00082569, 0.00043632, 0.00193921, 0.00209801, 0.00096957]), 'mean_score_time': array([0.00182185, 0.00161777, 0.00117211, 0.00141177, 0.00076838,\n",
      "       0.00121403, 0.00099769, 0.00120139, 0.00099573, 0.00062289,\n",
      "       0.00079155, 0.0006424 , 0.00097899, 0.00090585, 0.00119333]), 'std_score_time': array([9.56632658e-04, 8.01437712e-04, 4.13755573e-04, 6.75181558e-04,\n",
      "       3.92362505e-04, 4.06220819e-04, 1.09361123e-06, 3.95545031e-04,\n",
      "       1.17920586e-05, 3.88375174e-04, 3.95799458e-04, 5.30954217e-04,\n",
      "       9.02343486e-05, 1.23616996e-04, 7.43538488e-04]), 'param_max_depth': masked_array(data=[5, 6, 7, 8, 9, 10, 11, 12, 13, 14, 15, 16, 17, 18, 19],\n",
      "             mask=[False, False, False, False, False, False, False, False,\n",
      "                   False, False, False, False, False, False, False],\n",
      "       fill_value='?',\n",
      "            dtype=object), 'params': [{'max_depth': 5}, {'max_depth': 6}, {'max_depth': 7}, {'max_depth': 8}, {'max_depth': 9}, {'max_depth': 10}, {'max_depth': 11}, {'max_depth': 12}, {'max_depth': 13}, {'max_depth': 14}, {'max_depth': 15}, {'max_depth': 16}, {'max_depth': 17}, {'max_depth': 18}, {'max_depth': 19}], 'split0_test_score': array([0.84711538, 0.84807692, 0.85769231, 0.85288462, 0.85769231,\n",
      "       0.84519231, 0.85865385, 0.86730769, 0.86538462, 0.86826923,\n",
      "       0.86730769, 0.86442308, 0.86346154, 0.86634615, 0.87211538]), 'split1_test_score': array([0.86346154, 0.85480769, 0.85192308, 0.85480769, 0.85961538,\n",
      "       0.84711538, 0.85096154, 0.84807692, 0.85384615, 0.85192308,\n",
      "       0.85384615, 0.84903846, 0.85      , 0.85384615, 0.85673077]), 'split2_test_score': array([0.88065448, 0.87391723, 0.87584216, 0.87872955, 0.87102984,\n",
      "       0.87680462, 0.88065448, 0.8825794 , 0.87391723, 0.87006737,\n",
      "       0.86814244, 0.87680462, 0.8719923 , 0.87391723, 0.87872955]), 'split3_test_score': array([0.83638114, 0.84311838, 0.84311838, 0.84696824, 0.84215592,\n",
      "       0.84696824, 0.85274302, 0.84889317, 0.85370549, 0.85851781,\n",
      "       0.85466795, 0.85948027, 0.85274302, 0.85659288, 0.84985563]), 'split4_test_score': array([0.8614052 , 0.85948027, 0.8479307 , 0.86525505, 0.85466795,\n",
      "       0.85274302, 0.84889317, 0.84889317, 0.83926853, 0.84119346,\n",
      "       0.8373436 , 0.83830606, 0.83926853, 0.83830606, 0.8373436 ]), 'mean_test_score': array([0.85780355, 0.8558801 , 0.85530133, 0.85972903, 0.85703228,\n",
      "       0.85376471, 0.85838121, 0.85915007, 0.8572244 , 0.85799419,\n",
      "       0.85626157, 0.8576105 , 0.85549308, 0.8578017 , 0.85895499]), 'std_test_score': array([0.0151017 , 0.0106132 , 0.01132965, 0.01118445, 0.00927293,\n",
      "       0.01179638, 0.01160204, 0.01377319, 0.01175966, 0.01068396,\n",
      "       0.01121994, 0.01314886, 0.01128444, 0.01208226, 0.01496013]), 'rank_test_score': array([ 6, 12, 14,  1, 10, 15,  4,  2,  9,  5, 11,  8, 13,  7,  3])}\n"
     ]
    }
   ],
   "source": [
    "print(gs.best_params_)\n",
    "print(gs.cv_results_)"
   ]
  },
  {
   "cell_type": "code",
   "execution_count": 21,
   "id": "a53cd588",
   "metadata": {},
   "outputs": [
    {
     "name": "stdout",
     "output_type": "stream",
     "text": [
      "dict_keys(['mean_fit_time', 'std_fit_time', 'mean_score_time', 'std_score_time', 'param_max_depth', 'params', 'split0_test_score', 'split1_test_score', 'split2_test_score', 'split3_test_score', 'split4_test_score', 'mean_test_score', 'std_test_score', 'rank_test_score'])\n"
     ]
    }
   ],
   "source": [
    "print(gs.cv_results_.keys())"
   ]
  },
  {
   "cell_type": "code",
   "execution_count": 22,
   "id": "f87bbe64",
   "metadata": {},
   "outputs": [
    {
     "name": "stdout",
     "output_type": "stream",
     "text": [
      "[{'max_depth': 5}, {'max_depth': 6}, {'max_depth': 7}, {'max_depth': 8}, {'max_depth': 9}, {'max_depth': 10}, {'max_depth': 11}, {'max_depth': 12}, {'max_depth': 13}, {'max_depth': 14}, {'max_depth': 15}, {'max_depth': 16}, {'max_depth': 17}, {'max_depth': 18}, {'max_depth': 19}]\n"
     ]
    }
   ],
   "source": [
    "### params 값 확인하기\n",
    "print(gs.cv_results_['params'])"
   ]
  },
  {
   "cell_type": "code",
   "execution_count": 23,
   "id": "52df6e8d",
   "metadata": {},
   "outputs": [
    {
     "name": "stdout",
     "output_type": "stream",
     "text": [
      "[0.84711538 0.84807692 0.85769231 0.85288462 0.85769231 0.84519231\n",
      " 0.85865385 0.86730769 0.86538462 0.86826923 0.86730769 0.86442308\n",
      " 0.86346154 0.86634615 0.87211538]\n"
     ]
    }
   ],
   "source": [
    "# 첫번째 fold 값\n",
    "print(gs.cv_results_['split0_test_score'])"
   ]
  },
  {
   "cell_type": "code",
   "execution_count": 24,
   "id": "762138a5",
   "metadata": {},
   "outputs": [
    {
     "data": {
      "text/plain": [
       "0.8584615384615385"
      ]
     },
     "execution_count": 24,
     "metadata": {},
     "output_type": "execute_result"
    }
   ],
   "source": [
    "### 훈련데이터 최종검증하기\n",
    "dtc.score(test_input, test_target)"
   ]
  },
  {
   "cell_type": "code",
   "execution_count": 25,
   "id": "ae9b0a90",
   "metadata": {},
   "outputs": [
    {
     "data": {
      "text/plain": [
       "array([0.84711538, 0.84807692, 0.85769231, 0.85288462, 0.85769231,\n",
       "       0.84519231, 0.85865385, 0.86730769, 0.86538462, 0.86826923,\n",
       "       0.86730769, 0.86442308, 0.86346154, 0.86634615, 0.87211538])"
      ]
     },
     "execution_count": 25,
     "metadata": {},
     "output_type": "execute_result"
    }
   ],
   "source": [
    "gs.cv_results_['split0_test_score']"
   ]
  },
  {
   "cell_type": "code",
   "execution_count": 26,
   "id": "55836e8a",
   "metadata": {},
   "outputs": [],
   "source": [
    "df = pd.DataFrame(gs.cv_results_['split0_test_score'])\n",
    "# columns = ['max_depth5', 'max_depth6', 'max_depth7','max_depth8', 'max_depth9', 'max_depth10', 'max_depth11', \n",
    "#            'max_depth12', 'max_depth13', 'max_depth14','max_depth15',\n",
    "#            'max_depth16', 'max_depth17', 'max_depth18', 'max_depth19']"
   ]
  },
  {
   "cell_type": "code",
   "execution_count": 27,
   "id": "9d423c91",
   "metadata": {},
   "outputs": [
    {
     "data": {
      "text/html": [
       "<div>\n",
       "<style scoped>\n",
       "    .dataframe tbody tr th:only-of-type {\n",
       "        vertical-align: middle;\n",
       "    }\n",
       "\n",
       "    .dataframe tbody tr th {\n",
       "        vertical-align: top;\n",
       "    }\n",
       "\n",
       "    .dataframe thead th {\n",
       "        text-align: right;\n",
       "    }\n",
       "</style>\n",
       "<table border=\"1\" class=\"dataframe\">\n",
       "  <thead>\n",
       "    <tr style=\"text-align: right;\">\n",
       "      <th></th>\n",
       "      <th>max_depth5</th>\n",
       "      <th>max_depth6</th>\n",
       "      <th>max_depth7</th>\n",
       "      <th>max_depth8</th>\n",
       "      <th>max_depth9</th>\n",
       "      <th>max_depth10</th>\n",
       "      <th>max_depth11</th>\n",
       "      <th>max_depth12</th>\n",
       "      <th>max_depth13</th>\n",
       "      <th>max_depth14</th>\n",
       "      <th>max_depth15</th>\n",
       "      <th>max_depth16</th>\n",
       "      <th>max_depth17</th>\n",
       "      <th>max_depth18</th>\n",
       "      <th>max_depth19</th>\n",
       "    </tr>\n",
       "  </thead>\n",
       "  <tbody>\n",
       "    <tr>\n",
       "      <th>0</th>\n",
       "      <td>0.847115</td>\n",
       "      <td>0.848077</td>\n",
       "      <td>0.857692</td>\n",
       "      <td>0.852885</td>\n",
       "      <td>0.857692</td>\n",
       "      <td>0.845192</td>\n",
       "      <td>0.858654</td>\n",
       "      <td>0.867308</td>\n",
       "      <td>0.865385</td>\n",
       "      <td>0.868269</td>\n",
       "      <td>0.867308</td>\n",
       "      <td>0.864423</td>\n",
       "      <td>0.863462</td>\n",
       "      <td>0.866346</td>\n",
       "      <td>0.872115</td>\n",
       "    </tr>\n",
       "    <tr>\n",
       "      <th>1</th>\n",
       "      <td>0.863462</td>\n",
       "      <td>0.854808</td>\n",
       "      <td>0.851923</td>\n",
       "      <td>0.854808</td>\n",
       "      <td>0.859615</td>\n",
       "      <td>0.847115</td>\n",
       "      <td>0.850962</td>\n",
       "      <td>0.848077</td>\n",
       "      <td>0.853846</td>\n",
       "      <td>0.851923</td>\n",
       "      <td>0.853846</td>\n",
       "      <td>0.849038</td>\n",
       "      <td>0.850000</td>\n",
       "      <td>0.853846</td>\n",
       "      <td>0.856731</td>\n",
       "    </tr>\n",
       "    <tr>\n",
       "      <th>2</th>\n",
       "      <td>0.880654</td>\n",
       "      <td>0.873917</td>\n",
       "      <td>0.875842</td>\n",
       "      <td>0.878730</td>\n",
       "      <td>0.871030</td>\n",
       "      <td>0.876805</td>\n",
       "      <td>0.880654</td>\n",
       "      <td>0.882579</td>\n",
       "      <td>0.873917</td>\n",
       "      <td>0.870067</td>\n",
       "      <td>0.868142</td>\n",
       "      <td>0.876805</td>\n",
       "      <td>0.871992</td>\n",
       "      <td>0.873917</td>\n",
       "      <td>0.878730</td>\n",
       "    </tr>\n",
       "    <tr>\n",
       "      <th>3</th>\n",
       "      <td>0.836381</td>\n",
       "      <td>0.843118</td>\n",
       "      <td>0.843118</td>\n",
       "      <td>0.846968</td>\n",
       "      <td>0.842156</td>\n",
       "      <td>0.846968</td>\n",
       "      <td>0.852743</td>\n",
       "      <td>0.848893</td>\n",
       "      <td>0.853705</td>\n",
       "      <td>0.858518</td>\n",
       "      <td>0.854668</td>\n",
       "      <td>0.859480</td>\n",
       "      <td>0.852743</td>\n",
       "      <td>0.856593</td>\n",
       "      <td>0.849856</td>\n",
       "    </tr>\n",
       "    <tr>\n",
       "      <th>4</th>\n",
       "      <td>0.861405</td>\n",
       "      <td>0.859480</td>\n",
       "      <td>0.847931</td>\n",
       "      <td>0.865255</td>\n",
       "      <td>0.854668</td>\n",
       "      <td>0.852743</td>\n",
       "      <td>0.848893</td>\n",
       "      <td>0.848893</td>\n",
       "      <td>0.839269</td>\n",
       "      <td>0.841193</td>\n",
       "      <td>0.837344</td>\n",
       "      <td>0.838306</td>\n",
       "      <td>0.839269</td>\n",
       "      <td>0.838306</td>\n",
       "      <td>0.837344</td>\n",
       "    </tr>\n",
       "  </tbody>\n",
       "</table>\n",
       "</div>"
      ],
      "text/plain": [
       "   max_depth5  max_depth6  max_depth7  max_depth8  max_depth9  max_depth10  \\\n",
       "0    0.847115    0.848077    0.857692    0.852885    0.857692     0.845192   \n",
       "1    0.863462    0.854808    0.851923    0.854808    0.859615     0.847115   \n",
       "2    0.880654    0.873917    0.875842    0.878730    0.871030     0.876805   \n",
       "3    0.836381    0.843118    0.843118    0.846968    0.842156     0.846968   \n",
       "4    0.861405    0.859480    0.847931    0.865255    0.854668     0.852743   \n",
       "\n",
       "   max_depth11  max_depth12  max_depth13  max_depth14  max_depth15  \\\n",
       "0     0.858654     0.867308     0.865385     0.868269     0.867308   \n",
       "1     0.850962     0.848077     0.853846     0.851923     0.853846   \n",
       "2     0.880654     0.882579     0.873917     0.870067     0.868142   \n",
       "3     0.852743     0.848893     0.853705     0.858518     0.854668   \n",
       "4     0.848893     0.848893     0.839269     0.841193     0.837344   \n",
       "\n",
       "   max_depth16  max_depth17  max_depth18  max_depth19  \n",
       "0     0.864423     0.863462     0.866346     0.872115  \n",
       "1     0.849038     0.850000     0.853846     0.856731  \n",
       "2     0.876805     0.871992     0.873917     0.878730  \n",
       "3     0.859480     0.852743     0.856593     0.849856  \n",
       "4     0.838306     0.839269     0.838306     0.837344  "
      ]
     },
     "execution_count": 27,
     "metadata": {},
     "output_type": "execute_result"
    }
   ],
   "source": [
    "a = []\n",
    "for i in range(0,5):\n",
    "    df = gs.cv_results_[f'split{i}_test_score']\n",
    "    a.append(df)\n",
    "    \n",
    "df = pd.DataFrame(a)\n",
    "\n",
    "df.columns = ['max_depth5', 'max_depth6', 'max_depth7','max_depth8', 'max_depth9', 'max_depth10', 'max_depth11', \n",
    "           'max_depth12', 'max_depth13', 'max_depth14','max_depth15',\n",
    "           'max_depth16', 'max_depth17', 'max_depth18', 'max_depth19']\n",
    "df"
   ]
  },
  {
   "cell_type": "markdown",
   "id": "36938378",
   "metadata": {},
   "source": [
    "## 찾을 하이퍼파라미터 여러개 사용하기"
   ]
  },
  {
   "cell_type": "code",
   "execution_count": 28,
   "id": "51c48484",
   "metadata": {},
   "outputs": [
    {
     "data": {
      "text/html": [
       "<style>#sk-container-id-2 {color: black;background-color: white;}#sk-container-id-2 pre{padding: 0;}#sk-container-id-2 div.sk-toggleable {background-color: white;}#sk-container-id-2 label.sk-toggleable__label {cursor: pointer;display: block;width: 100%;margin-bottom: 0;padding: 0.3em;box-sizing: border-box;text-align: center;}#sk-container-id-2 label.sk-toggleable__label-arrow:before {content: \"▸\";float: left;margin-right: 0.25em;color: #696969;}#sk-container-id-2 label.sk-toggleable__label-arrow:hover:before {color: black;}#sk-container-id-2 div.sk-estimator:hover label.sk-toggleable__label-arrow:before {color: black;}#sk-container-id-2 div.sk-toggleable__content {max-height: 0;max-width: 0;overflow: hidden;text-align: left;background-color: #f0f8ff;}#sk-container-id-2 div.sk-toggleable__content pre {margin: 0.2em;color: black;border-radius: 0.25em;background-color: #f0f8ff;}#sk-container-id-2 input.sk-toggleable__control:checked~div.sk-toggleable__content {max-height: 200px;max-width: 100%;overflow: auto;}#sk-container-id-2 input.sk-toggleable__control:checked~label.sk-toggleable__label-arrow:before {content: \"▾\";}#sk-container-id-2 div.sk-estimator input.sk-toggleable__control:checked~label.sk-toggleable__label {background-color: #d4ebff;}#sk-container-id-2 div.sk-label input.sk-toggleable__control:checked~label.sk-toggleable__label {background-color: #d4ebff;}#sk-container-id-2 input.sk-hidden--visually {border: 0;clip: rect(1px 1px 1px 1px);clip: rect(1px, 1px, 1px, 1px);height: 1px;margin: -1px;overflow: hidden;padding: 0;position: absolute;width: 1px;}#sk-container-id-2 div.sk-estimator {font-family: monospace;background-color: #f0f8ff;border: 1px dotted black;border-radius: 0.25em;box-sizing: border-box;margin-bottom: 0.5em;}#sk-container-id-2 div.sk-estimator:hover {background-color: #d4ebff;}#sk-container-id-2 div.sk-parallel-item::after {content: \"\";width: 100%;border-bottom: 1px solid gray;flex-grow: 1;}#sk-container-id-2 div.sk-label:hover label.sk-toggleable__label {background-color: #d4ebff;}#sk-container-id-2 div.sk-serial::before {content: \"\";position: absolute;border-left: 1px solid gray;box-sizing: border-box;top: 0;bottom: 0;left: 50%;z-index: 0;}#sk-container-id-2 div.sk-serial {display: flex;flex-direction: column;align-items: center;background-color: white;padding-right: 0.2em;padding-left: 0.2em;position: relative;}#sk-container-id-2 div.sk-item {position: relative;z-index: 1;}#sk-container-id-2 div.sk-parallel {display: flex;align-items: stretch;justify-content: center;background-color: white;position: relative;}#sk-container-id-2 div.sk-item::before, #sk-container-id-2 div.sk-parallel-item::before {content: \"\";position: absolute;border-left: 1px solid gray;box-sizing: border-box;top: 0;bottom: 0;left: 50%;z-index: -1;}#sk-container-id-2 div.sk-parallel-item {display: flex;flex-direction: column;z-index: 1;position: relative;background-color: white;}#sk-container-id-2 div.sk-parallel-item:first-child::after {align-self: flex-end;width: 50%;}#sk-container-id-2 div.sk-parallel-item:last-child::after {align-self: flex-start;width: 50%;}#sk-container-id-2 div.sk-parallel-item:only-child::after {width: 0;}#sk-container-id-2 div.sk-dashed-wrapped {border: 1px dashed gray;margin: 0 0.4em 0.5em 0.4em;box-sizing: border-box;padding-bottom: 0.4em;background-color: white;}#sk-container-id-2 div.sk-label label {font-family: monospace;font-weight: bold;display: inline-block;line-height: 1.2em;}#sk-container-id-2 div.sk-label-container {text-align: center;}#sk-container-id-2 div.sk-container {/* jupyter's `normalize.less` sets `[hidden] { display: none; }` but bootstrap.min.css set `[hidden] { display: none !important; }` so we also need the `!important` here to be able to override the default hidden behavior on the sphinx rendered scikit-learn.org. See: https://github.com/scikit-learn/scikit-learn/issues/21755 */display: inline-block !important;position: relative;}#sk-container-id-2 div.sk-text-repr-fallback {display: none;}</style><div id=\"sk-container-id-2\" class=\"sk-top-container\"><div class=\"sk-text-repr-fallback\"><pre>GridSearchCV(estimator=DecisionTreeClassifier(random_state=42), n_jobs=-1,\n",
       "             param_grid={&#x27;max_depth&#x27;: range(5, 20),\n",
       "                         &#x27;min_impurity_decrease&#x27;: array([0.0001, 0.0002, 0.0003, 0.0004, 0.0005, 0.0006, 0.0007, 0.0008,\n",
       "       0.0009]),\n",
       "                         &#x27;min_samples_split&#x27;: range(2, 100, 10)})</pre><b>In a Jupyter environment, please rerun this cell to show the HTML representation or trust the notebook. <br />On GitHub, the HTML representation is unable to render, please try loading this page with nbviewer.org.</b></div><div class=\"sk-container\" hidden><div class=\"sk-item sk-dashed-wrapped\"><div class=\"sk-label-container\"><div class=\"sk-label sk-toggleable\"><input class=\"sk-toggleable__control sk-hidden--visually\" id=\"sk-estimator-id-4\" type=\"checkbox\" ><label for=\"sk-estimator-id-4\" class=\"sk-toggleable__label sk-toggleable__label-arrow\">GridSearchCV</label><div class=\"sk-toggleable__content\"><pre>GridSearchCV(estimator=DecisionTreeClassifier(random_state=42), n_jobs=-1,\n",
       "             param_grid={&#x27;max_depth&#x27;: range(5, 20),\n",
       "                         &#x27;min_impurity_decrease&#x27;: array([0.0001, 0.0002, 0.0003, 0.0004, 0.0005, 0.0006, 0.0007, 0.0008,\n",
       "       0.0009]),\n",
       "                         &#x27;min_samples_split&#x27;: range(2, 100, 10)})</pre></div></div></div><div class=\"sk-parallel\"><div class=\"sk-parallel-item\"><div class=\"sk-item\"><div class=\"sk-label-container\"><div class=\"sk-label sk-toggleable\"><input class=\"sk-toggleable__control sk-hidden--visually\" id=\"sk-estimator-id-5\" type=\"checkbox\" ><label for=\"sk-estimator-id-5\" class=\"sk-toggleable__label sk-toggleable__label-arrow\">estimator: DecisionTreeClassifier</label><div class=\"sk-toggleable__content\"><pre>DecisionTreeClassifier(random_state=42)</pre></div></div></div><div class=\"sk-serial\"><div class=\"sk-item\"><div class=\"sk-estimator sk-toggleable\"><input class=\"sk-toggleable__control sk-hidden--visually\" id=\"sk-estimator-id-6\" type=\"checkbox\" ><label for=\"sk-estimator-id-6\" class=\"sk-toggleable__label sk-toggleable__label-arrow\">DecisionTreeClassifier</label><div class=\"sk-toggleable__content\"><pre>DecisionTreeClassifier(random_state=42)</pre></div></div></div></div></div></div></div></div></div></div>"
      ],
      "text/plain": [
       "GridSearchCV(estimator=DecisionTreeClassifier(random_state=42), n_jobs=-1,\n",
       "             param_grid={'max_depth': range(5, 20),\n",
       "                         'min_impurity_decrease': array([0.0001, 0.0002, 0.0003, 0.0004, 0.0005, 0.0006, 0.0007, 0.0008,\n",
       "       0.0009]),\n",
       "                         'min_samples_split': range(2, 100, 10)})"
      ]
     },
     "execution_count": 28,
     "metadata": {},
     "output_type": "execute_result"
    }
   ],
   "source": [
    "# min_impurity_devrease : 결정트리 노드 분리시 불순도 감소 최소량\n",
    "# max_depth : 결정트리 깊이\n",
    "# min_samples_split : 결정트리 노드를 나누기 위한 최소 샘플 갯수 \n",
    "params = {'min_impurity_decrease' : np.arange(0.0001, 0.001, 0.0001),\n",
    "          'max_depth' : range(5, 20, 1),\n",
    "          'min_samples_split' : range(2, 100, 10)}\n",
    "\n",
    "# ### 그리드서치 훈련시키기\n",
    "gs = GridSearchCV(DecisionTreeClassifier(random_state = 42),\n",
    "                 params, n_jobs = -1)\n",
    "\n",
    "gs.fit(train_input, train_target)"
   ]
  },
  {
   "cell_type": "code",
   "execution_count": 29,
   "id": "6b7021b1",
   "metadata": {},
   "outputs": [
    {
     "name": "stdout",
     "output_type": "stream",
     "text": [
      "{'max_depth': 14, 'min_impurity_decrease': 0.0004, 'min_samples_split': 12}\n"
     ]
    }
   ],
   "source": [
    "print(gs.best_params_)"
   ]
  },
  {
   "cell_type": "code",
   "execution_count": 30,
   "id": "ce13afc4",
   "metadata": {},
   "outputs": [
    {
     "name": "stdout",
     "output_type": "stream",
     "text": [
      "DecisionTreeClassifier(max_depth=14, min_impurity_decrease=0.0004,\n",
      "                       min_samples_split=12, random_state=42)\n"
     ]
    }
   ],
   "source": [
    "print(gs.best_estimator_)"
   ]
  },
  {
   "cell_type": "code",
   "execution_count": 31,
   "id": "82262a21",
   "metadata": {},
   "outputs": [
    {
     "name": "stdout",
     "output_type": "stream",
     "text": [
      "0.892053107562055\n",
      "0.8615384615384616\n"
     ]
    }
   ],
   "source": [
    "dtc = gs.best_estimator_\n",
    "print(dtc.score(train_input, train_target))\n",
    "print(dtc.score(test_input, test_target))"
   ]
  },
  {
   "cell_type": "code",
   "execution_count": 32,
   "id": "0020e268",
   "metadata": {},
   "outputs": [
    {
     "data": {
      "text/html": [
       "<style>#sk-container-id-3 {color: black;background-color: white;}#sk-container-id-3 pre{padding: 0;}#sk-container-id-3 div.sk-toggleable {background-color: white;}#sk-container-id-3 label.sk-toggleable__label {cursor: pointer;display: block;width: 100%;margin-bottom: 0;padding: 0.3em;box-sizing: border-box;text-align: center;}#sk-container-id-3 label.sk-toggleable__label-arrow:before {content: \"▸\";float: left;margin-right: 0.25em;color: #696969;}#sk-container-id-3 label.sk-toggleable__label-arrow:hover:before {color: black;}#sk-container-id-3 div.sk-estimator:hover label.sk-toggleable__label-arrow:before {color: black;}#sk-container-id-3 div.sk-toggleable__content {max-height: 0;max-width: 0;overflow: hidden;text-align: left;background-color: #f0f8ff;}#sk-container-id-3 div.sk-toggleable__content pre {margin: 0.2em;color: black;border-radius: 0.25em;background-color: #f0f8ff;}#sk-container-id-3 input.sk-toggleable__control:checked~div.sk-toggleable__content {max-height: 200px;max-width: 100%;overflow: auto;}#sk-container-id-3 input.sk-toggleable__control:checked~label.sk-toggleable__label-arrow:before {content: \"▾\";}#sk-container-id-3 div.sk-estimator input.sk-toggleable__control:checked~label.sk-toggleable__label {background-color: #d4ebff;}#sk-container-id-3 div.sk-label input.sk-toggleable__control:checked~label.sk-toggleable__label {background-color: #d4ebff;}#sk-container-id-3 input.sk-hidden--visually {border: 0;clip: rect(1px 1px 1px 1px);clip: rect(1px, 1px, 1px, 1px);height: 1px;margin: -1px;overflow: hidden;padding: 0;position: absolute;width: 1px;}#sk-container-id-3 div.sk-estimator {font-family: monospace;background-color: #f0f8ff;border: 1px dotted black;border-radius: 0.25em;box-sizing: border-box;margin-bottom: 0.5em;}#sk-container-id-3 div.sk-estimator:hover {background-color: #d4ebff;}#sk-container-id-3 div.sk-parallel-item::after {content: \"\";width: 100%;border-bottom: 1px solid gray;flex-grow: 1;}#sk-container-id-3 div.sk-label:hover label.sk-toggleable__label {background-color: #d4ebff;}#sk-container-id-3 div.sk-serial::before {content: \"\";position: absolute;border-left: 1px solid gray;box-sizing: border-box;top: 0;bottom: 0;left: 50%;z-index: 0;}#sk-container-id-3 div.sk-serial {display: flex;flex-direction: column;align-items: center;background-color: white;padding-right: 0.2em;padding-left: 0.2em;position: relative;}#sk-container-id-3 div.sk-item {position: relative;z-index: 1;}#sk-container-id-3 div.sk-parallel {display: flex;align-items: stretch;justify-content: center;background-color: white;position: relative;}#sk-container-id-3 div.sk-item::before, #sk-container-id-3 div.sk-parallel-item::before {content: \"\";position: absolute;border-left: 1px solid gray;box-sizing: border-box;top: 0;bottom: 0;left: 50%;z-index: -1;}#sk-container-id-3 div.sk-parallel-item {display: flex;flex-direction: column;z-index: 1;position: relative;background-color: white;}#sk-container-id-3 div.sk-parallel-item:first-child::after {align-self: flex-end;width: 50%;}#sk-container-id-3 div.sk-parallel-item:last-child::after {align-self: flex-start;width: 50%;}#sk-container-id-3 div.sk-parallel-item:only-child::after {width: 0;}#sk-container-id-3 div.sk-dashed-wrapped {border: 1px dashed gray;margin: 0 0.4em 0.5em 0.4em;box-sizing: border-box;padding-bottom: 0.4em;background-color: white;}#sk-container-id-3 div.sk-label label {font-family: monospace;font-weight: bold;display: inline-block;line-height: 1.2em;}#sk-container-id-3 div.sk-label-container {text-align: center;}#sk-container-id-3 div.sk-container {/* jupyter's `normalize.less` sets `[hidden] { display: none; }` but bootstrap.min.css set `[hidden] { display: none !important; }` so we also need the `!important` here to be able to override the default hidden behavior on the sphinx rendered scikit-learn.org. See: https://github.com/scikit-learn/scikit-learn/issues/21755 */display: inline-block !important;position: relative;}#sk-container-id-3 div.sk-text-repr-fallback {display: none;}</style><div id=\"sk-container-id-3\" class=\"sk-top-container\"><div class=\"sk-text-repr-fallback\"><pre>GridSearchCV(cv=StratifiedKFold(n_splits=7, random_state=42, shuffle=True),\n",
       "             estimator=DecisionTreeClassifier(random_state=42), n_jobs=-1,\n",
       "             param_grid={&#x27;max_depth&#x27;: range(5, 20),\n",
       "                         &#x27;min_impurity_decrease&#x27;: array([0.0001, 0.0002, 0.0003, 0.0004, 0.0005, 0.0006, 0.0007, 0.0008,\n",
       "       0.0009]),\n",
       "                         &#x27;min_samples_split&#x27;: range(2, 100, 10)})</pre><b>In a Jupyter environment, please rerun this cell to show the HTML representation or trust the notebook. <br />On GitHub, the HTML representation is unable to render, please try loading this page with nbviewer.org.</b></div><div class=\"sk-container\" hidden><div class=\"sk-item sk-dashed-wrapped\"><div class=\"sk-label-container\"><div class=\"sk-label sk-toggleable\"><input class=\"sk-toggleable__control sk-hidden--visually\" id=\"sk-estimator-id-7\" type=\"checkbox\" ><label for=\"sk-estimator-id-7\" class=\"sk-toggleable__label sk-toggleable__label-arrow\">GridSearchCV</label><div class=\"sk-toggleable__content\"><pre>GridSearchCV(cv=StratifiedKFold(n_splits=7, random_state=42, shuffle=True),\n",
       "             estimator=DecisionTreeClassifier(random_state=42), n_jobs=-1,\n",
       "             param_grid={&#x27;max_depth&#x27;: range(5, 20),\n",
       "                         &#x27;min_impurity_decrease&#x27;: array([0.0001, 0.0002, 0.0003, 0.0004, 0.0005, 0.0006, 0.0007, 0.0008,\n",
       "       0.0009]),\n",
       "                         &#x27;min_samples_split&#x27;: range(2, 100, 10)})</pre></div></div></div><div class=\"sk-parallel\"><div class=\"sk-parallel-item\"><div class=\"sk-item\"><div class=\"sk-label-container\"><div class=\"sk-label sk-toggleable\"><input class=\"sk-toggleable__control sk-hidden--visually\" id=\"sk-estimator-id-8\" type=\"checkbox\" ><label for=\"sk-estimator-id-8\" class=\"sk-toggleable__label sk-toggleable__label-arrow\">estimator: DecisionTreeClassifier</label><div class=\"sk-toggleable__content\"><pre>DecisionTreeClassifier(random_state=42)</pre></div></div></div><div class=\"sk-serial\"><div class=\"sk-item\"><div class=\"sk-estimator sk-toggleable\"><input class=\"sk-toggleable__control sk-hidden--visually\" id=\"sk-estimator-id-9\" type=\"checkbox\" ><label for=\"sk-estimator-id-9\" class=\"sk-toggleable__label sk-toggleable__label-arrow\">DecisionTreeClassifier</label><div class=\"sk-toggleable__content\"><pre>DecisionTreeClassifier(random_state=42)</pre></div></div></div></div></div></div></div></div></div></div>"
      ],
      "text/plain": [
       "GridSearchCV(cv=StratifiedKFold(n_splits=7, random_state=42, shuffle=True),\n",
       "             estimator=DecisionTreeClassifier(random_state=42), n_jobs=-1,\n",
       "             param_grid={'max_depth': range(5, 20),\n",
       "                         'min_impurity_decrease': array([0.0001, 0.0002, 0.0003, 0.0004, 0.0005, 0.0006, 0.0007, 0.0008,\n",
       "       0.0009]),\n",
       "                         'min_samples_split': range(2, 100, 10)})"
      ]
     },
     "execution_count": 32,
     "metadata": {},
     "output_type": "execute_result"
    }
   ],
   "source": [
    "### 10-폴드 지정하기\n",
    "splitter = StratifiedKFold(n_splits=7, shuffle=True, random_state=42)\n",
    "\n",
    "params = {'min_impurity_decrease' : np.arange(0.0001, 0.001, 0.0001),\n",
    "          'max_depth' : range(5, 20, 1),\n",
    "          'min_samples_split' : range(2, 100, 10)}\n",
    "\n",
    "# ### 그리드서치 훈련시키기\n",
    "gs = GridSearchCV(DecisionTreeClassifier(random_state = 42),\n",
    "                 params, cv = splitter, n_jobs = -1)\n",
    "\n",
    "gs.fit(train_input, train_target)"
   ]
  },
  {
   "cell_type": "code",
   "execution_count": 33,
   "id": "3aa31bc2",
   "metadata": {},
   "outputs": [
    {
     "name": "stdout",
     "output_type": "stream",
     "text": [
      "0.9230325187608236\n",
      "0.8692307692307693\n"
     ]
    }
   ],
   "source": [
    "dtc = gs.best_estimator_\n",
    "print(dtc.score(train_input, train_target))\n",
    "print(dtc.score(test_input, test_target))"
   ]
  },
  {
   "cell_type": "markdown",
   "id": "fe67875f",
   "metadata": {},
   "source": [
    "## 랜덤서치(Random Search)"
   ]
  },
  {
   "cell_type": "code",
   "execution_count": 34,
   "id": "59367531",
   "metadata": {},
   "outputs": [],
   "source": [
    "### 랜덤서치 사용 시 아래 조건 만족\n",
    "# - 하이퍼파라미터값이 수치인 것들만 사용\n",
    "# - 범위나 간격을 미리 정하기 어려울 경우\n",
    "# - 너무 많은 매개변수가 있어서 그리드서치 수행시간이 오래 걸리는 경우\n",
    "# - 매개변수를 샘플링할 때 확률분포객체를 전달\n",
    "\n",
    "# 사용 모듈 : uniform(실수값), randint(정수값)"
   ]
  },
  {
   "cell_type": "code",
   "execution_count": 35,
   "id": "2040d682",
   "metadata": {},
   "outputs": [],
   "source": [
    "from scipy.stats import uniform, randint"
   ]
  },
  {
   "cell_type": "code",
   "execution_count": 36,
   "id": "60f6ade0",
   "metadata": {},
   "outputs": [
    {
     "name": "stdout",
     "output_type": "stream",
     "text": [
      "[7 1 4 3 3 0 0 1 7 7 7 4 1 9 9 8 7 5 6 7 5 3 1 6 6 3 4 4 4 4 0 0 8 0 1 4 5\n",
      " 8 4 3 5 3 7 7 2 0 1 5 8 0 9 9 6 0 4 6 7 0 6 6 8 2 0 8 4 1 0 9 1 8 8 4 3 7\n",
      " 3 1 6 7 5 6 1 7 8 6 1 1 6 6 7 9 0 8 5 6 7 3 9 8 9 8]\n"
     ]
    }
   ],
   "source": [
    "### 범위 설정\n",
    "rgen = randint(0, 10)\n",
    "rgen\n",
    "\n",
    "### 범위 내에서 임의값 출력(확률적으로 고르게 뽑아냄)\n",
    "print(rgen.rvs(100))"
   ]
  },
  {
   "cell_type": "code",
   "execution_count": 37,
   "id": "bbdc56ae",
   "metadata": {},
   "outputs": [
    {
     "name": "stdout",
     "output_type": "stream",
     "text": [
      "[0.57009841 0.76952276 0.45310644 0.10347861 0.37213556 0.19192023\n",
      " 0.52721209 0.74768905 0.45284391 0.74091816 0.62128918 0.29896951\n",
      " 0.03135548 0.24054547 0.08306477 0.00107187 0.26929046 0.28310332\n",
      " 0.54777087 0.82531098 0.41708955 0.81991761 0.57152311 0.65714878\n",
      " 0.89675778 0.50674736 0.20449764 0.15297905 0.14505624 0.51398907\n",
      " 0.42708031 0.3390784  0.96817428 0.5710254  0.80258178 0.2982642\n",
      " 0.94971437 0.61771167 0.09403351 0.47581476 0.95301219 0.28683603\n",
      " 0.13583562 0.62434866 0.19276739 0.53745879 0.29746464 0.87581313\n",
      " 0.8558492  0.11128178]\n"
     ]
    }
   ],
   "source": [
    "# 실수값\n",
    "# 범위 설정\n",
    "ugen = uniform(0, 1)\n",
    "\n",
    "# 임의값 50개 조회\n",
    "print(ugen.rvs(50))"
   ]
  },
  {
   "cell_type": "code",
   "execution_count": 38,
   "id": "710cc17c",
   "metadata": {},
   "outputs": [
    {
     "data": {
      "text/html": [
       "<style>#sk-container-id-4 {color: black;background-color: white;}#sk-container-id-4 pre{padding: 0;}#sk-container-id-4 div.sk-toggleable {background-color: white;}#sk-container-id-4 label.sk-toggleable__label {cursor: pointer;display: block;width: 100%;margin-bottom: 0;padding: 0.3em;box-sizing: border-box;text-align: center;}#sk-container-id-4 label.sk-toggleable__label-arrow:before {content: \"▸\";float: left;margin-right: 0.25em;color: #696969;}#sk-container-id-4 label.sk-toggleable__label-arrow:hover:before {color: black;}#sk-container-id-4 div.sk-estimator:hover label.sk-toggleable__label-arrow:before {color: black;}#sk-container-id-4 div.sk-toggleable__content {max-height: 0;max-width: 0;overflow: hidden;text-align: left;background-color: #f0f8ff;}#sk-container-id-4 div.sk-toggleable__content pre {margin: 0.2em;color: black;border-radius: 0.25em;background-color: #f0f8ff;}#sk-container-id-4 input.sk-toggleable__control:checked~div.sk-toggleable__content {max-height: 200px;max-width: 100%;overflow: auto;}#sk-container-id-4 input.sk-toggleable__control:checked~label.sk-toggleable__label-arrow:before {content: \"▾\";}#sk-container-id-4 div.sk-estimator input.sk-toggleable__control:checked~label.sk-toggleable__label {background-color: #d4ebff;}#sk-container-id-4 div.sk-label input.sk-toggleable__control:checked~label.sk-toggleable__label {background-color: #d4ebff;}#sk-container-id-4 input.sk-hidden--visually {border: 0;clip: rect(1px 1px 1px 1px);clip: rect(1px, 1px, 1px, 1px);height: 1px;margin: -1px;overflow: hidden;padding: 0;position: absolute;width: 1px;}#sk-container-id-4 div.sk-estimator {font-family: monospace;background-color: #f0f8ff;border: 1px dotted black;border-radius: 0.25em;box-sizing: border-box;margin-bottom: 0.5em;}#sk-container-id-4 div.sk-estimator:hover {background-color: #d4ebff;}#sk-container-id-4 div.sk-parallel-item::after {content: \"\";width: 100%;border-bottom: 1px solid gray;flex-grow: 1;}#sk-container-id-4 div.sk-label:hover label.sk-toggleable__label {background-color: #d4ebff;}#sk-container-id-4 div.sk-serial::before {content: \"\";position: absolute;border-left: 1px solid gray;box-sizing: border-box;top: 0;bottom: 0;left: 50%;z-index: 0;}#sk-container-id-4 div.sk-serial {display: flex;flex-direction: column;align-items: center;background-color: white;padding-right: 0.2em;padding-left: 0.2em;position: relative;}#sk-container-id-4 div.sk-item {position: relative;z-index: 1;}#sk-container-id-4 div.sk-parallel {display: flex;align-items: stretch;justify-content: center;background-color: white;position: relative;}#sk-container-id-4 div.sk-item::before, #sk-container-id-4 div.sk-parallel-item::before {content: \"\";position: absolute;border-left: 1px solid gray;box-sizing: border-box;top: 0;bottom: 0;left: 50%;z-index: -1;}#sk-container-id-4 div.sk-parallel-item {display: flex;flex-direction: column;z-index: 1;position: relative;background-color: white;}#sk-container-id-4 div.sk-parallel-item:first-child::after {align-self: flex-end;width: 50%;}#sk-container-id-4 div.sk-parallel-item:last-child::after {align-self: flex-start;width: 50%;}#sk-container-id-4 div.sk-parallel-item:only-child::after {width: 0;}#sk-container-id-4 div.sk-dashed-wrapped {border: 1px dashed gray;margin: 0 0.4em 0.5em 0.4em;box-sizing: border-box;padding-bottom: 0.4em;background-color: white;}#sk-container-id-4 div.sk-label label {font-family: monospace;font-weight: bold;display: inline-block;line-height: 1.2em;}#sk-container-id-4 div.sk-label-container {text-align: center;}#sk-container-id-4 div.sk-container {/* jupyter's `normalize.less` sets `[hidden] { display: none; }` but bootstrap.min.css set `[hidden] { display: none !important; }` so we also need the `!important` here to be able to override the default hidden behavior on the sphinx rendered scikit-learn.org. See: https://github.com/scikit-learn/scikit-learn/issues/21755 */display: inline-block !important;position: relative;}#sk-container-id-4 div.sk-text-repr-fallback {display: none;}</style><div id=\"sk-container-id-4\" class=\"sk-top-container\"><div class=\"sk-text-repr-fallback\"><pre>RandomizedSearchCV(estimator=DecisionTreeClassifier(random_state=42),\n",
       "                   n_iter=100, n_jobs=-1,\n",
       "                   param_distributions={&#x27;max_depth&#x27;: &lt;scipy.stats._distn_infrastructure.rv_discrete_frozen object at 0x00000184E38D00D0&gt;,\n",
       "                                        &#x27;min_impurity_decrease&#x27;: &lt;scipy.stats._distn_infrastructure.rv_continuous_frozen object at 0x00000184E38D3100&gt;,\n",
       "                                        &#x27;min_samples_split&#x27;: &lt;scipy.stats._distn_infrastructure.rv_discrete_frozen object at 0x00000184E38D2410&gt;},\n",
       "                   random_state=42)</pre><b>In a Jupyter environment, please rerun this cell to show the HTML representation or trust the notebook. <br />On GitHub, the HTML representation is unable to render, please try loading this page with nbviewer.org.</b></div><div class=\"sk-container\" hidden><div class=\"sk-item sk-dashed-wrapped\"><div class=\"sk-label-container\"><div class=\"sk-label sk-toggleable\"><input class=\"sk-toggleable__control sk-hidden--visually\" id=\"sk-estimator-id-10\" type=\"checkbox\" ><label for=\"sk-estimator-id-10\" class=\"sk-toggleable__label sk-toggleable__label-arrow\">RandomizedSearchCV</label><div class=\"sk-toggleable__content\"><pre>RandomizedSearchCV(estimator=DecisionTreeClassifier(random_state=42),\n",
       "                   n_iter=100, n_jobs=-1,\n",
       "                   param_distributions={&#x27;max_depth&#x27;: &lt;scipy.stats._distn_infrastructure.rv_discrete_frozen object at 0x00000184E38D00D0&gt;,\n",
       "                                        &#x27;min_impurity_decrease&#x27;: &lt;scipy.stats._distn_infrastructure.rv_continuous_frozen object at 0x00000184E38D3100&gt;,\n",
       "                                        &#x27;min_samples_split&#x27;: &lt;scipy.stats._distn_infrastructure.rv_discrete_frozen object at 0x00000184E38D2410&gt;},\n",
       "                   random_state=42)</pre></div></div></div><div class=\"sk-parallel\"><div class=\"sk-parallel-item\"><div class=\"sk-item\"><div class=\"sk-label-container\"><div class=\"sk-label sk-toggleable\"><input class=\"sk-toggleable__control sk-hidden--visually\" id=\"sk-estimator-id-11\" type=\"checkbox\" ><label for=\"sk-estimator-id-11\" class=\"sk-toggleable__label sk-toggleable__label-arrow\">estimator: DecisionTreeClassifier</label><div class=\"sk-toggleable__content\"><pre>DecisionTreeClassifier(random_state=42)</pre></div></div></div><div class=\"sk-serial\"><div class=\"sk-item\"><div class=\"sk-estimator sk-toggleable\"><input class=\"sk-toggleable__control sk-hidden--visually\" id=\"sk-estimator-id-12\" type=\"checkbox\" ><label for=\"sk-estimator-id-12\" class=\"sk-toggleable__label sk-toggleable__label-arrow\">DecisionTreeClassifier</label><div class=\"sk-toggleable__content\"><pre>DecisionTreeClassifier(random_state=42)</pre></div></div></div></div></div></div></div></div></div></div>"
      ],
      "text/plain": [
       "RandomizedSearchCV(estimator=DecisionTreeClassifier(random_state=42),\n",
       "                   n_iter=100, n_jobs=-1,\n",
       "                   param_distributions={'max_depth': <scipy.stats._distn_infrastructure.rv_discrete_frozen object at 0x00000184E38D00D0>,\n",
       "                                        'min_impurity_decrease': <scipy.stats._distn_infrastructure.rv_continuous_frozen object at 0x00000184E38D3100>,\n",
       "                                        'min_samples_split': <scipy.stats._distn_infrastructure.rv_discrete_frozen object at 0x00000184E38D2410>},\n",
       "                   random_state=42)"
      ]
     },
     "execution_count": 38,
     "metadata": {},
     "output_type": "execute_result"
    }
   ],
   "source": [
    "### 하이퍼파라미터 찾을 매개변수 정의하기\n",
    "params = {'min_impurity_decrease' : uniform(0.0001, 0.001),\n",
    "          'max_depth' : randint(20, 50),\n",
    "          'min_samples_split' : randint(2, 25)}\n",
    "\n",
    "# 랜덤서치 클래스(모델) : RandomizedSearchCV()\n",
    "# 사용방법은 그리드서치와 동일\n",
    "# 결정트리 훈련 모델 사용, 훈련반복 횟수 : 100, 코어 전체. 시드 42\n",
    "\n",
    "from sklearn.model_selection import RandomizedSearchCV\n",
    "\n",
    "rs = RandomizedSearchCV(DecisionTreeClassifier(random_state = 42),\n",
    "                 params, n_iter = 100, n_jobs = -1, random_state = 42)\n",
    "\n",
    "rs.fit(train_input, train_target)"
   ]
  },
  {
   "cell_type": "code",
   "execution_count": 39,
   "id": "48d6142b",
   "metadata": {},
   "outputs": [
    {
     "name": "stdout",
     "output_type": "stream",
     "text": [
      "dict_keys(['mean_fit_time', 'std_fit_time', 'mean_score_time', 'std_score_time', 'param_max_depth', 'param_min_impurity_decrease', 'param_min_samples_split', 'params', 'split0_test_score', 'split1_test_score', 'split2_test_score', 'split3_test_score', 'split4_test_score', 'mean_test_score', 'std_test_score', 'rank_test_score'])\n"
     ]
    }
   ],
   "source": [
    "print(rs.cv_results_.keys())"
   ]
  },
  {
   "cell_type": "code",
   "execution_count": 40,
   "id": "4516ccbd",
   "metadata": {},
   "outputs": [
    {
     "data": {
      "text/plain": [
       "array([0.86203543, 0.86203524, 0.86453672, 0.8639598 , 0.86434441,\n",
       "       0.86184534, 0.86280669, 0.86684608, 0.86607592, 0.86203561,\n",
       "       0.85972662, 0.8603054 , 0.86338306, 0.86145813, 0.86222792,\n",
       "       0.86145739, 0.86761605, 0.86261272, 0.86184238, 0.86396109,\n",
       "       0.86453709, 0.86646165, 0.86184312, 0.86665322, 0.86165044,\n",
       "       0.86030484, 0.86299845, 0.86742356, 0.86203543, 0.86838658,\n",
       "       0.86319186, 0.86819334, 0.85799659, 0.86242023, 0.86203561,\n",
       "       0.86299752, 0.86261309, 0.86049733, 0.86857833, 0.86299752,\n",
       "       0.86800085, 0.86203543, 0.8664635 , 0.86415451, 0.86588473,\n",
       "       0.86338362, 0.8678091 , 0.86357611, 0.8624206 , 0.85857315,\n",
       "       0.86203543, 0.86742374, 0.86607629, 0.86838639, 0.86107333,\n",
       "       0.86030466, 0.86203543, 0.86376805, 0.86396146, 0.86954098,\n",
       "       0.86954079, 0.86800104, 0.86145739, 0.86242023, 0.85972662,\n",
       "       0.86261327, 0.86684626, 0.86703913, 0.86472958, 0.86280503,\n",
       "       0.86607814, 0.86530632, 0.86800104, 0.86203543, 0.86088325,\n",
       "       0.86261272, 0.86299826, 0.86242004, 0.86242023, 0.86203543,\n",
       "       0.86222773, 0.86280558, 0.8660787 , 0.85953413, 0.86800104,\n",
       "       0.86145739, 0.86184293, 0.86588491, 0.86184293, 0.86761661,\n",
       "       0.86203543, 0.86203543, 0.86145813, 0.86184275, 0.8620358 ,\n",
       "       0.86299752, 0.86242023, 0.86780873, 0.86299752, 0.86299752])"
      ]
     },
     "execution_count": 40,
     "metadata": {},
     "output_type": "execute_result"
    }
   ],
   "source": [
    "rs.cv_results_['mean_test_score']"
   ]
  },
  {
   "cell_type": "code",
   "execution_count": 41,
   "id": "436d5bfa",
   "metadata": {},
   "outputs": [
    {
     "data": {
      "text/plain": [
       "0.8695409787517583"
      ]
     },
     "execution_count": 41,
     "metadata": {},
     "output_type": "execute_result"
    }
   ],
   "source": [
    "### 훈련 100회 중 가장 큰값이 최종 평가 점수\n",
    "np.max(rs.cv_results_['mean_test_score'])"
   ]
  },
  {
   "cell_type": "code",
   "execution_count": 42,
   "id": "ec5da730",
   "metadata": {},
   "outputs": [
    {
     "name": "stdout",
     "output_type": "stream",
     "text": [
      "DecisionTreeClassifier(max_depth=29, min_impurity_decrease=0.000437615171403628,\n",
      "                       min_samples_split=16, random_state=42)\n",
      "==========================\n",
      "{'max_depth': 29, 'min_impurity_decrease': 0.000437615171403628, 'min_samples_split': 16}\n",
      "==========================\n",
      "0.8895516644217818\n",
      "0.8623076923076923\n"
     ]
    }
   ],
   "source": [
    "dtc = rs.best_estimator_\n",
    "print(dtc)\n",
    "print('==========================')\n",
    "print(rs.best_params_)\n",
    "print('==========================')\n",
    "print(dtc.score(train_input, train_target))\n",
    "print(dtc.score(test_input, test_target))"
   ]
  }
 ],
 "metadata": {
  "kernelspec": {
   "display_name": "ml_kerner",
   "language": "python",
   "name": "ml"
  },
  "language_info": {
   "codemirror_mode": {
    "name": "ipython",
    "version": 3
   },
   "file_extension": ".py",
   "mimetype": "text/x-python",
   "name": "python",
   "nbconvert_exporter": "python",
   "pygments_lexer": "ipython3",
   "version": "3.10.5"
  }
 },
 "nbformat": 4,
 "nbformat_minor": 5
}
